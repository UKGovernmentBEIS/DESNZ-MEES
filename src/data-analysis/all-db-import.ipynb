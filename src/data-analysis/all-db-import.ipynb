{
 "cells": [
  {
   "cell_type": "code",
   "id": "initial_id",
   "metadata": {
    "collapsed": true,
    "ExecuteTime": {
     "end_time": "2024-09-17T17:54:26.606898Z",
     "start_time": "2024-09-17T17:54:25.859263Z"
    }
   },
   "source": [
    "import polars as pl\n",
    "from dotenv import load_dotenv\n",
    "import os\n",
    "from datetime import datetime\n",
    "load_dotenv()"
   ],
   "outputs": [
    {
     "data": {
      "text/plain": [
       "True"
      ]
     },
     "execution_count": 1,
     "metadata": {},
     "output_type": "execute_result"
    }
   ],
   "execution_count": 1
  },
  {
   "metadata": {
    "ExecuteTime": {
     "end_time": "2024-09-17T17:54:28.711799Z",
     "start_time": "2024-09-17T17:54:28.708968Z"
    }
   },
   "cell_type": "code",
   "source": [
    "# config to load OS\n",
    "output_folder = os.getenv('OUTPUTS_FOLDER')\n",
    "parquet_file_names = os.listdir(output_folder)"
   ],
   "id": "d07cb5d7b7f793c7",
   "outputs": [],
   "execution_count": 2
  },
  {
   "metadata": {
    "ExecuteTime": {
     "end_time": "2024-09-17T19:48:39.423750Z",
     "start_time": "2024-09-17T19:14:16.859721Z"
    }
   },
   "cell_type": "code",
   "source": [
    "# read each file and assign to a db table\n",
    "for file_name in parquet_file_names:\n",
    "    extn = file_name.split('.')[1]\n",
    "    if extn != 'parquet': continue\n",
    "    \n",
    "    # use this for updating a single file\n",
    "    # if file_name != 'hmlr-poly-title-to-uprn.parquet': continue\n",
    "    if not file_name.startswith('os_'): continue\n",
    "    \n",
    "    print(f'file_name: [{file_name}], time: [{datetime.now().strftime(\"%H:%M:%S\")}]')\n",
    "    temp_df = pl.read_parquet(f'{output_folder}/{file_name}')\n",
    "\n",
    "    # write to db\n",
    "    table_name = file_name.split('.')[0]\n",
    "    print(f'writing dataframe to table: {table_name}')\n",
    "    temp_df.write_database(\n",
    "        table_name=table_name,\n",
    "        connection=os.getenv('DB_CONNECTION'),\n",
    "        if_table_exists='replace',\n",
    "        engine='adbc'\n",
    "    )\n",
    "    # https://arrow.apache.org/adbc/0.3.0/python/api/adbc_driver_manager.html#adbc_driver_manager.dbapi.Cursor.adbc_ingest\n",
    "\n",
    "print('done')"
   ],
   "id": "8422538183969daa",
   "outputs": [
    {
     "name": "stdout",
     "output_type": "stream",
     "text": [
      "file_name: [os_recordtype_23.parquet], time: [20:14:16]\n",
      "writing dataframe to table: os_recordtype_23\n",
      "file_name: [os_recordtype_32.parquet], time: [20:20:43]\n",
      "writing dataframe to table: os_recordtype_32\n",
      "file_name: [os_recordtype_31.parquet], time: [20:30:29]\n",
      "writing dataframe to table: os_recordtype_31\n",
      "file_name: [os_recordtype_21.parquet], time: [20:31:53]\n",
      "writing dataframe to table: os_recordtype_21\n",
      "file_name: [os_recordtype_28.parquet], time: [20:38:28]\n",
      "writing dataframe to table: os_recordtype_28\n",
      "file_name: [os_recordtype_24.parquet], time: [20:41:12]\n",
      "writing dataframe to table: os_recordtype_24\n",
      "done\n"
     ]
    }
   ],
   "execution_count": 4
  },
  {
   "metadata": {},
   "cell_type": "code",
   "outputs": [],
   "execution_count": null,
   "source": "",
   "id": "a4d43032febe044"
  }
 ],
 "metadata": {
  "kernelspec": {
   "display_name": "Python 3",
   "language": "python",
   "name": "python3"
  },
  "language_info": {
   "codemirror_mode": {
    "name": "ipython",
    "version": 2
   },
   "file_extension": ".py",
   "mimetype": "text/x-python",
   "name": "python",
   "nbconvert_exporter": "python",
   "pygments_lexer": "ipython2",
   "version": "2.7.6"
  }
 },
 "nbformat": 4,
 "nbformat_minor": 5
}
