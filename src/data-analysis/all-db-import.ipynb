{
 "cells": [
  {
   "cell_type": "code",
   "id": "initial_id",
   "metadata": {
    "collapsed": true,
    "ExecuteTime": {
     "end_time": "2024-09-10T12:53:07.183735Z",
     "start_time": "2024-09-10T12:53:07.177877Z"
    }
   },
   "source": [
    "import polars as pl\n",
    "from dotenv import load_dotenv\n",
    "import os\n",
    "from datetime import datetime\n",
    "load_dotenv()"
   ],
   "outputs": [
    {
     "data": {
      "text/plain": [
       "True"
      ]
     },
     "execution_count": 4,
     "metadata": {},
     "output_type": "execute_result"
    }
   ],
   "execution_count": 4
  },
  {
   "metadata": {
    "ExecuteTime": {
     "end_time": "2024-09-10T12:56:40.596214Z",
     "start_time": "2024-09-10T12:56:40.593471Z"
    }
   },
   "cell_type": "code",
   "source": [
    "# config to load OS\n",
    "output_folder = os.getenv('OUTPUTS_FOLDER')\n",
    "parquet_file_names = os.listdir(output_folder)"
   ],
   "id": "d07cb5d7b7f793c7",
   "outputs": [],
   "execution_count": 8
  },
  {
   "metadata": {
    "ExecuteTime": {
     "end_time": "2024-09-10T13:13:43.960438Z",
     "start_time": "2024-09-10T13:12:07.909304Z"
    }
   },
   "cell_type": "code",
   "source": [
    "# read each file and assign to a db table\n",
    "for file_name in parquet_file_names:\n",
    "    extn = file_name.split('.')[1]\n",
    "    if extn != 'parquet': continue\n",
    "    \n",
    "    print(f'file_name: [{file_name}], time: [{datetime.now().strftime(\"%H:%M:%S\")}]')\n",
    "    temp_df = pl.read_parquet(f'{output_folder}/{file_name}')\n",
    "\n",
    "    # write to db\n",
    "    table_name = file_name.split('.')[0]\n",
    "    print(f'writing dataframe to table: {table_name}')\n",
    "    temp_df.write_database(\n",
    "        table_name=table_name,\n",
    "        connection=os.getenv('DB_CONNECTION'),\n",
    "        if_table_exists='replace',\n",
    "        engine='adbc'\n",
    "    )\n",
    "    # https://arrow.apache.org/adbc/0.3.0/python/api/adbc_driver_manager.html#adbc_driver_manager.dbapi.Cursor.adbc_ingest\n",
    "\n",
    "print('done')"
   ],
   "id": "8422538183969daa",
   "outputs": [
    {
     "name": "stdout",
     "output_type": "stream",
     "text": [
      "file_name: [os_recordtype_23.parquet], time: [14:12:07]\n",
      "writing dataframe to table: os_recordtype_23\n",
      "file_name: [epc-non-domestic.parquet], time: [14:12:10]\n",
      "writing dataframe to table: epc-non-domestic\n",
      "file_name: [hmlr-ocod.parquet], time: [14:12:15]\n",
      "writing dataframe to table: hmlr-ocod\n",
      "file_name: [os_recordtype_32.parquet], time: [14:12:16]\n",
      "writing dataframe to table: os_recordtype_32\n",
      "file_name: [voa-business-rates.parquet], time: [14:12:25]\n",
      "writing dataframe to table: voa-business-rates\n",
      "file_name: [epc-to-uprn.parquet], time: [14:12:31]\n",
      "writing dataframe to table: epc-to-uprn\n",
      "file_name: [os_recordtype_31.parquet], time: [14:12:32]\n",
      "writing dataframe to table: os_recordtype_31\n",
      "file_name: [os_recordtype_21.parquet], time: [14:12:33]\n",
      "writing dataframe to table: os_recordtype_21\n",
      "file_name: [os_recordtype_28.parquet], time: [14:12:41]\n",
      "writing dataframe to table: os_recordtype_28\n",
      "file_name: [hmlr-ccod.parquet], time: [14:12:44]\n",
      "writing dataframe to table: hmlr-ccod\n",
      "file_name: [os_recordtype_24.parquet], time: [14:13:00]\n",
      "writing dataframe to table: os_recordtype_24\n",
      "file_name: [ch-company.parquet], time: [14:13:09]\n",
      "writing dataframe to table: ch-company\n",
      "file_name: [hmlr-poly-title-to-uprn.parquet], time: [14:13:42]\n",
      "writing dataframe to table: hmlr-poly-title-to-uprn\n",
      "done\n"
     ]
    }
   ],
   "execution_count": 11
  },
  {
   "metadata": {},
   "cell_type": "code",
   "outputs": [],
   "execution_count": null,
   "source": "",
   "id": "a4d43032febe044"
  }
 ],
 "metadata": {
  "kernelspec": {
   "display_name": "Python 3",
   "language": "python",
   "name": "python3"
  },
  "language_info": {
   "codemirror_mode": {
    "name": "ipython",
    "version": 2
   },
   "file_extension": ".py",
   "mimetype": "text/x-python",
   "name": "python",
   "nbconvert_exporter": "python",
   "pygments_lexer": "ipython2",
   "version": "2.7.6"
  }
 },
 "nbformat": 4,
 "nbformat_minor": 5
}
