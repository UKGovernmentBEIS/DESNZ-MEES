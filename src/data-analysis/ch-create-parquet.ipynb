{
 "cells": [
  {
   "cell_type": "code",
   "id": "initial_id",
   "metadata": {
    "collapsed": true,
    "ExecuteTime": {
     "end_time": "2024-09-06T14:10:57.592145Z",
     "start_time": "2024-09-06T14:10:57.559342Z"
    }
   },
   "source": [
    "import polars as pl\n",
    "from dotenv import load_dotenv\n",
    "import os\n",
    "\n",
    "load_dotenv()"
   ],
   "outputs": [
    {
     "data": {
      "text/plain": [
       "True"
      ]
     },
     "execution_count": 1,
     "metadata": {},
     "output_type": "execute_result"
    }
   ],
   "execution_count": 1
  },
  {
   "metadata": {
    "ExecuteTime": {
     "end_time": "2024-09-06T14:10:59.579555Z",
     "start_time": "2024-09-06T14:10:58.016961Z"
    }
   },
   "cell_type": "code",
   "source": [
    "ch_zip_file_name = os.getenv('CH_OUTPUT_FILE')\n",
    "ch_file_root = ch_zip_file_name.replace('.zip', '')\n",
    "df_ch =  pl.read_csv(f'{os.getenv(\"DOWNLOADS_FOLDER\")}/{ch_file_root}/{ch_file_root}.csv')"
   ],
   "id": "66769f169f5cb2bc",
   "outputs": [],
   "execution_count": 2
  },
  {
   "metadata": {
    "ExecuteTime": {
     "end_time": "2024-09-06T14:11:04.677375Z",
     "start_time": "2024-09-06T14:11:01.337733Z"
    }
   },
   "cell_type": "code",
   "source": [
    "output_folder = os.getenv('OUTPUTS_FOLDER')\n",
    "os.makedirs(output_folder, exist_ok=True)\n",
    "df_ch.write_parquet(f'{output_folder}/ch-company.parquet')"
   ],
   "id": "3625996eeb8138fe",
   "outputs": [],
   "execution_count": 3
  },
  {
   "metadata": {},
   "cell_type": "code",
   "outputs": [],
   "execution_count": null,
   "source": "",
   "id": "aebbb9cdadb878a4"
  }
 ],
 "metadata": {
  "kernelspec": {
   "display_name": "Python 3",
   "language": "python",
   "name": "python3"
  },
  "language_info": {
   "codemirror_mode": {
    "name": "ipython",
    "version": 2
   },
   "file_extension": ".py",
   "mimetype": "text/x-python",
   "name": "python",
   "nbconvert_exporter": "python",
   "pygments_lexer": "ipython2",
   "version": "2.7.6"
  }
 },
 "nbformat": 4,
 "nbformat_minor": 5
}
