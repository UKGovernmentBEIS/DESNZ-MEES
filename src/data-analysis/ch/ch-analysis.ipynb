{
 "cells": [
  {
   "metadata": {
    "ExecuteTime": {
     "end_time": "2024-08-22T10:35:14.013002Z",
     "start_time": "2024-08-22T10:35:13.897753Z"
    }
   },
   "cell_type": "code",
   "source": [
    "import polars as pl\n",
    "import numpy as np\n",
    "from dotenv import load_dotenv\n",
    "import os\n",
    "from datetime import datetime"
   ],
   "id": "eab9c55987766a53",
   "outputs": [],
   "execution_count": 1
  },
  {
   "metadata": {
    "ExecuteTime": {
     "end_time": "2024-08-22T10:35:21.142817Z",
     "start_time": "2024-08-22T10:35:17.642024Z"
    }
   },
   "cell_type": "code",
   "source": [
    "load_dotenv()\n",
    "ch_zip_file_name = os.getenv('CH_OUTPUT_FILE')\n",
    "ch_file_root = ch_zip_file_name.replace('.zip', '')\n",
    "df_ch =  pl.read_csv(f'{os.getenv(\"DOWNLOADS_FOLDER\")}/{ch_file_root}/{ch_file_root}.csv')"
   ],
   "id": "5cc8d50ddd6842c1",
   "outputs": [],
   "execution_count": 2
  },
  {
   "metadata": {
    "ExecuteTime": {
     "end_time": "2024-08-22T10:37:36.543247Z",
     "start_time": "2024-08-22T10:37:36.539254Z"
    }
   },
   "cell_type": "code",
   "source": "len(df_ch)  # 5,621,958",
   "id": "45fe4df7e282658c",
   "outputs": [
    {
     "data": {
      "text/plain": [
       "5621958"
      ]
     },
     "execution_count": 4,
     "metadata": {},
     "output_type": "execute_result"
    }
   ],
   "execution_count": 4
  },
  {
   "metadata": {
    "ExecuteTime": {
     "end_time": "2024-08-22T11:37:32.468763Z",
     "start_time": "2024-08-22T11:37:32.461826Z"
    }
   },
   "cell_type": "code",
   "source": "df_ch.head(10)",
   "id": "1f9e3ad777dfd51d",
   "outputs": [
    {
     "data": {
      "text/plain": [
       "shape: (10, 55)\n",
       "┌───────────┬───────────┬───────────┬───────────┬───┬───────────┬───────────┬───────────┬──────────┐\n",
       "│ CompanyNa ┆ CompanyNu ┆ RegAddres ┆ RegAddres ┆ … ┆ PreviousN ┆ PreviousN ┆ ConfStmtN ┆ ConfStmt │\n",
       "│ me        ┆ mber      ┆ s.CareOf  ┆ s.POBox   ┆   ┆ ame_10.CO ┆ ame_10.Co ┆ extDueDat ┆ LastMade │\n",
       "│ ---       ┆ ---       ┆ ---       ┆ ---       ┆   ┆ NDATE     ┆ mpanyName ┆ e         ┆ UpDate   │\n",
       "│ str       ┆ str       ┆ str       ┆ str       ┆   ┆ ---       ┆ ---       ┆ ---       ┆ ---      │\n",
       "│           ┆           ┆           ┆           ┆   ┆ str       ┆ str       ┆ str       ┆ str      │\n",
       "╞═══════════╪═══════════╪═══════════╪═══════════╪═══╪═══════════╪═══════════╪═══════════╪══════════╡\n",
       "│ ! LTD     ┆ 08209948  ┆           ┆           ┆ … ┆           ┆           ┆ 25/09/202 ┆ 11/09/20 │\n",
       "│           ┆           ┆           ┆           ┆   ┆           ┆           ┆ 4         ┆ 23       │\n",
       "│ !? LTD    ┆ 11399177  ┆           ┆           ┆ … ┆           ┆           ┆ 19/06/202 ┆ 05/06/20 │\n",
       "│           ┆           ┆           ┆           ┆   ┆           ┆           ┆ 4         ┆ 23       │\n",
       "│ !BIG      ┆ 11743365  ┆           ┆           ┆ … ┆           ┆           ┆ 29/12/202 ┆ 15/12/20 │\n",
       "│ IMPACT    ┆           ┆           ┆           ┆   ┆           ┆           ┆ 4         ┆ 23       │\n",
       "│ GRAPHICS  ┆           ┆           ┆           ┆   ┆           ┆           ┆           ┆          │\n",
       "│ LIMITED   ┆           ┆           ┆           ┆   ┆           ┆           ┆           ┆          │\n",
       "│ !GOBERUB  ┆ 13404790  ┆           ┆           ┆ … ┆           ┆           ┆ 29/05/202 ┆ 15/05/20 │\n",
       "│ LTD       ┆           ┆           ┆           ┆   ┆           ┆           ┆ 4         ┆ 23       │\n",
       "│ !NFLECTIO ┆ 15073164  ┆           ┆           ┆ … ┆           ┆           ┆ 28/08/202 ┆          │\n",
       "│ N         ┆           ┆           ┆           ┆   ┆           ┆           ┆ 4         ┆          │\n",
       "│ ADVISORY  ┆           ┆           ┆           ┆   ┆           ┆           ┆           ┆          │\n",
       "│ LIMITED   ┆           ┆           ┆           ┆   ┆           ┆           ┆           ┆          │\n",
       "│ !NFOGENIE ┆ 13522064  ┆           ┆           ┆ … ┆           ┆           ┆ 03/08/202 ┆ 20/07/20 │\n",
       "│ LTD       ┆           ┆           ┆           ┆   ┆           ┆           ┆ 4         ┆ 23       │\n",
       "│ !NK MEDIA ┆ 15801429  ┆           ┆           ┆ … ┆           ┆           ┆ 08/07/202 ┆          │\n",
       "│ LIMITED   ┆           ┆           ┆           ┆   ┆           ┆           ┆ 5         ┆          │\n",
       "│ !NNOV8    ┆ 11006939  ┆           ┆           ┆ … ┆           ┆           ┆ 24/10/202 ┆ 10/10/20 │\n",
       "│ LIMITED   ┆           ┆           ┆           ┆   ┆           ┆           ┆ 4         ┆ 23       │\n",
       "│ !NNOVATIO ┆ 15431491  ┆           ┆           ┆ … ┆           ┆           ┆ 04/02/202 ┆          │\n",
       "│ N LAB LTD ┆           ┆           ┆           ┆   ┆           ┆           ┆ 5         ┆          │\n",
       "│ !NSPIRED  ┆ SC606050  ┆           ┆           ┆ … ┆           ┆           ┆ 12/02/202 ┆ 29/01/20 │\n",
       "│ INVESTMEN ┆           ┆           ┆           ┆   ┆           ┆           ┆ 5         ┆ 24       │\n",
       "│ TS LTD    ┆           ┆           ┆           ┆   ┆           ┆           ┆           ┆          │\n",
       "└───────────┴───────────┴───────────┴───────────┴───┴───────────┴───────────┴───────────┴──────────┘"
      ],
      "text/html": [
       "<div><style>\n",
       ".dataframe > thead > tr,\n",
       ".dataframe > tbody > tr {\n",
       "  text-align: right;\n",
       "  white-space: pre-wrap;\n",
       "}\n",
       "</style>\n",
       "<small>shape: (10, 55)</small><table border=\"1\" class=\"dataframe\"><thead><tr><th>CompanyName</th><th> CompanyNumber</th><th>RegAddress.CareOf</th><th>RegAddress.POBox</th><th>RegAddress.AddressLine1</th><th> RegAddress.AddressLine2</th><th>RegAddress.PostTown</th><th>RegAddress.County</th><th>RegAddress.Country</th><th>RegAddress.PostCode</th><th>CompanyCategory</th><th>CompanyStatus</th><th>CountryOfOrigin</th><th>DissolutionDate</th><th>IncorporationDate</th><th>Accounts.AccountRefDay</th><th>Accounts.AccountRefMonth</th><th>Accounts.NextDueDate</th><th>Accounts.LastMadeUpDate</th><th>Accounts.AccountCategory</th><th>Returns.NextDueDate</th><th>Returns.LastMadeUpDate</th><th>Mortgages.NumMortCharges</th><th>Mortgages.NumMortOutstanding</th><th>Mortgages.NumMortPartSatisfied</th><th>Mortgages.NumMortSatisfied</th><th>SICCode.SicText_1</th><th>SICCode.SicText_2</th><th>SICCode.SicText_3</th><th>SICCode.SicText_4</th><th>LimitedPartnerships.NumGenPartners</th><th>LimitedPartnerships.NumLimPartners</th><th>URI</th><th>PreviousName_1.CONDATE</th><th> PreviousName_1.CompanyName</th><th> PreviousName_2.CONDATE</th><th> PreviousName_2.CompanyName</th><th>PreviousName_3.CONDATE</th><th> PreviousName_3.CompanyName</th><th>PreviousName_4.CONDATE</th><th> PreviousName_4.CompanyName</th><th>PreviousName_5.CONDATE</th><th> PreviousName_5.CompanyName</th><th>PreviousName_6.CONDATE</th><th> PreviousName_6.CompanyName</th><th>PreviousName_7.CONDATE</th><th> PreviousName_7.CompanyName</th><th>PreviousName_8.CONDATE</th><th> PreviousName_8.CompanyName</th><th>PreviousName_9.CONDATE</th><th> PreviousName_9.CompanyName</th><th>PreviousName_10.CONDATE</th><th> PreviousName_10.CompanyName</th><th>ConfStmtNextDueDate</th><th> ConfStmtLastMadeUpDate</th></tr><tr><td>str</td><td>str</td><td>str</td><td>str</td><td>str</td><td>str</td><td>str</td><td>str</td><td>str</td><td>str</td><td>str</td><td>str</td><td>str</td><td>str</td><td>str</td><td>str</td><td>str</td><td>str</td><td>str</td><td>str</td><td>str</td><td>str</td><td>i64</td><td>i64</td><td>i64</td><td>i64</td><td>str</td><td>str</td><td>str</td><td>str</td><td>i64</td><td>i64</td><td>str</td><td>str</td><td>str</td><td>str</td><td>str</td><td>str</td><td>str</td><td>str</td><td>str</td><td>str</td><td>str</td><td>str</td><td>str</td><td>str</td><td>str</td><td>str</td><td>str</td><td>str</td><td>str</td><td>str</td><td>str</td><td>str</td><td>str</td></tr></thead><tbody><tr><td>&quot;! LTD&quot;</td><td>&quot;08209948&quot;</td><td>&quot;&quot;</td><td>&quot;&quot;</td><td>&quot;9 PRINCES SQUARE&quot;</td><td>&quot;&quot;</td><td>&quot;HARROGATE&quot;</td><td>&quot;&quot;</td><td>&quot;ENGLAND&quot;</td><td>&quot;HG1 1ND&quot;</td><td>&quot;Private Limited Company&quot;</td><td>&quot;Active&quot;</td><td>&quot;United Kingdom&quot;</td><td>&quot;&quot;</td><td>&quot;11/09/2012&quot;</td><td>&quot;30&quot;</td><td>&quot;9&quot;</td><td>&quot;30/06/2025&quot;</td><td>&quot;30/09/2023&quot;</td><td>&quot;DORMANT&quot;</td><td>&quot;09/10/2016&quot;</td><td>&quot;11/09/2015&quot;</td><td>0</td><td>0</td><td>0</td><td>0</td><td>&quot;99999 - Dormant Company&quot;</td><td>&quot;&quot;</td><td>&quot;&quot;</td><td>&quot;&quot;</td><td>0</td><td>0</td><td>&quot;http://business.data.gov.uk/id…</td><td>&quot;&quot;</td><td>&quot;&quot;</td><td>&quot;&quot;</td><td>&quot;&quot;</td><td>&quot;&quot;</td><td>&quot;&quot;</td><td>&quot;&quot;</td><td>&quot;&quot;</td><td>&quot;&quot;</td><td>&quot;&quot;</td><td>&quot;&quot;</td><td>&quot;&quot;</td><td>&quot;&quot;</td><td>&quot;&quot;</td><td>&quot;&quot;</td><td>&quot;&quot;</td><td>&quot;&quot;</td><td>&quot;&quot;</td><td>&quot;&quot;</td><td>&quot;&quot;</td><td>&quot;25/09/2024&quot;</td><td>&quot;11/09/2023&quot;</td></tr><tr><td>&quot;!? LTD&quot;</td><td>&quot;11399177&quot;</td><td>&quot;&quot;</td><td>&quot;&quot;</td><td>&quot;THE STUDIO HATHERLOW HOUSE&quot;</td><td>&quot;HATHERLOW&quot;</td><td>&quot;ROMILEY&quot;</td><td>&quot;&quot;</td><td>&quot;UNITED KINGDOM&quot;</td><td>&quot;SK6 3DY&quot;</td><td>&quot;Private Limited Company&quot;</td><td>&quot;Active&quot;</td><td>&quot;United Kingdom&quot;</td><td>&quot;&quot;</td><td>&quot;05/06/2018&quot;</td><td>&quot;30&quot;</td><td>&quot;6&quot;</td><td>&quot;31/03/2025&quot;</td><td>&quot;30/06/2023&quot;</td><td>&quot;TOTAL EXEMPTION FULL&quot;</td><td>&quot;03/07/2019&quot;</td><td>&quot;&quot;</td><td>0</td><td>0</td><td>0</td><td>0</td><td>&quot;47710 - Retail sale of clothin…</td><td>&quot;&quot;</td><td>&quot;&quot;</td><td>&quot;&quot;</td><td>0</td><td>0</td><td>&quot;http://business.data.gov.uk/id…</td><td>&quot;&quot;</td><td>&quot;&quot;</td><td>&quot;&quot;</td><td>&quot;&quot;</td><td>&quot;&quot;</td><td>&quot;&quot;</td><td>&quot;&quot;</td><td>&quot;&quot;</td><td>&quot;&quot;</td><td>&quot;&quot;</td><td>&quot;&quot;</td><td>&quot;&quot;</td><td>&quot;&quot;</td><td>&quot;&quot;</td><td>&quot;&quot;</td><td>&quot;&quot;</td><td>&quot;&quot;</td><td>&quot;&quot;</td><td>&quot;&quot;</td><td>&quot;&quot;</td><td>&quot;19/06/2024&quot;</td><td>&quot;05/06/2023&quot;</td></tr><tr><td>&quot;!BIG IMPACT GRAPHICS LIMITED&quot;</td><td>&quot;11743365&quot;</td><td>&quot;&quot;</td><td>&quot;&quot;</td><td>&quot;372 OLD STREET&quot;</td><td>&quot;335 ROSDEN HOUSE&quot;</td><td>&quot;LONDON&quot;</td><td>&quot;&quot;</td><td>&quot;UNITED KINGDOM&quot;</td><td>&quot;EC1V 9LT&quot;</td><td>&quot;Private Limited Company&quot;</td><td>&quot;Active&quot;</td><td>&quot;United Kingdom&quot;</td><td>&quot;&quot;</td><td>&quot;28/12/2018&quot;</td><td>&quot;31&quot;</td><td>&quot;12&quot;</td><td>&quot;30/09/2024&quot;</td><td>&quot;31/12/2022&quot;</td><td>&quot;DORMANT&quot;</td><td>&quot;25/01/2020&quot;</td><td>&quot;&quot;</td><td>0</td><td>0</td><td>0</td><td>0</td><td>&quot;18129 - Printing n.e.c.&quot;</td><td>&quot;59112 - Video production activ…</td><td>&quot;63120 - Web portals&quot;</td><td>&quot;74201 - Portrait photographic …</td><td>0</td><td>0</td><td>&quot;http://business.data.gov.uk/id…</td><td>&quot;&quot;</td><td>&quot;&quot;</td><td>&quot;&quot;</td><td>&quot;&quot;</td><td>&quot;&quot;</td><td>&quot;&quot;</td><td>&quot;&quot;</td><td>&quot;&quot;</td><td>&quot;&quot;</td><td>&quot;&quot;</td><td>&quot;&quot;</td><td>&quot;&quot;</td><td>&quot;&quot;</td><td>&quot;&quot;</td><td>&quot;&quot;</td><td>&quot;&quot;</td><td>&quot;&quot;</td><td>&quot;&quot;</td><td>&quot;&quot;</td><td>&quot;&quot;</td><td>&quot;29/12/2024&quot;</td><td>&quot;15/12/2023&quot;</td></tr><tr><td>&quot;!GOBERUB LTD&quot;</td><td>&quot;13404790&quot;</td><td>&quot;&quot;</td><td>&quot;&quot;</td><td>&quot;13 SOUTHMILL ROAD&quot;</td><td>&quot;&quot;</td><td>&quot;BISHOP&#x27;S STORTFORD&quot;</td><td>&quot;HERTFORDSHIRE&quot;</td><td>&quot;ENGLAND&quot;</td><td>&quot;CM23 3FR&quot;</td><td>&quot;Private Limited Company&quot;</td><td>&quot;Active&quot;</td><td>&quot;United Kingdom&quot;</td><td>&quot;&quot;</td><td>&quot;17/05/2021&quot;</td><td>&quot;31&quot;</td><td>&quot;12&quot;</td><td>&quot;30/09/2025&quot;</td><td>&quot;31/12/2023&quot;</td><td>&quot;MICRO ENTITY&quot;</td><td>&quot;14/06/2022&quot;</td><td>&quot;&quot;</td><td>0</td><td>0</td><td>0</td><td>0</td><td>&quot;62020 - Information technology…</td><td>&quot;70229 - Management consultancy…</td><td>&quot;79110 - Travel agency activiti…</td><td>&quot;&quot;</td><td>0</td><td>0</td><td>&quot;http://business.data.gov.uk/id…</td><td>&quot;&quot;</td><td>&quot;&quot;</td><td>&quot;&quot;</td><td>&quot;&quot;</td><td>&quot;&quot;</td><td>&quot;&quot;</td><td>&quot;&quot;</td><td>&quot;&quot;</td><td>&quot;&quot;</td><td>&quot;&quot;</td><td>&quot;&quot;</td><td>&quot;&quot;</td><td>&quot;&quot;</td><td>&quot;&quot;</td><td>&quot;&quot;</td><td>&quot;&quot;</td><td>&quot;&quot;</td><td>&quot;&quot;</td><td>&quot;&quot;</td><td>&quot;&quot;</td><td>&quot;29/05/2024&quot;</td><td>&quot;15/05/2023&quot;</td></tr><tr><td>&quot;!NFLECTION ADVISORY LIMITED&quot;</td><td>&quot;15073164&quot;</td><td>&quot;&quot;</td><td>&quot;&quot;</td><td>&quot;52 MEADWAY&quot;</td><td>&quot;&quot;</td><td>&quot;BARNET&quot;</td><td>&quot;&quot;</td><td>&quot;UNITED KINGDOM&quot;</td><td>&quot;EN5 5LB&quot;</td><td>&quot;Private Limited Company&quot;</td><td>&quot;Active&quot;</td><td>&quot;United Kingdom&quot;</td><td>&quot;&quot;</td><td>&quot;15/08/2023&quot;</td><td>&quot;31&quot;</td><td>&quot;8&quot;</td><td>&quot;15/05/2025&quot;</td><td>&quot;&quot;</td><td>&quot;NO ACCOUNTS FILED&quot;</td><td>&quot;12/09/2024&quot;</td><td>&quot;&quot;</td><td>0</td><td>0</td><td>0</td><td>0</td><td>&quot;70229 - Management consultancy…</td><td>&quot;&quot;</td><td>&quot;&quot;</td><td>&quot;&quot;</td><td>0</td><td>0</td><td>&quot;http://business.data.gov.uk/id…</td><td>&quot;&quot;</td><td>&quot;&quot;</td><td>&quot;&quot;</td><td>&quot;&quot;</td><td>&quot;&quot;</td><td>&quot;&quot;</td><td>&quot;&quot;</td><td>&quot;&quot;</td><td>&quot;&quot;</td><td>&quot;&quot;</td><td>&quot;&quot;</td><td>&quot;&quot;</td><td>&quot;&quot;</td><td>&quot;&quot;</td><td>&quot;&quot;</td><td>&quot;&quot;</td><td>&quot;&quot;</td><td>&quot;&quot;</td><td>&quot;&quot;</td><td>&quot;&quot;</td><td>&quot;28/08/2024&quot;</td><td>&quot;&quot;</td></tr><tr><td>&quot;!NFOGENIE LTD&quot;</td><td>&quot;13522064&quot;</td><td>&quot;&quot;</td><td>&quot;&quot;</td><td>&quot;71-75 SHELTON STREET&quot;</td><td>&quot;&quot;</td><td>&quot;LONDON&quot;</td><td>&quot;GREATER LONDON&quot;</td><td>&quot;UNITED KINGDOM&quot;</td><td>&quot;WC2H 9JQ&quot;</td><td>&quot;Private Limited Company&quot;</td><td>&quot;Active&quot;</td><td>&quot;United Kingdom&quot;</td><td>&quot;&quot;</td><td>&quot;21/07/2021&quot;</td><td>&quot;31&quot;</td><td>&quot;7&quot;</td><td>&quot;30/04/2025&quot;</td><td>&quot;31/07/2023&quot;</td><td>&quot;MICRO ENTITY&quot;</td><td>&quot;18/08/2022&quot;</td><td>&quot;&quot;</td><td>0</td><td>0</td><td>0</td><td>0</td><td>&quot;58290 - Other software publish…</td><td>&quot;&quot;</td><td>&quot;&quot;</td><td>&quot;&quot;</td><td>0</td><td>0</td><td>&quot;http://business.data.gov.uk/id…</td><td>&quot;&quot;</td><td>&quot;&quot;</td><td>&quot;&quot;</td><td>&quot;&quot;</td><td>&quot;&quot;</td><td>&quot;&quot;</td><td>&quot;&quot;</td><td>&quot;&quot;</td><td>&quot;&quot;</td><td>&quot;&quot;</td><td>&quot;&quot;</td><td>&quot;&quot;</td><td>&quot;&quot;</td><td>&quot;&quot;</td><td>&quot;&quot;</td><td>&quot;&quot;</td><td>&quot;&quot;</td><td>&quot;&quot;</td><td>&quot;&quot;</td><td>&quot;&quot;</td><td>&quot;03/08/2024&quot;</td><td>&quot;20/07/2023&quot;</td></tr><tr><td>&quot;!NK MEDIA LIMITED&quot;</td><td>&quot;15801429&quot;</td><td>&quot;&quot;</td><td>&quot;&quot;</td><td>&quot;85 GREAT PORTLAND STREET, FIRS…</td><td>&quot;FIRST FLOOR&quot;</td><td>&quot;LONDON&quot;</td><td>&quot;&quot;</td><td>&quot;ENGLAND&quot;</td><td>&quot;W1W 7LT&quot;</td><td>&quot;Private Limited Company&quot;</td><td>&quot;Active&quot;</td><td>&quot;United Kingdom&quot;</td><td>&quot;&quot;</td><td>&quot;25/06/2024&quot;</td><td>&quot;30&quot;</td><td>&quot;6&quot;</td><td>&quot;25/03/2026&quot;</td><td>&quot;&quot;</td><td>&quot;NO ACCOUNTS FILED&quot;</td><td>&quot;23/07/2025&quot;</td><td>&quot;&quot;</td><td>0</td><td>0</td><td>0</td><td>0</td><td>&quot;59112 - Video production activ…</td><td>&quot;59120 - Motion picture, video …</td><td>&quot;60200 - Television programming…</td><td>&quot;&quot;</td><td>0</td><td>0</td><td>&quot;http://business.data.gov.uk/id…</td><td>&quot;&quot;</td><td>&quot;&quot;</td><td>&quot;&quot;</td><td>&quot;&quot;</td><td>&quot;&quot;</td><td>&quot;&quot;</td><td>&quot;&quot;</td><td>&quot;&quot;</td><td>&quot;&quot;</td><td>&quot;&quot;</td><td>&quot;&quot;</td><td>&quot;&quot;</td><td>&quot;&quot;</td><td>&quot;&quot;</td><td>&quot;&quot;</td><td>&quot;&quot;</td><td>&quot;&quot;</td><td>&quot;&quot;</td><td>&quot;&quot;</td><td>&quot;&quot;</td><td>&quot;08/07/2025&quot;</td><td>&quot;&quot;</td></tr><tr><td>&quot;!NNOV8 LIMITED&quot;</td><td>&quot;11006939&quot;</td><td>&quot;&quot;</td><td>&quot;&quot;</td><td>&quot;OLD BARN FARM&quot;</td><td>&quot;HARTFIELD ROAD&quot;</td><td>&quot;EDENBRIDGE&quot;</td><td>&quot;&quot;</td><td>&quot;ENGLAND&quot;</td><td>&quot;TN8 5NF&quot;</td><td>&quot;Private Limited Company&quot;</td><td>&quot;Active&quot;</td><td>&quot;United Kingdom&quot;</td><td>&quot;&quot;</td><td>&quot;11/10/2017&quot;</td><td>&quot;30&quot;</td><td>&quot;3&quot;</td><td>&quot;30/12/2024&quot;</td><td>&quot;31/03/2023&quot;</td><td>&quot;MICRO ENTITY&quot;</td><td>&quot;08/11/2018&quot;</td><td>&quot;&quot;</td><td>0</td><td>0</td><td>0</td><td>0</td><td>&quot;62090 - Other information tech…</td><td>&quot;70229 - Management consultancy…</td><td>&quot;&quot;</td><td>&quot;&quot;</td><td>0</td><td>0</td><td>&quot;http://business.data.gov.uk/id…</td><td>&quot;&quot;</td><td>&quot;&quot;</td><td>&quot;&quot;</td><td>&quot;&quot;</td><td>&quot;&quot;</td><td>&quot;&quot;</td><td>&quot;&quot;</td><td>&quot;&quot;</td><td>&quot;&quot;</td><td>&quot;&quot;</td><td>&quot;&quot;</td><td>&quot;&quot;</td><td>&quot;&quot;</td><td>&quot;&quot;</td><td>&quot;&quot;</td><td>&quot;&quot;</td><td>&quot;&quot;</td><td>&quot;&quot;</td><td>&quot;&quot;</td><td>&quot;&quot;</td><td>&quot;24/10/2024&quot;</td><td>&quot;10/10/2023&quot;</td></tr><tr><td>&quot;!NNOVATION LAB LTD&quot;</td><td>&quot;15431491&quot;</td><td>&quot;&quot;</td><td>&quot;&quot;</td><td>&quot;6 THORNEYHOLME CLOSE&quot;</td><td>&quot;LOSTOCK&quot;</td><td>&quot;BOLTON&quot;</td><td>&quot;&quot;</td><td>&quot;ENGLAND&quot;</td><td>&quot;BL6 4BZ&quot;</td><td>&quot;Private Limited Company&quot;</td><td>&quot;Active&quot;</td><td>&quot;United Kingdom&quot;</td><td>&quot;&quot;</td><td>&quot;22/01/2024&quot;</td><td>&quot;31&quot;</td><td>&quot;1&quot;</td><td>&quot;22/10/2025&quot;</td><td>&quot;&quot;</td><td>&quot;NO ACCOUNTS FILED&quot;</td><td>&quot;19/02/2025&quot;</td><td>&quot;&quot;</td><td>0</td><td>0</td><td>0</td><td>0</td><td>&quot;70229 - Management consultancy…</td><td>&quot;78300 - Human resources provis…</td><td>&quot;85520 - Cultural education&quot;</td><td>&quot;&quot;</td><td>0</td><td>0</td><td>&quot;http://business.data.gov.uk/id…</td><td>&quot;&quot;</td><td>&quot;&quot;</td><td>&quot;&quot;</td><td>&quot;&quot;</td><td>&quot;&quot;</td><td>&quot;&quot;</td><td>&quot;&quot;</td><td>&quot;&quot;</td><td>&quot;&quot;</td><td>&quot;&quot;</td><td>&quot;&quot;</td><td>&quot;&quot;</td><td>&quot;&quot;</td><td>&quot;&quot;</td><td>&quot;&quot;</td><td>&quot;&quot;</td><td>&quot;&quot;</td><td>&quot;&quot;</td><td>&quot;&quot;</td><td>&quot;&quot;</td><td>&quot;04/02/2025&quot;</td><td>&quot;&quot;</td></tr><tr><td>&quot;!NSPIRED INVESTMENTS LTD&quot;</td><td>&quot;SC606050&quot;</td><td>&quot;&quot;</td><td>&quot;&quot;</td><td>&quot;26 POLMUIR ROAD&quot;</td><td>&quot;&quot;</td><td>&quot;ABERDEEN&quot;</td><td>&quot;&quot;</td><td>&quot;SCOTLAND&quot;</td><td>&quot;AB11 7SY&quot;</td><td>&quot;Private Limited Company&quot;</td><td>&quot;Active&quot;</td><td>&quot;United Kingdom&quot;</td><td>&quot;&quot;</td><td>&quot;22/08/2018&quot;</td><td>&quot;31&quot;</td><td>&quot;8&quot;</td><td>&quot;31/05/2025&quot;</td><td>&quot;31/08/2023&quot;</td><td>&quot;TOTAL EXEMPTION FULL&quot;</td><td>&quot;19/09/2019&quot;</td><td>&quot;&quot;</td><td>5</td><td>5</td><td>0</td><td>0</td><td>&quot;68209 - Other letting and oper…</td><td>&quot;&quot;</td><td>&quot;&quot;</td><td>&quot;&quot;</td><td>0</td><td>0</td><td>&quot;http://business.data.gov.uk/id…</td><td>&quot;&quot;</td><td>&quot;&quot;</td><td>&quot;&quot;</td><td>&quot;&quot;</td><td>&quot;&quot;</td><td>&quot;&quot;</td><td>&quot;&quot;</td><td>&quot;&quot;</td><td>&quot;&quot;</td><td>&quot;&quot;</td><td>&quot;&quot;</td><td>&quot;&quot;</td><td>&quot;&quot;</td><td>&quot;&quot;</td><td>&quot;&quot;</td><td>&quot;&quot;</td><td>&quot;&quot;</td><td>&quot;&quot;</td><td>&quot;&quot;</td><td>&quot;&quot;</td><td>&quot;12/02/2025&quot;</td><td>&quot;29/01/2024&quot;</td></tr></tbody></table></div>"
      ]
     },
     "execution_count": 16,
     "metadata": {},
     "output_type": "execute_result"
    }
   ],
   "execution_count": 16
  },
  {
   "metadata": {
    "ExecuteTime": {
     "end_time": "2024-08-22T11:33:35.535037Z",
     "start_time": "2024-08-22T11:33:35.530300Z"
    }
   },
   "cell_type": "code",
   "source": [
    "df = df_ch.filter(\n",
    "    pl.col(' CompanyNumber').is_null(),\n",
    ")\n",
    "len(df)"
   ],
   "id": "baa10ea24aee3c40",
   "outputs": [
    {
     "data": {
      "text/plain": [
       "0"
      ]
     },
     "execution_count": 12,
     "metadata": {},
     "output_type": "execute_result"
    }
   ],
   "execution_count": 12
  },
  {
   "metadata": {
    "ExecuteTime": {
     "end_time": "2024-08-22T11:27:46.247942Z",
     "start_time": "2024-08-22T11:27:46.244559Z"
    }
   },
   "cell_type": "code",
   "source": "df_ch.columns  # note spaces",
   "id": "6ca564f0a2ffa20f",
   "outputs": [
    {
     "data": {
      "text/plain": [
       "['CompanyName',\n",
       " ' CompanyNumber',\n",
       " 'RegAddress.CareOf',\n",
       " 'RegAddress.POBox',\n",
       " 'RegAddress.AddressLine1',\n",
       " ' RegAddress.AddressLine2',\n",
       " 'RegAddress.PostTown',\n",
       " 'RegAddress.County',\n",
       " 'RegAddress.Country',\n",
       " 'RegAddress.PostCode',\n",
       " 'CompanyCategory',\n",
       " 'CompanyStatus',\n",
       " 'CountryOfOrigin',\n",
       " 'DissolutionDate',\n",
       " 'IncorporationDate',\n",
       " 'Accounts.AccountRefDay',\n",
       " 'Accounts.AccountRefMonth',\n",
       " 'Accounts.NextDueDate',\n",
       " 'Accounts.LastMadeUpDate',\n",
       " 'Accounts.AccountCategory',\n",
       " 'Returns.NextDueDate',\n",
       " 'Returns.LastMadeUpDate',\n",
       " 'Mortgages.NumMortCharges',\n",
       " 'Mortgages.NumMortOutstanding',\n",
       " 'Mortgages.NumMortPartSatisfied',\n",
       " 'Mortgages.NumMortSatisfied',\n",
       " 'SICCode.SicText_1',\n",
       " 'SICCode.SicText_2',\n",
       " 'SICCode.SicText_3',\n",
       " 'SICCode.SicText_4',\n",
       " 'LimitedPartnerships.NumGenPartners',\n",
       " 'LimitedPartnerships.NumLimPartners',\n",
       " 'URI',\n",
       " 'PreviousName_1.CONDATE',\n",
       " ' PreviousName_1.CompanyName',\n",
       " ' PreviousName_2.CONDATE',\n",
       " ' PreviousName_2.CompanyName',\n",
       " 'PreviousName_3.CONDATE',\n",
       " ' PreviousName_3.CompanyName',\n",
       " 'PreviousName_4.CONDATE',\n",
       " ' PreviousName_4.CompanyName',\n",
       " 'PreviousName_5.CONDATE',\n",
       " ' PreviousName_5.CompanyName',\n",
       " 'PreviousName_6.CONDATE',\n",
       " ' PreviousName_6.CompanyName',\n",
       " 'PreviousName_7.CONDATE',\n",
       " ' PreviousName_7.CompanyName',\n",
       " 'PreviousName_8.CONDATE',\n",
       " ' PreviousName_8.CompanyName',\n",
       " 'PreviousName_9.CONDATE',\n",
       " ' PreviousName_9.CompanyName',\n",
       " 'PreviousName_10.CONDATE',\n",
       " ' PreviousName_10.CompanyName',\n",
       " 'ConfStmtNextDueDate',\n",
       " ' ConfStmtLastMadeUpDate']"
      ]
     },
     "execution_count": 9,
     "metadata": {},
     "output_type": "execute_result"
    }
   ],
   "execution_count": 9
  },
  {
   "metadata": {
    "ExecuteTime": {
     "end_time": "2024-08-23T09:40:39.815169Z",
     "start_time": "2024-08-23T09:40:39.798995Z"
    }
   },
   "cell_type": "code",
   "source": [
    "df = df_ch.filter(\n",
    "    pl.col('CompanyName').str.starts_with('TRIAD'),\n",
    "    #pl.col('RegAddress.PostCode') == 'B75 6AU',\n",
    ")\n",
    "df"
   ],
   "id": "edea2467e50a4b74",
   "outputs": [
    {
     "data": {
      "text/plain": [
       "shape: (52, 55)\n",
       "┌───────────┬───────────┬───────────┬───────────┬───┬───────────┬───────────┬───────────┬──────────┐\n",
       "│ CompanyNa ┆ CompanyNu ┆ RegAddres ┆ RegAddres ┆ … ┆ PreviousN ┆ PreviousN ┆ ConfStmtN ┆ ConfStmt │\n",
       "│ me        ┆ mber      ┆ s.CareOf  ┆ s.POBox   ┆   ┆ ame_10.CO ┆ ame_10.Co ┆ extDueDat ┆ LastMade │\n",
       "│ ---       ┆ ---       ┆ ---       ┆ ---       ┆   ┆ NDATE     ┆ mpanyName ┆ e         ┆ UpDate   │\n",
       "│ str       ┆ str       ┆ str       ┆ str       ┆   ┆ ---       ┆ ---       ┆ ---       ┆ ---      │\n",
       "│           ┆           ┆           ┆           ┆   ┆ str       ┆ str       ┆ str       ┆ str      │\n",
       "╞═══════════╪═══════════╪═══════════╪═══════════╪═══╪═══════════╪═══════════╪═══════════╪══════════╡\n",
       "│ TRIAD 5   ┆ 10758295  ┆           ┆           ┆ … ┆           ┆           ┆ 19/03/202 ┆ 05/03/20 │\n",
       "│ DEVELOPME ┆           ┆           ┆           ┆   ┆           ┆           ┆ 3         ┆ 22       │\n",
       "│ NTS       ┆           ┆           ┆           ┆   ┆           ┆           ┆           ┆          │\n",
       "│ LIMITED   ┆           ┆           ┆           ┆   ┆           ┆           ┆           ┆          │\n",
       "│ TRIAD     ┆ 13593149  ┆           ┆           ┆ … ┆           ┆           ┆ 13/09/202 ┆ 30/08/20 │\n",
       "│ ADVISORY  ┆           ┆           ┆           ┆   ┆           ┆           ┆ 4         ┆ 23       │\n",
       "│ LIMITED   ┆           ┆           ┆           ┆   ┆           ┆           ┆           ┆          │\n",
       "│ TRIAD     ┆ 15690973  ┆           ┆           ┆ … ┆           ┆           ┆ 12/05/202 ┆          │\n",
       "│ BOOST     ┆           ┆           ┆           ┆   ┆           ┆           ┆ 5         ┆          │\n",
       "│ LIMITED   ┆           ┆           ┆           ┆   ┆           ┆           ┆           ┆          │\n",
       "│ TRIAD     ┆ 15836012  ┆           ┆           ┆ … ┆           ┆           ┆ 25/07/202 ┆          │\n",
       "│ CARE      ┆           ┆           ┆           ┆   ┆           ┆           ┆ 5         ┆          │\n",
       "│ LIMITED   ┆           ┆           ┆           ┆   ┆           ┆           ┆           ┆          │\n",
       "│ TRIAD     ┆ 07298569  ┆           ┆           ┆ … ┆           ┆           ┆ 13/07/202 ┆ 29/06/20 │\n",
       "│ CONTROLS  ┆           ┆           ┆           ┆   ┆           ┆           ┆ 5         ┆ 24       │\n",
       "│ LIMITED   ┆           ┆           ┆           ┆   ┆           ┆           ┆           ┆          │\n",
       "│ …         ┆ …         ┆ …         ┆ …         ┆ … ┆ …         ┆ …         ┆ …         ┆ …        │\n",
       "│ TRIADIC   ┆ OC441336  ┆           ┆           ┆ … ┆           ┆           ┆ 21/03/202 ┆ 07/03/20 │\n",
       "│ LLP       ┆           ┆           ┆           ┆   ┆           ┆           ┆ 5         ┆ 24       │\n",
       "│ TRIADIC   ┆ 05655310  ┆           ┆           ┆ … ┆           ┆           ┆ 06/04/202 ┆ 23/03/20 │\n",
       "│ ZONE      ┆           ┆           ┆           ┆   ┆           ┆           ┆ 5         ┆ 24       │\n",
       "│ LIMITED   ┆           ┆           ┆           ┆   ┆           ┆           ┆           ┆          │\n",
       "│ TRIADOS   ┆ 15585998  ┆           ┆           ┆ … ┆           ┆           ┆ 01/06/202 ┆ 18/05/20 │\n",
       "│ LTD       ┆           ┆           ┆           ┆   ┆           ┆           ┆ 5         ┆ 24       │\n",
       "│ TRIADS    ┆ 03091811  ┆           ┆           ┆ … ┆           ┆           ┆ 15/09/202 ┆ 01/09/20 │\n",
       "│ LIMITED   ┆           ┆           ┆           ┆   ┆           ┆           ┆ 4         ┆ 23       │\n",
       "│ TRIADSCLO ┆ 15371848  ┆           ┆           ┆ … ┆           ┆           ┆ 09/01/202 ┆          │\n",
       "│ THING     ┆           ┆           ┆           ┆   ┆           ┆           ┆ 5         ┆          │\n",
       "│ LIMITED   ┆           ┆           ┆           ┆   ┆           ┆           ┆           ┆          │\n",
       "└───────────┴───────────┴───────────┴───────────┴───┴───────────┴───────────┴───────────┴──────────┘"
      ],
      "text/html": [
       "<div><style>\n",
       ".dataframe > thead > tr,\n",
       ".dataframe > tbody > tr {\n",
       "  text-align: right;\n",
       "  white-space: pre-wrap;\n",
       "}\n",
       "</style>\n",
       "<small>shape: (52, 55)</small><table border=\"1\" class=\"dataframe\"><thead><tr><th>CompanyName</th><th> CompanyNumber</th><th>RegAddress.CareOf</th><th>RegAddress.POBox</th><th>RegAddress.AddressLine1</th><th> RegAddress.AddressLine2</th><th>RegAddress.PostTown</th><th>RegAddress.County</th><th>RegAddress.Country</th><th>RegAddress.PostCode</th><th>CompanyCategory</th><th>CompanyStatus</th><th>CountryOfOrigin</th><th>DissolutionDate</th><th>IncorporationDate</th><th>Accounts.AccountRefDay</th><th>Accounts.AccountRefMonth</th><th>Accounts.NextDueDate</th><th>Accounts.LastMadeUpDate</th><th>Accounts.AccountCategory</th><th>Returns.NextDueDate</th><th>Returns.LastMadeUpDate</th><th>Mortgages.NumMortCharges</th><th>Mortgages.NumMortOutstanding</th><th>Mortgages.NumMortPartSatisfied</th><th>Mortgages.NumMortSatisfied</th><th>SICCode.SicText_1</th><th>SICCode.SicText_2</th><th>SICCode.SicText_3</th><th>SICCode.SicText_4</th><th>LimitedPartnerships.NumGenPartners</th><th>LimitedPartnerships.NumLimPartners</th><th>URI</th><th>PreviousName_1.CONDATE</th><th> PreviousName_1.CompanyName</th><th> PreviousName_2.CONDATE</th><th> PreviousName_2.CompanyName</th><th>PreviousName_3.CONDATE</th><th> PreviousName_3.CompanyName</th><th>PreviousName_4.CONDATE</th><th> PreviousName_4.CompanyName</th><th>PreviousName_5.CONDATE</th><th> PreviousName_5.CompanyName</th><th>PreviousName_6.CONDATE</th><th> PreviousName_6.CompanyName</th><th>PreviousName_7.CONDATE</th><th> PreviousName_7.CompanyName</th><th>PreviousName_8.CONDATE</th><th> PreviousName_8.CompanyName</th><th>PreviousName_9.CONDATE</th><th> PreviousName_9.CompanyName</th><th>PreviousName_10.CONDATE</th><th> PreviousName_10.CompanyName</th><th>ConfStmtNextDueDate</th><th> ConfStmtLastMadeUpDate</th></tr><tr><td>str</td><td>str</td><td>str</td><td>str</td><td>str</td><td>str</td><td>str</td><td>str</td><td>str</td><td>str</td><td>str</td><td>str</td><td>str</td><td>str</td><td>str</td><td>str</td><td>str</td><td>str</td><td>str</td><td>str</td><td>str</td><td>str</td><td>i64</td><td>i64</td><td>i64</td><td>i64</td><td>str</td><td>str</td><td>str</td><td>str</td><td>i64</td><td>i64</td><td>str</td><td>str</td><td>str</td><td>str</td><td>str</td><td>str</td><td>str</td><td>str</td><td>str</td><td>str</td><td>str</td><td>str</td><td>str</td><td>str</td><td>str</td><td>str</td><td>str</td><td>str</td><td>str</td><td>str</td><td>str</td><td>str</td><td>str</td></tr></thead><tbody><tr><td>&quot;TRIAD 5 DEVELOPMENTS LIMITED&quot;</td><td>&quot;10758295&quot;</td><td>&quot;&quot;</td><td>&quot;&quot;</td><td>&quot;18 CLARENCE ROAD&quot;</td><td>&quot;&quot;</td><td>&quot;SOUTHEND ON SEA&quot;</td><td>&quot;ESSEX&quot;</td><td>&quot;&quot;</td><td>&quot;SS1 1AN&quot;</td><td>&quot;Private Limited Company&quot;</td><td>&quot;Liquidation&quot;</td><td>&quot;United Kingdom&quot;</td><td>&quot;&quot;</td><td>&quot;08/05/2017&quot;</td><td>&quot;30&quot;</td><td>&quot;11&quot;</td><td>&quot;31/08/2023&quot;</td><td>&quot;30/11/2021&quot;</td><td>&quot;TOTAL EXEMPTION FULL&quot;</td><td>&quot;05/06/2018&quot;</td><td>&quot;&quot;</td><td>1</td><td>0</td><td>0</td><td>1</td><td>&quot;41100 - Development of buildin…</td><td>&quot;&quot;</td><td>&quot;&quot;</td><td>&quot;&quot;</td><td>0</td><td>0</td><td>&quot;http://business.data.gov.uk/id…</td><td>&quot;&quot;</td><td>&quot;&quot;</td><td>&quot;&quot;</td><td>&quot;&quot;</td><td>&quot;&quot;</td><td>&quot;&quot;</td><td>&quot;&quot;</td><td>&quot;&quot;</td><td>&quot;&quot;</td><td>&quot;&quot;</td><td>&quot;&quot;</td><td>&quot;&quot;</td><td>&quot;&quot;</td><td>&quot;&quot;</td><td>&quot;&quot;</td><td>&quot;&quot;</td><td>&quot;&quot;</td><td>&quot;&quot;</td><td>&quot;&quot;</td><td>&quot;&quot;</td><td>&quot;19/03/2023&quot;</td><td>&quot;05/03/2022&quot;</td></tr><tr><td>&quot;TRIAD ADVISORY LIMITED&quot;</td><td>&quot;13593149&quot;</td><td>&quot;&quot;</td><td>&quot;&quot;</td><td>&quot;ARNOLD HOUSE 2 NEW ROAD&quot;</td><td>&quot;BRADING&quot;</td><td>&quot;SANDOWN&quot;</td><td>&quot;ISLE OF WIGHT&quot;</td><td>&quot;UNITED KINGDOM&quot;</td><td>&quot;PO36 0DT&quot;</td><td>&quot;Private Limited Company&quot;</td><td>&quot;Active&quot;</td><td>&quot;United Kingdom&quot;</td><td>&quot;&quot;</td><td>&quot;31/08/2021&quot;</td><td>&quot;31&quot;</td><td>&quot;3&quot;</td><td>&quot;31/12/2025&quot;</td><td>&quot;31/03/2024&quot;</td><td>&quot;TOTAL EXEMPTION FULL&quot;</td><td>&quot;28/09/2022&quot;</td><td>&quot;&quot;</td><td>0</td><td>0</td><td>0</td><td>0</td><td>&quot;70229 - Management consultancy…</td><td>&quot;&quot;</td><td>&quot;&quot;</td><td>&quot;&quot;</td><td>0</td><td>0</td><td>&quot;http://business.data.gov.uk/id…</td><td>&quot;&quot;</td><td>&quot;&quot;</td><td>&quot;&quot;</td><td>&quot;&quot;</td><td>&quot;&quot;</td><td>&quot;&quot;</td><td>&quot;&quot;</td><td>&quot;&quot;</td><td>&quot;&quot;</td><td>&quot;&quot;</td><td>&quot;&quot;</td><td>&quot;&quot;</td><td>&quot;&quot;</td><td>&quot;&quot;</td><td>&quot;&quot;</td><td>&quot;&quot;</td><td>&quot;&quot;</td><td>&quot;&quot;</td><td>&quot;&quot;</td><td>&quot;&quot;</td><td>&quot;13/09/2024&quot;</td><td>&quot;30/08/2023&quot;</td></tr><tr><td>&quot;TRIAD BOOST LIMITED&quot;</td><td>&quot;15690973&quot;</td><td>&quot;&quot;</td><td>&quot;&quot;</td><td>&quot;OFFICE 3238 182-184 HIGH STREE…</td><td>&quot;EAST HAM&quot;</td><td>&quot;LONDON&quot;</td><td>&quot;&quot;</td><td>&quot;UNITED KINGDOM&quot;</td><td>&quot;E6 2JA&quot;</td><td>&quot;Private Limited Company&quot;</td><td>&quot;Active&quot;</td><td>&quot;United Kingdom&quot;</td><td>&quot;&quot;</td><td>&quot;29/04/2024&quot;</td><td>&quot;30&quot;</td><td>&quot;4&quot;</td><td>&quot;29/01/2026&quot;</td><td>&quot;&quot;</td><td>&quot;NO ACCOUNTS FILED&quot;</td><td>&quot;27/05/2025&quot;</td><td>&quot;&quot;</td><td>0</td><td>0</td><td>0</td><td>0</td><td>&quot;47910 - Retail sale via mail o…</td><td>&quot;&quot;</td><td>&quot;&quot;</td><td>&quot;&quot;</td><td>0</td><td>0</td><td>&quot;http://business.data.gov.uk/id…</td><td>&quot;&quot;</td><td>&quot;&quot;</td><td>&quot;&quot;</td><td>&quot;&quot;</td><td>&quot;&quot;</td><td>&quot;&quot;</td><td>&quot;&quot;</td><td>&quot;&quot;</td><td>&quot;&quot;</td><td>&quot;&quot;</td><td>&quot;&quot;</td><td>&quot;&quot;</td><td>&quot;&quot;</td><td>&quot;&quot;</td><td>&quot;&quot;</td><td>&quot;&quot;</td><td>&quot;&quot;</td><td>&quot;&quot;</td><td>&quot;&quot;</td><td>&quot;&quot;</td><td>&quot;12/05/2025&quot;</td><td>&quot;&quot;</td></tr><tr><td>&quot;TRIAD CARE LIMITED&quot;</td><td>&quot;15836012&quot;</td><td>&quot;&quot;</td><td>&quot;&quot;</td><td>&quot;KINGS HEAD HOUSE&quot;</td><td>&quot;15 LONDON END&quot;</td><td>&quot;BEACONSFIELD&quot;</td><td>&quot;&quot;</td><td>&quot;UNITED KINGDOM&quot;</td><td>&quot;HP9 2HN&quot;</td><td>&quot;Private Limited Company&quot;</td><td>&quot;Active&quot;</td><td>&quot;United Kingdom&quot;</td><td>&quot;&quot;</td><td>&quot;12/07/2024&quot;</td><td>&quot;31&quot;</td><td>&quot;7&quot;</td><td>&quot;12/04/2026&quot;</td><td>&quot;&quot;</td><td>&quot;NO ACCOUNTS FILED&quot;</td><td>&quot;09/08/2025&quot;</td><td>&quot;&quot;</td><td>0</td><td>0</td><td>0</td><td>0</td><td>&quot;78109 - Other activities of em…</td><td>&quot;78200 - Temporary employment a…</td><td>&quot;86900 - Other human health act…</td><td>&quot;88990 - Other social work acti…</td><td>0</td><td>0</td><td>&quot;http://business.data.gov.uk/id…</td><td>&quot;&quot;</td><td>&quot;&quot;</td><td>&quot;&quot;</td><td>&quot;&quot;</td><td>&quot;&quot;</td><td>&quot;&quot;</td><td>&quot;&quot;</td><td>&quot;&quot;</td><td>&quot;&quot;</td><td>&quot;&quot;</td><td>&quot;&quot;</td><td>&quot;&quot;</td><td>&quot;&quot;</td><td>&quot;&quot;</td><td>&quot;&quot;</td><td>&quot;&quot;</td><td>&quot;&quot;</td><td>&quot;&quot;</td><td>&quot;&quot;</td><td>&quot;&quot;</td><td>&quot;25/07/2025&quot;</td><td>&quot;&quot;</td></tr><tr><td>&quot;TRIAD CONTROLS LIMITED&quot;</td><td>&quot;07298569&quot;</td><td>&quot;&quot;</td><td>&quot;&quot;</td><td>&quot;HALL FARM&quot;</td><td>&quot;ASHBY ROAD&quot;</td><td>&quot;COLEORTON&quot;</td><td>&quot;LEICESTERSHIRE&quot;</td><td>&quot;ENGLAND&quot;</td><td>&quot;LE67 8FB&quot;</td><td>&quot;Private Limited Company&quot;</td><td>&quot;Active&quot;</td><td>&quot;United Kingdom&quot;</td><td>&quot;&quot;</td><td>&quot;29/06/2010&quot;</td><td>&quot;30&quot;</td><td>&quot;6&quot;</td><td>&quot;31/03/2025&quot;</td><td>&quot;30/06/2023&quot;</td><td>&quot;TOTAL EXEMPTION FULL&quot;</td><td>&quot;27/07/2017&quot;</td><td>&quot;29/06/2016&quot;</td><td>0</td><td>0</td><td>0</td><td>0</td><td>&quot;43999 - Other specialised cons…</td><td>&quot;&quot;</td><td>&quot;&quot;</td><td>&quot;&quot;</td><td>0</td><td>0</td><td>&quot;http://business.data.gov.uk/id…</td><td>&quot;&quot;</td><td>&quot;&quot;</td><td>&quot;&quot;</td><td>&quot;&quot;</td><td>&quot;&quot;</td><td>&quot;&quot;</td><td>&quot;&quot;</td><td>&quot;&quot;</td><td>&quot;&quot;</td><td>&quot;&quot;</td><td>&quot;&quot;</td><td>&quot;&quot;</td><td>&quot;&quot;</td><td>&quot;&quot;</td><td>&quot;&quot;</td><td>&quot;&quot;</td><td>&quot;&quot;</td><td>&quot;&quot;</td><td>&quot;&quot;</td><td>&quot;&quot;</td><td>&quot;13/07/2025&quot;</td><td>&quot;29/06/2024&quot;</td></tr><tr><td>&hellip;</td><td>&hellip;</td><td>&hellip;</td><td>&hellip;</td><td>&hellip;</td><td>&hellip;</td><td>&hellip;</td><td>&hellip;</td><td>&hellip;</td><td>&hellip;</td><td>&hellip;</td><td>&hellip;</td><td>&hellip;</td><td>&hellip;</td><td>&hellip;</td><td>&hellip;</td><td>&hellip;</td><td>&hellip;</td><td>&hellip;</td><td>&hellip;</td><td>&hellip;</td><td>&hellip;</td><td>&hellip;</td><td>&hellip;</td><td>&hellip;</td><td>&hellip;</td><td>&hellip;</td><td>&hellip;</td><td>&hellip;</td><td>&hellip;</td><td>&hellip;</td><td>&hellip;</td><td>&hellip;</td><td>&hellip;</td><td>&hellip;</td><td>&hellip;</td><td>&hellip;</td><td>&hellip;</td><td>&hellip;</td><td>&hellip;</td><td>&hellip;</td><td>&hellip;</td><td>&hellip;</td><td>&hellip;</td><td>&hellip;</td><td>&hellip;</td><td>&hellip;</td><td>&hellip;</td><td>&hellip;</td><td>&hellip;</td><td>&hellip;</td><td>&hellip;</td><td>&hellip;</td><td>&hellip;</td><td>&hellip;</td></tr><tr><td>&quot;TRIADIC LLP&quot;</td><td>&quot;OC441336&quot;</td><td>&quot;&quot;</td><td>&quot;&quot;</td><td>&quot;85 OXFORD GARDENS&quot;</td><td>&quot;&quot;</td><td>&quot;LONDON&quot;</td><td>&quot;&quot;</td><td>&quot;UNITED KINGDOM&quot;</td><td>&quot;W10 5UL&quot;</td><td>&quot;Limited Liability Partnership&quot;</td><td>&quot;Active&quot;</td><td>&quot;United Kingdom&quot;</td><td>&quot;&quot;</td><td>&quot;08/03/2022&quot;</td><td>&quot;31&quot;</td><td>&quot;12&quot;</td><td>&quot;30/09/2025&quot;</td><td>&quot;31/12/2023&quot;</td><td>&quot;TOTAL EXEMPTION FULL&quot;</td><td>&quot;05/04/2023&quot;</td><td>&quot;&quot;</td><td>0</td><td>0</td><td>0</td><td>0</td><td>&quot;None Supplied&quot;</td><td>&quot;&quot;</td><td>&quot;&quot;</td><td>&quot;&quot;</td><td>0</td><td>0</td><td>&quot;http://business.data.gov.uk/id…</td><td>&quot;&quot;</td><td>&quot;&quot;</td><td>&quot;&quot;</td><td>&quot;&quot;</td><td>&quot;&quot;</td><td>&quot;&quot;</td><td>&quot;&quot;</td><td>&quot;&quot;</td><td>&quot;&quot;</td><td>&quot;&quot;</td><td>&quot;&quot;</td><td>&quot;&quot;</td><td>&quot;&quot;</td><td>&quot;&quot;</td><td>&quot;&quot;</td><td>&quot;&quot;</td><td>&quot;&quot;</td><td>&quot;&quot;</td><td>&quot;&quot;</td><td>&quot;&quot;</td><td>&quot;21/03/2025&quot;</td><td>&quot;07/03/2024&quot;</td></tr><tr><td>&quot;TRIADIC ZONE LIMITED&quot;</td><td>&quot;05655310&quot;</td><td>&quot;&quot;</td><td>&quot;&quot;</td><td>&quot;10 BRIDGE STREET&quot;</td><td>&quot;CHRISTCHURCH&quot;</td><td>&quot;DORSET&quot;</td><td>&quot;&quot;</td><td>&quot;&quot;</td><td>&quot;BH23 1EF&quot;</td><td>&quot;Private Limited Company&quot;</td><td>&quot;Active&quot;</td><td>&quot;United Kingdom&quot;</td><td>&quot;&quot;</td><td>&quot;15/12/2005&quot;</td><td>&quot;31&quot;</td><td>&quot;12&quot;</td><td>&quot;30/09/2024&quot;</td><td>&quot;31/12/2022&quot;</td><td>&quot;DORMANT&quot;</td><td>&quot;12/01/2017&quot;</td><td>&quot;15/12/2015&quot;</td><td>0</td><td>0</td><td>0</td><td>0</td><td>&quot;74100 - specialised design act…</td><td>&quot;&quot;</td><td>&quot;&quot;</td><td>&quot;&quot;</td><td>0</td><td>0</td><td>&quot;http://business.data.gov.uk/id…</td><td>&quot;17/11/2022&quot;</td><td>&quot;SITUATION RESEARCH LIMITED&quot;</td><td>&quot;&quot;</td><td>&quot;&quot;</td><td>&quot;&quot;</td><td>&quot;&quot;</td><td>&quot;&quot;</td><td>&quot;&quot;</td><td>&quot;&quot;</td><td>&quot;&quot;</td><td>&quot;&quot;</td><td>&quot;&quot;</td><td>&quot;&quot;</td><td>&quot;&quot;</td><td>&quot;&quot;</td><td>&quot;&quot;</td><td>&quot;&quot;</td><td>&quot;&quot;</td><td>&quot;&quot;</td><td>&quot;&quot;</td><td>&quot;06/04/2025&quot;</td><td>&quot;23/03/2024&quot;</td></tr><tr><td>&quot;TRIADOS LTD&quot;</td><td>&quot;15585998&quot;</td><td>&quot;&quot;</td><td>&quot;&quot;</td><td>&quot;1 KINGS ROAD&quot;</td><td>&quot;&quot;</td><td>&quot;SUTTON&quot;</td><td>&quot;&quot;</td><td>&quot;ENGLAND&quot;</td><td>&quot;SM2 6DG&quot;</td><td>&quot;Private Limited Company&quot;</td><td>&quot;Active&quot;</td><td>&quot;United Kingdom&quot;</td><td>&quot;&quot;</td><td>&quot;22/03/2024&quot;</td><td>&quot;31&quot;</td><td>&quot;3&quot;</td><td>&quot;22/12/2025&quot;</td><td>&quot;&quot;</td><td>&quot;NO ACCOUNTS FILED&quot;</td><td>&quot;19/04/2025&quot;</td><td>&quot;&quot;</td><td>0</td><td>0</td><td>0</td><td>0</td><td>&quot;47910 - Retail sale via mail o…</td><td>&quot;&quot;</td><td>&quot;&quot;</td><td>&quot;&quot;</td><td>0</td><td>0</td><td>&quot;http://business.data.gov.uk/id…</td><td>&quot;&quot;</td><td>&quot;&quot;</td><td>&quot;&quot;</td><td>&quot;&quot;</td><td>&quot;&quot;</td><td>&quot;&quot;</td><td>&quot;&quot;</td><td>&quot;&quot;</td><td>&quot;&quot;</td><td>&quot;&quot;</td><td>&quot;&quot;</td><td>&quot;&quot;</td><td>&quot;&quot;</td><td>&quot;&quot;</td><td>&quot;&quot;</td><td>&quot;&quot;</td><td>&quot;&quot;</td><td>&quot;&quot;</td><td>&quot;&quot;</td><td>&quot;&quot;</td><td>&quot;01/06/2025&quot;</td><td>&quot;18/05/2024&quot;</td></tr><tr><td>&quot;TRIADS LIMITED&quot;</td><td>&quot;03091811&quot;</td><td>&quot;&quot;</td><td>&quot;&quot;</td><td>&quot;LEVEL Q, SHERATON HOUSE SURTEE…</td><td>&quot;SURTEES BUSINESS PARK&quot;</td><td>&quot;STOCKTON-ON-TEES&quot;</td><td>&quot;&quot;</td><td>&quot;&quot;</td><td>&quot;TS18 3HR&quot;</td><td>&quot;Private Limited Company&quot;</td><td>&quot;Liquidation&quot;</td><td>&quot;United Kingdom&quot;</td><td>&quot;&quot;</td><td>&quot;16/08/1995&quot;</td><td>&quot;31&quot;</td><td>&quot;1&quot;</td><td>&quot;31/10/2024&quot;</td><td>&quot;31/01/2023&quot;</td><td>&quot;TOTAL EXEMPTION FULL&quot;</td><td>&quot;29/09/2016&quot;</td><td>&quot;01/09/2015&quot;</td><td>2</td><td>0</td><td>0</td><td>2</td><td>&quot;47990 - Other retail sale not …</td><td>&quot;&quot;</td><td>&quot;&quot;</td><td>&quot;&quot;</td><td>0</td><td>0</td><td>&quot;http://business.data.gov.uk/id…</td><td>&quot;&quot;</td><td>&quot;&quot;</td><td>&quot;&quot;</td><td>&quot;&quot;</td><td>&quot;&quot;</td><td>&quot;&quot;</td><td>&quot;&quot;</td><td>&quot;&quot;</td><td>&quot;&quot;</td><td>&quot;&quot;</td><td>&quot;&quot;</td><td>&quot;&quot;</td><td>&quot;&quot;</td><td>&quot;&quot;</td><td>&quot;&quot;</td><td>&quot;&quot;</td><td>&quot;&quot;</td><td>&quot;&quot;</td><td>&quot;&quot;</td><td>&quot;&quot;</td><td>&quot;15/09/2024&quot;</td><td>&quot;01/09/2023&quot;</td></tr><tr><td>&quot;TRIADSCLOTHING LIMITED&quot;</td><td>&quot;15371848&quot;</td><td>&quot;&quot;</td><td>&quot;&quot;</td><td>&quot;54-56 ALBERT ROAD&quot;</td><td>&quot;&quot;</td><td>&quot;MIDDLESBROUGH&quot;</td><td>&quot;&quot;</td><td>&quot;ENGLAND&quot;</td><td>&quot;TS1 1QD&quot;</td><td>&quot;Private Limited Company&quot;</td><td>&quot;Active&quot;</td><td>&quot;United Kingdom&quot;</td><td>&quot;&quot;</td><td>&quot;27/12/2023&quot;</td><td>&quot;31&quot;</td><td>&quot;12&quot;</td><td>&quot;27/09/2025&quot;</td><td>&quot;&quot;</td><td>&quot;NO ACCOUNTS FILED&quot;</td><td>&quot;24/01/2025&quot;</td><td>&quot;&quot;</td><td>0</td><td>0</td><td>0</td><td>0</td><td>&quot;47510 - Retail sale of textile…</td><td>&quot;&quot;</td><td>&quot;&quot;</td><td>&quot;&quot;</td><td>0</td><td>0</td><td>&quot;http://business.data.gov.uk/id…</td><td>&quot;&quot;</td><td>&quot;&quot;</td><td>&quot;&quot;</td><td>&quot;&quot;</td><td>&quot;&quot;</td><td>&quot;&quot;</td><td>&quot;&quot;</td><td>&quot;&quot;</td><td>&quot;&quot;</td><td>&quot;&quot;</td><td>&quot;&quot;</td><td>&quot;&quot;</td><td>&quot;&quot;</td><td>&quot;&quot;</td><td>&quot;&quot;</td><td>&quot;&quot;</td><td>&quot;&quot;</td><td>&quot;&quot;</td><td>&quot;&quot;</td><td>&quot;&quot;</td><td>&quot;09/01/2025&quot;</td><td>&quot;&quot;</td></tr></tbody></table></div>"
      ]
     },
     "execution_count": 21,
     "metadata": {},
     "output_type": "execute_result"
    }
   ],
   "execution_count": 21
  },
  {
   "metadata": {},
   "cell_type": "code",
   "outputs": [],
   "execution_count": null,
   "source": "",
   "id": "b8bb95ee0885a098"
  }
 ],
 "metadata": {
  "kernelspec": {
   "display_name": "Python 3",
   "language": "python",
   "name": "python3"
  },
  "language_info": {
   "codemirror_mode": {
    "name": "ipython",
    "version": 2
   },
   "file_extension": ".py",
   "mimetype": "text/x-python",
   "name": "python",
   "nbconvert_exporter": "python",
   "pygments_lexer": "ipython2",
   "version": "2.7.6"
  }
 },
 "nbformat": 4,
 "nbformat_minor": 5
}
