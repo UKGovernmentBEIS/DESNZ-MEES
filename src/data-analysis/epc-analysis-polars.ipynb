{
 "cells": [
  {
   "cell_type": "code",
   "id": "initial_id",
   "metadata": {
    "collapsed": true,
    "ExecuteTime": {
     "end_time": "2024-09-04T14:31:09.771930Z",
     "start_time": "2024-09-04T14:31:09.659591Z"
    }
   },
   "source": [
    "import polars as pl\n",
    "import numpy as np\n",
    "from dotenv import load_dotenv\n",
    "import os"
   ],
   "outputs": [],
   "execution_count": 1
  },
  {
   "metadata": {
    "ExecuteTime": {
     "end_time": "2024-09-04T14:31:13.676048Z",
     "start_time": "2024-09-04T14:31:13.182159Z"
    }
   },
   "cell_type": "code",
   "source": [
    "load_dotenv()\n",
    "output_file = os.getenv('EPC_OUTPUT_FILE')\n",
    "all_epc = pl.read_csv(\n",
    "    output_file,\n",
    "    try_parse_dates=True\n",
    "    #dtype={'transaction-type': str, 'aircon-present': str},\n",
    "    #parse_dates=['lodgement-date', 'lodgement-datetime']\n",
    ")\n",
    "# len(all_epc) # 1378713 before any filtering\n",
    "# remove small properties\n",
    "all_epc = all_epc.filter(pl.col('floor-area') >= 40) # 40m2 min size\n",
    "# and remove prior records for same property\n",
    "dedup = all_epc.sort('lodgement-datetime').unique(subset=['building-reference-number'], keep='last')\n",
    "# df.sort_values('DATE_CHANGED').drop_duplicates('STATION_ID',keep='last')\n",
    "len(dedup) # 1213676 (1281342 before filter by floor area)"
   ],
   "id": "d559cde80409791d",
   "outputs": [
    {
     "data": {
      "text/plain": [
       "1217573"
      ]
     },
     "execution_count": 2,
     "metadata": {},
     "output_type": "execute_result"
    }
   ],
   "execution_count": 2
  },
  {
   "metadata": {
    "ExecuteTime": {
     "end_time": "2024-08-29T11:57:53.539099Z",
     "start_time": "2024-08-29T11:57:53.437542Z"
    }
   },
   "cell_type": "code",
   "source": "len(dedup.filter(pl.col(\"uprn\").is_null())) # 440164",
   "id": "c0c54170c8eba96b",
   "outputs": [
    {
     "data": {
      "text/plain": [
       "440164"
      ]
     },
     "execution_count": 6,
     "metadata": {},
     "output_type": "execute_result"
    }
   ],
   "execution_count": 6
  },
  {
   "metadata": {
    "ExecuteTime": {
     "end_time": "2024-09-04T16:44:37.860551Z",
     "start_time": "2024-09-04T16:44:37.818907Z"
    }
   },
   "cell_type": "code",
   "source": [
    "len(dedup.filter(pl.col(\"postcode\").is_null())) # 0\n",
    "len(dedup.filter(pl.col(\"posttown\").is_null())) # 161\n",
    "len(dedup.filter(pl.col(\"posttown\").is_null() & pl.col(\"uprn\").is_null())) # 74\n",
    "len(dedup.filter(pl.col(\"constituency-label\").is_null())) # 2276\n",
    "len(dedup.filter(pl.col(\"constituency-label\").is_null() & pl.col(\"uprn\").is_null())) # 955\n",
    "len(dedup.filter(pl.col(\"local-authority-label\").is_null())) # 761\n",
    "len(dedup.filter(pl.col(\"local-authority-label\").is_null() & pl.col(\"uprn\").is_null())) # 303"
   ],
   "id": "18725c86d27db5d6",
   "outputs": [
    {
     "data": {
      "text/plain": [
       "303"
      ]
     },
     "execution_count": 12,
     "metadata": {},
     "output_type": "execute_result"
    }
   ],
   "execution_count": 12
  },
  {
   "metadata": {
    "ExecuteTime": {
     "end_time": "2024-09-04T14:34:51.480388Z",
     "start_time": "2024-09-04T14:34:51.472540Z"
    }
   },
   "cell_type": "code",
   "source": "dedup.filter(pl.col(\"posttown\").is_null())",
   "id": "940138bb1c608cb3",
   "outputs": [
    {
     "data": {
      "text/plain": [
       "shape: (161, 40)\n",
       "┌───────────┬───────────┬───────────┬───────────┬───┬───────────┬───────────┬───────────┬──────────┐\n",
       "│ lmk-key   ┆ address1  ┆ address2  ┆ address3  ┆ … ┆ lodgement ┆ primary-e ┆ uprn      ┆ uprn-sou │\n",
       "│ ---       ┆ ---       ┆ ---       ┆ ---       ┆   ┆ -datetime ┆ nergy-val ┆ ---       ┆ rce      │\n",
       "│ str       ┆ str       ┆ str       ┆ str       ┆   ┆ ---       ┆ ue        ┆ i64       ┆ ---      │\n",
       "│           ┆           ┆           ┆           ┆   ┆ datetime[ ┆ ---       ┆           ┆ str      │\n",
       "│           ┆           ┆           ┆           ┆   ┆ μs]       ┆ i64       ┆           ┆          │\n",
       "╞═══════════╪═══════════╪═══════════╪═══════════╪═══╪═══════════╪═══════════╪═══════════╪══════════╡\n",
       "│ 8df507b64 ┆ null      ┆ 40 High   ┆ Littleham ┆ … ┆ 2023-08-0 ┆ 249       ┆ 100964295 ┆ Address  │\n",
       "│ c84d9f52c ┆           ┆ Street    ┆ pton      ┆   ┆ 8         ┆           ┆ 26        ┆ Matched  │\n",
       "│ 5d1ebf4c9 ┆           ┆           ┆           ┆   ┆ 06:24:35  ┆           ┆           ┆          │\n",
       "│ 7bd…      ┆           ┆           ┆           ┆   ┆           ┆           ┆           ┆          │\n",
       "│ 5e370ca2d ┆ Basement  ┆ 120       ┆ null      ┆ … ┆ 2022-10-1 ┆ 57        ┆ null      ┆ null     │\n",
       "│ bbba04eca ┆ Workshops ┆ Holborn   ┆           ┆   ┆ 8         ┆           ┆           ┆          │\n",
       "│ 65baa4042 ┆           ┆           ┆           ┆   ┆ 13:22:40  ┆           ┆           ┆          │\n",
       "│ 5c3…      ┆           ┆           ┆           ┆   ┆           ┆           ┆           ┆          │\n",
       "│ a1907e04e ┆ Unit G6   ┆ Oslo      ┆ Tyne      ┆ … ┆ 2024-04-1 ┆ 26        ┆ 47237196  ┆ Address  │\n",
       "│ cd9343326 ┆           ┆ Close     ┆ Tunnel    ┆   ┆ 9         ┆           ┆           ┆ Matched  │\n",
       "│ d35a5d79c ┆           ┆           ┆ Trading   ┆   ┆ 11:19:24  ┆           ┆           ┆          │\n",
       "│ 358…      ┆           ┆           ┆ Estate    ┆   ┆           ┆           ┆           ┆          │\n",
       "│ 030a7efb4 ┆ Unit B9   ┆ Whiteley  ┆ Whiteley  ┆ … ┆ 2023-04-1 ┆ 355       ┆ 100908436 ┆ Energy   │\n",
       "│ 377993670 ┆           ┆ Shopping  ┆ Way       ┆   ┆ 9         ┆           ┆ 42        ┆ Assessor │\n",
       "│ dc363d29d ┆           ┆ Centre    ┆           ┆   ┆ 22:16:02  ┆           ┆           ┆          │\n",
       "│ 246…      ┆           ┆           ┆           ┆   ┆           ┆           ┆           ┆          │\n",
       "│ 5d06cc017 ┆ Thames    ┆ 162       ┆ Maidenhea ┆ … ┆ 2022-11-1 ┆ 377       ┆ 100081276 ┆ Energy   │\n",
       "│ 6e0055c50 ┆ Riviera   ┆ Bridge    ┆ d         ┆   ┆ 4         ┆           ┆ 821       ┆ Assessor │\n",
       "│ 8bd530c10 ┆ Hotel     ┆ Road      ┆           ┆   ┆ 22:03:47  ┆           ┆           ┆          │\n",
       "│ 72d…      ┆           ┆           ┆           ┆   ┆           ┆           ┆           ┆          │\n",
       "│ …         ┆ …         ┆ …         ┆ …         ┆ … ┆ …         ┆ …         ┆ …         ┆ …        │\n",
       "│ d504186fd ┆ Barnsley  ┆ 32-34     ┆ Barnsley  ┆ … ┆ 2023-02-1 ┆ 222       ┆ null      ┆ null     │\n",
       "│ 17376d5db ┆ Transport ┆ Midland   ┆           ┆   ┆ 3         ┆           ┆           ┆          │\n",
       "│ 96bdd8675 ┆ Interchan ┆ Street    ┆           ┆   ┆ 16:41:40  ┆           ┆           ┆          │\n",
       "│ 89b…      ┆ ge        ┆           ┆           ┆   ┆           ┆           ┆           ┆          │\n",
       "│ 45b0d75db ┆ Unit 10   ┆ Axis Park ┆ Manasty   ┆ … ┆ 2023-12-2 ┆ 41        ┆ null      ┆ null     │\n",
       "│ 662e3f60e ┆           ┆           ┆ Road      ┆   ┆ 1         ┆           ┆           ┆          │\n",
       "│ 03bb5a914 ┆           ┆           ┆           ┆   ┆ 10:11:53  ┆           ┆           ┆          │\n",
       "│ 55b…      ┆           ┆           ┆           ┆   ┆           ┆           ┆           ┆          │\n",
       "│ 96bbff000 ┆ Fieldfare ┆ Bristol   ┆ Emersons  ┆ … ┆ 2024-05-0 ┆ 100       ┆ null      ┆ null     │\n",
       "│ d58f9ecfb ┆           ┆           ┆ Green     ┆   ┆ 7         ┆           ┆           ┆          │\n",
       "│ 57103884d ┆           ┆           ┆           ┆   ┆ 13:34:31  ┆           ┆           ┆          │\n",
       "│ d62…      ┆           ┆           ┆           ┆   ┆           ┆           ┆           ┆          │\n",
       "│ 92db5ab0c ┆ Tea Shop  ┆ Grange    ┆ Rossingto ┆ … ┆ 2023-03-2 ┆ 587       ┆ null      ┆ null     │\n",
       "│ dc8fb9abf ┆           ┆ Road      ┆ n         ┆   ┆ 9         ┆           ┆           ┆          │\n",
       "│ 9860290d6 ┆           ┆           ┆           ┆   ┆ 13:51:26  ┆           ┆           ┆          │\n",
       "│ 0fc…      ┆           ┆           ┆           ┆   ┆           ┆           ┆           ┆          │\n",
       "│ c26700d9c ┆ Unit 5a   ┆ Kendal    ┆ null      ┆ … ┆ 2022-09-0 ┆ 333       ┆ 100110760 ┆ Energy   │\n",
       "│ 60fcf5e7e ┆ Highgate  ┆           ┆           ┆   ┆ 5         ┆           ┆ 221       ┆ Assessor │\n",
       "│ c6a4b258c ┆           ┆           ┆           ┆   ┆ 16:09:30  ┆           ┆           ┆          │\n",
       "│ d55…      ┆           ┆           ┆           ┆   ┆           ┆           ┆           ┆          │\n",
       "└───────────┴───────────┴───────────┴───────────┴───┴───────────┴───────────┴───────────┴──────────┘"
      ],
      "text/html": [
       "<div><style>\n",
       ".dataframe > thead > tr,\n",
       ".dataframe > tbody > tr {\n",
       "  text-align: right;\n",
       "  white-space: pre-wrap;\n",
       "}\n",
       "</style>\n",
       "<small>shape: (161, 40)</small><table border=\"1\" class=\"dataframe\"><thead><tr><th>lmk-key</th><th>address1</th><th>address2</th><th>address3</th><th>postcode</th><th>building-reference-number</th><th>asset-rating</th><th>asset-rating-band</th><th>property-type</th><th>inspection-date</th><th>local-authority</th><th>constituency</th><th>county</th><th>lodgement-date</th><th>transaction-type</th><th>new-build-benchmark</th><th>existing-stock-benchmark</th><th>building-level</th><th>main-heating-fuel</th><th>other-fuel-desc</th><th>special-energy-uses</th><th>renewable-sources</th><th>floor-area</th><th>standard-emissions</th><th>target-emissions</th><th>typical-emissions</th><th>building-emissions</th><th>aircon-present</th><th>aircon-kw-rating</th><th>estimated-aircon-kw-rating</th><th>ac-inspection-commissioned</th><th>building-environment</th><th>address</th><th>local-authority-label</th><th>constituency-label</th><th>posttown</th><th>lodgement-datetime</th><th>primary-energy-value</th><th>uprn</th><th>uprn-source</th></tr><tr><td>str</td><td>str</td><td>str</td><td>str</td><td>str</td><td>i64</td><td>i64</td><td>str</td><td>str</td><td>date</td><td>str</td><td>str</td><td>str</td><td>date</td><td>str</td><td>i64</td><td>i64</td><td>i64</td><td>str</td><td>str</td><td>str</td><td>str</td><td>i64</td><td>f64</td><td>f64</td><td>f64</td><td>f64</td><td>str</td><td>f64</td><td>f64</td><td>i64</td><td>str</td><td>str</td><td>str</td><td>str</td><td>str</td><td>datetime[μs]</td><td>i64</td><td>i64</td><td>str</td></tr></thead><tbody><tr><td>&quot;8df507b64c84d9f52c5d1ebf4c97bd…</td><td>null</td><td>&quot;40 High Street&quot;</td><td>&quot;Littlehampton&quot;</td><td>&quot;BN17 5ED&quot;</td><td>10004937631</td><td>27</td><td>&quot;B&quot;</td><td>&quot;A1/A2 Retail and Financial/Pro…</td><td>2023-08-07</td><td>&quot;E07000224&quot;</td><td>&quot;E14000576&quot;</td><td>&quot;West Sussex&quot;</td><td>2023-08-07</td><td>&quot;Mandatory issue (Marketed sale…</td><td>24</td><td>70</td><td>5</td><td>&quot;Grid Supplied Electricity&quot;</td><td>null</td><td>null</td><td>null</td><td>80</td><td>77.38</td><td>36.88</td><td>108.08</td><td>42.1</td><td>&quot;No&quot;</td><td>null</td><td>null</td><td>4</td><td>&quot;Air Conditioning&quot;</td><td>&quot;40 High Street, Littlehampton&quot;</td><td>&quot;Arun&quot;</td><td>&quot;Bognor Regis and Littlehampton&quot;</td><td>null</td><td>2023-08-08 06:24:35</td><td>249</td><td>10096429526</td><td>&quot;Address Matched&quot;</td></tr><tr><td>&quot;5e370ca2dbbba04eca65baa40425c3…</td><td>&quot;Basement Workshops&quot;</td><td>&quot;120 Holborn&quot;</td><td>null</td><td>&quot;W1W 6NS&quot;</td><td>10003552267</td><td>74</td><td>&quot;C&quot;</td><td>&quot;Offices and Workshop Businesse…</td><td>2022-10-17</td><td>&quot;E09000033&quot;</td><td>&quot;E14000639&quot;</td><td>null</td><td>2022-10-17</td><td>&quot;Mandatory issue (Marketed sale…</td><td>0</td><td>0</td><td>5</td><td>&quot;Grid Supplied Electricity&quot;</td><td>null</td><td>null</td><td>null</td><td>463</td><td>3.66</td><td>0.0</td><td>0.0</td><td>5.4</td><td>&quot;Yes&quot;</td><td>null</td><td>2.0</td><td>5</td><td>&quot;Air Conditioning&quot;</td><td>&quot;Basement Workshops, 120 Holbor…</td><td>&quot;Westminster&quot;</td><td>&quot;Cities of London and Westminst…</td><td>null</td><td>2022-10-18 13:22:40</td><td>57</td><td>null</td><td>null</td></tr><tr><td>&quot;a1907e04ecd9343326d35a5d79c358…</td><td>&quot;Unit G6&quot;</td><td>&quot;Oslo Close&quot;</td><td>&quot;Tyne Tunnel Trading Estate&quot;</td><td>&quot;NE29 7SZ&quot;</td><td>10005969383</td><td>43</td><td>&quot;B&quot;</td><td>&quot;Storage or Distribution&quot;</td><td>2024-04-15</td><td>&quot;E08000022&quot;</td><td>&quot;E14001006&quot;</td><td>null</td><td>2024-04-19</td><td>&quot;Mandatory issue (Property to l…</td><td>15</td><td>58</td><td>3</td><td>&quot;Other&quot;</td><td>null</td><td>null</td><td>null</td><td>525</td><td>3.87</td><td>1.13</td><td>4.52</td><td>3.33</td><td>&quot;No&quot;</td><td>null</td><td>null</td><td>4</td><td>&quot;Unconditioned&quot;</td><td>&quot;Unit G6, Oslo Close, Tyne Tunn…</td><td>&quot;North Tyneside&quot;</td><td>&quot;Tynemouth&quot;</td><td>null</td><td>2024-04-19 11:19:24</td><td>26</td><td>47237196</td><td>&quot;Address Matched&quot;</td></tr><tr><td>&quot;030a7efb4377993670dc363d29d246…</td><td>&quot;Unit B9&quot;</td><td>&quot;Whiteley Shopping Centre&quot;</td><td>&quot;Whiteley Way&quot;</td><td>&quot;PO15 7PD&quot;</td><td>10004389480</td><td>63</td><td>&quot;C&quot;</td><td>&quot;General Assembly and Leisure, …</td><td>2022-11-14</td><td>&quot;E07000094&quot;</td><td>&quot;E14000811&quot;</td><td>&quot;Hampshire&quot;</td><td>2022-12-20</td><td>&quot;Mandatory issue (Property to l…</td><td>14</td><td>56</td><td>4</td><td>&quot;Grid Supplied Electricity&quot;</td><td>null</td><td>null</td><td>null</td><td>936</td><td>26.11</td><td>7.24</td><td>29.03</td><td>32.78</td><td>&quot;No&quot;</td><td>null</td><td>null</td><td>4</td><td>&quot;Air Conditioning&quot;</td><td>&quot;Unit B9, Whiteley Shopping Cen…</td><td>&quot;Winchester&quot;</td><td>&quot;Meon Valley&quot;</td><td>null</td><td>2023-04-19 22:16:02</td><td>355</td><td>10090843642</td><td>&quot;Energy Assessor&quot;</td></tr><tr><td>&quot;5d06cc0176e0055c508bd530c1072d…</td><td>&quot;Thames Riviera Hotel&quot;</td><td>&quot;162 Bridge Road&quot;</td><td>&quot;Maidenhead&quot;</td><td>&quot;SL6 8DW&quot;</td><td>10003706395</td><td>29</td><td>&quot;B&quot;</td><td>&quot;Hotels&quot;</td><td>2022-10-21</td><td>&quot;E06000040&quot;</td><td>&quot;E14000803&quot;</td><td>null</td><td>2022-11-13</td><td>&quot;Voluntary re-issue (A valid EP…</td><td>14</td><td>54</td><td>5</td><td>&quot;Natural Gas&quot;</td><td>null</td><td>null</td><td>null</td><td>1619</td><td>83.42</td><td>22.73</td><td>90.92</td><td>48.8</td><td>&quot;Yes&quot;</td><td>null</td><td>2.0</td><td>4</td><td>&quot;Air Conditioning&quot;</td><td>&quot;Thames Riviera Hotel, 162 Brid…</td><td>&quot;Windsor and Maidenhead&quot;</td><td>&quot;Maidenhead&quot;</td><td>null</td><td>2022-11-14 22:03:47</td><td>377</td><td>100081276821</td><td>&quot;Energy Assessor&quot;</td></tr><tr><td>&hellip;</td><td>&hellip;</td><td>&hellip;</td><td>&hellip;</td><td>&hellip;</td><td>&hellip;</td><td>&hellip;</td><td>&hellip;</td><td>&hellip;</td><td>&hellip;</td><td>&hellip;</td><td>&hellip;</td><td>&hellip;</td><td>&hellip;</td><td>&hellip;</td><td>&hellip;</td><td>&hellip;</td><td>&hellip;</td><td>&hellip;</td><td>&hellip;</td><td>&hellip;</td><td>&hellip;</td><td>&hellip;</td><td>&hellip;</td><td>&hellip;</td><td>&hellip;</td><td>&hellip;</td><td>&hellip;</td><td>&hellip;</td><td>&hellip;</td><td>&hellip;</td><td>&hellip;</td><td>&hellip;</td><td>&hellip;</td><td>&hellip;</td><td>&hellip;</td><td>&hellip;</td><td>&hellip;</td><td>&hellip;</td><td>&hellip;</td></tr><tr><td>&quot;d504186fd17376d5db96bdd867589b…</td><td>&quot;Barnsley Transport Interchange&quot;</td><td>&quot;32-34 Midland Street&quot;</td><td>&quot;Barnsley&quot;</td><td>&quot;S70 1SE&quot;</td><td>10004079437</td><td>50</td><td>&quot;B&quot;</td><td>&quot;Retail/Financial and Professio…</td><td>2023-02-07</td><td>&quot;E08000016&quot;</td><td>&quot;E14000541&quot;</td><td>null</td><td>2023-02-13</td><td>&quot;Mandatory issue (Marketed sale…</td><td>9</td><td>37</td><td>3</td><td>&quot;Grid Supplied Electricity&quot;</td><td>null</td><td>null</td><td>null</td><td>167</td><td>20.78</td><td>3.78</td><td>15.18</td><td>20.6</td><td>&quot;Yes&quot;</td><td>null</td><td>2.0</td><td>5</td><td>&quot;Air Conditioning&quot;</td><td>&quot;Barnsley Transport Interchange…</td><td>&quot;Barnsley&quot;</td><td>&quot;Barnsley Central&quot;</td><td>null</td><td>2023-02-13 16:41:40</td><td>222</td><td>null</td><td>null</td></tr><tr><td>&quot;45b0d75db662e3f60e03bb5a91455b…</td><td>&quot;Unit 10&quot;</td><td>&quot;Axis Park&quot;</td><td>&quot;Manasty Road&quot;</td><td>&quot;PE2 6UP&quot;</td><td>10005429547</td><td>32</td><td>&quot;B&quot;</td><td>&quot;Storage or Distribution&quot;</td><td>2023-12-20</td><td>&quot;E06000031&quot;</td><td>&quot;E14000855&quot;</td><td>null</td><td>2023-12-21</td><td>&quot;Mandatory issue (Marketed sale…</td><td>19</td><td>77</td><td>4</td><td>&quot;Grid Supplied Electricity&quot;</td><td>null</td><td>null</td><td>null</td><td>947</td><td>6.37</td><td>2.46</td><td>9.87</td><td>4.12</td><td>&quot;No&quot;</td><td>null</td><td>null</td><td>4</td><td>&quot;Heating and Natural Ventilatio…</td><td>&quot;Unit 10, Axis Park, Manasty Ro…</td><td>&quot;Peterborough&quot;</td><td>&quot;North West Cambridgeshire&quot;</td><td>null</td><td>2023-12-21 10:11:53</td><td>41</td><td>null</td><td>null</td></tr><tr><td>&quot;96bbff000d58f9ecfb57103884dd62…</td><td>&quot;Fieldfare&quot;</td><td>&quot;Bristol&quot;</td><td>&quot;Emersons Green&quot;</td><td>&quot;BS16 7FN&quot;</td><td>10000839932</td><td>12</td><td>&quot;A&quot;</td><td>&quot;Restaurants and Cafes/Drinking…</td><td>2024-04-18</td><td>&quot;E06000025&quot;</td><td>&quot;E14000774&quot;</td><td>null</td><td>2024-05-07</td><td>&quot;Mandatory issue (Marketed sale…</td><td>13</td><td>53</td><td>5</td><td>&quot;Grid Supplied Electricity&quot;</td><td>null</td><td>null</td><td>null</td><td>430</td><td>39.69</td><td>10.59</td><td>42.37</td><td>9.31</td><td>&quot;Yes&quot;</td><td>null</td><td>2.0</td><td>5</td><td>&quot;Air Conditioning&quot;</td><td>&quot;Fieldfare, Bristol, Emersons G…</td><td>&quot;South Gloucestershire&quot;</td><td>&quot;Kingswood&quot;</td><td>null</td><td>2024-05-07 13:34:31</td><td>100</td><td>null</td><td>null</td></tr><tr><td>&quot;92db5ab0cdc8fb9abf9860290d60fc…</td><td>&quot;Tea Shop&quot;</td><td>&quot;Grange Road&quot;</td><td>&quot;Rossington&quot;</td><td>&quot;DN11 0LZ&quot;</td><td>10004242229</td><td>52</td><td>&quot;C&quot;</td><td>&quot;Restaurants and Cafes/Drinking…</td><td>2023-03-23</td><td>&quot;E08000017&quot;</td><td>&quot;E14000667&quot;</td><td>null</td><td>2023-03-29</td><td>&quot;Mandatory issue (Marketed sale…</td><td>16</td><td>63</td><td>3</td><td>&quot;Grid Supplied Electricity&quot;</td><td>null</td><td>null</td><td>null</td><td>115</td><td>52.9</td><td>16.7</td><td>66.97</td><td>54.96</td><td>&quot;No&quot;</td><td>null</td><td>null</td><td>4</td><td>&quot;Heating and Natural Ventilatio…</td><td>&quot;Tea Shop, Grange Road, Rossing…</td><td>&quot;Doncaster&quot;</td><td>&quot;Don Valley&quot;</td><td>null</td><td>2023-03-29 13:51:26</td><td>587</td><td>null</td><td>null</td></tr><tr><td>&quot;c26700d9c60fcf5e7ec6a4b258cd55…</td><td>&quot;Unit 5a Highgate&quot;</td><td>&quot;Kendal&quot;</td><td>null</td><td>&quot;LA9 4DA&quot;</td><td>10003383130</td><td>72</td><td>&quot;C&quot;</td><td>&quot;A1/A2 Retail and Financial/Pro…</td><td>2022-08-10</td><td>&quot;E07000031&quot;</td><td>&quot;E14001037&quot;</td><td>&quot;Cumbria&quot;</td><td>2022-09-05</td><td>&quot;Mandatory issue (Property on c…</td><td>33</td><td>88</td><td>5</td><td>&quot;Grid Supplied Electricity&quot;</td><td>null</td><td>null</td><td>null</td><td>140</td><td>39.13</td><td>25.74</td><td>68.65</td><td>56.41</td><td>&quot;No&quot;</td><td>null</td><td>null</td><td>4</td><td>&quot;Air Conditioning&quot;</td><td>&quot;Unit 5a Highgate, Kendal&quot;</td><td>&quot;South Lakeland&quot;</td><td>&quot;Westmorland and Lonsdale&quot;</td><td>null</td><td>2022-09-05 16:09:30</td><td>333</td><td>100110760221</td><td>&quot;Energy Assessor&quot;</td></tr></tbody></table></div>"
      ]
     },
     "execution_count": 7,
     "metadata": {},
     "output_type": "execute_result"
    }
   ],
   "execution_count": 7
  },
  {
   "metadata": {},
   "cell_type": "code",
   "outputs": [],
   "execution_count": null,
   "source": "",
   "id": "ddb8b84aa2be367e"
  }
 ],
 "metadata": {
  "kernelspec": {
   "display_name": "Python 3",
   "language": "python",
   "name": "python3"
  },
  "language_info": {
   "codemirror_mode": {
    "name": "ipython",
    "version": 2
   },
   "file_extension": ".py",
   "mimetype": "text/x-python",
   "name": "python",
   "nbconvert_exporter": "python",
   "pygments_lexer": "ipython2",
   "version": "2.7.6"
  }
 },
 "nbformat": 4,
 "nbformat_minor": 5
}
