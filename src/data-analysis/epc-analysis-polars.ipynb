{
 "cells": [
  {
   "cell_type": "code",
   "id": "initial_id",
   "metadata": {
    "collapsed": true,
    "ExecuteTime": {
     "end_time": "2024-08-29T11:05:17.881699Z",
     "start_time": "2024-08-29T11:05:17.875722Z"
    }
   },
   "source": [
    "import polars as pl\n",
    "import numpy as np\n",
    "from dotenv import load_dotenv\n",
    "import os"
   ],
   "outputs": [],
   "execution_count": 2
  },
  {
   "metadata": {
    "ExecuteTime": {
     "end_time": "2024-08-29T11:31:53.126713Z",
     "start_time": "2024-08-29T11:31:52.168118Z"
    }
   },
   "cell_type": "code",
   "source": [
    "load_dotenv()\n",
    "output_file = os.getenv('EPC_OUTPUT_FILE')\n",
    "all_epc = pl.read_csv(\n",
    "    output_file,\n",
    "    try_parse_dates=True\n",
    "    #dtype={'transaction-type': str, 'aircon-present': str},\n",
    "    #parse_dates=['lodgement-date', 'lodgement-datetime']\n",
    ")\n",
    "# len(all_epc) # 1378713 before any filtering\n",
    "# remove small properties\n",
    "all_epc = all_epc.filter(pl.col('floor-area') >= 40) # 40m2 min size\n",
    "# and remove prior records for same property\n",
    "dedup = all_epc.sort('lodgement-datetime').unique(subset=['building-reference-number'], keep='last')\n",
    "# df.sort_values('DATE_CHANGED').drop_duplicates('STATION_ID',keep='last')\n",
    "len(dedup) # 1213676 (1281342 before filter by floor area)"
   ],
   "id": "d559cde80409791d",
   "outputs": [
    {
     "data": {
      "text/plain": [
       "1217573"
      ]
     },
     "execution_count": 4,
     "metadata": {},
     "output_type": "execute_result"
    }
   ],
   "execution_count": 4
  },
  {
   "metadata": {
    "ExecuteTime": {
     "end_time": "2024-08-29T11:57:53.539099Z",
     "start_time": "2024-08-29T11:57:53.437542Z"
    }
   },
   "cell_type": "code",
   "source": "len(dedup.filter(pl.col(\"uprn\").is_null())) # 440164",
   "id": "c0c54170c8eba96b",
   "outputs": [
    {
     "data": {
      "text/plain": [
       "440164"
      ]
     },
     "execution_count": 6,
     "metadata": {},
     "output_type": "execute_result"
    }
   ],
   "execution_count": 6
  },
  {
   "metadata": {},
   "cell_type": "code",
   "outputs": [],
   "execution_count": null,
   "source": "",
   "id": "18725c86d27db5d6"
  }
 ],
 "metadata": {
  "kernelspec": {
   "display_name": "Python 3",
   "language": "python",
   "name": "python3"
  },
  "language_info": {
   "codemirror_mode": {
    "name": "ipython",
    "version": 2
   },
   "file_extension": ".py",
   "mimetype": "text/x-python",
   "name": "python",
   "nbconvert_exporter": "python",
   "pygments_lexer": "ipython2",
   "version": "2.7.6"
  }
 },
 "nbformat": 4,
 "nbformat_minor": 5
}
