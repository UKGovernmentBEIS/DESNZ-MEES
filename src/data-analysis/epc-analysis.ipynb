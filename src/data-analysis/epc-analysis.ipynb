{
 "cells": [
  {
   "metadata": {},
   "cell_type": "markdown",
   "source": [
    "# EPC Analysis\n",
    "key questions:\n",
    "- what ratio of records don't have a UPRN\n",
    "- how can this gap be filled\n",
    "- what ratio is below E compliance"
   ],
   "id": "2f7d302fcd7c07e6"
  },
  {
   "cell_type": "code",
   "id": "initial_id",
   "metadata": {
    "collapsed": true,
    "ExecuteTime": {
     "end_time": "2024-07-23T17:11:39.506928Z",
     "start_time": "2024-07-23T17:11:39.339484Z"
    }
   },
   "source": [
    "import pandas as pd\n",
    "import numpy as np\n",
    "from dotenv import load_dotenv\n",
    "import os"
   ],
   "outputs": [],
   "execution_count": 1
  },
  {
   "metadata": {
    "ExecuteTime": {
     "end_time": "2024-07-23T17:19:54.130872Z",
     "start_time": "2024-07-23T17:19:49.864617Z"
    }
   },
   "cell_type": "code",
   "source": [
    "load_dotenv()\n",
    "output_file = os.getenv('OUTPUT_FILE')\n",
    "all_epc = pd.read_csv(output_file, index_col=0, dtype={'transaction-type': str, 'aircon-present': str})"
   ],
   "id": "b4de105a740d0bac",
   "outputs": [],
   "execution_count": 6
  },
  {
   "metadata": {
    "ExecuteTime": {
     "end_time": "2024-07-24T08:59:15.354842Z",
     "start_time": "2024-07-24T08:59:15.350996Z"
    }
   },
   "cell_type": "code",
   "source": "len(all_epc)",
   "id": "26bb881bbe7027a2",
   "outputs": [
    {
     "data": {
      "text/plain": [
       "1378713"
      ]
     },
     "execution_count": 12,
     "metadata": {},
     "output_type": "execute_result"
    }
   ],
   "execution_count": 12
  },
  {
   "metadata": {
    "ExecuteTime": {
     "end_time": "2024-07-24T08:57:42.890835Z",
     "start_time": "2024-07-24T08:57:42.886438Z"
    }
   },
   "cell_type": "code",
   "source": "all_epc[\"uprn\"].isna().sum()",
   "id": "2d8deab753ec0651",
   "outputs": [
    {
     "data": {
      "text/plain": [
       "495860"
      ]
     },
     "execution_count": 10,
     "metadata": {},
     "output_type": "execute_result"
    }
   ],
   "execution_count": 10
  },
  {
   "metadata": {
    "ExecuteTime": {
     "end_time": "2024-07-24T09:18:52.348640Z",
     "start_time": "2024-07-24T09:18:52.304955Z"
    }
   },
   "cell_type": "code",
   "source": "len(all_epc[\"lodgement-date\"] >= \"2014-01-01\")",
   "id": "d3fe043dbb951add",
   "outputs": [
    {
     "data": {
      "text/plain": [
       "1378713"
      ]
     },
     "execution_count": 14,
     "metadata": {},
     "output_type": "execute_result"
    }
   ],
   "execution_count": 14
  },
  {
   "metadata": {},
   "cell_type": "code",
   "outputs": [],
   "execution_count": null,
   "source": "",
   "id": "d354fa1d9a094eca"
  }
 ],
 "metadata": {
  "kernelspec": {
   "display_name": "Python 3",
   "language": "python",
   "name": "python3"
  },
  "language_info": {
   "codemirror_mode": {
    "name": "ipython",
    "version": 2
   },
   "file_extension": ".py",
   "mimetype": "text/x-python",
   "name": "python",
   "nbconvert_exporter": "python",
   "pygments_lexer": "ipython2",
   "version": "2.7.6"
  }
 },
 "nbformat": 4,
 "nbformat_minor": 5
}
