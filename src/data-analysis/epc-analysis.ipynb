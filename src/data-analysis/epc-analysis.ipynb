{
 "cells": [
  {
   "metadata": {},
   "cell_type": "markdown",
   "source": [
    "# EPC Analysis\n",
    "key questions:\n",
    "- what ratio of records don't have a UPRN\n",
    "- how can this gap be filled\n",
    "- what ratio is below E compliance"
   ],
   "id": "2f7d302fcd7c07e6"
  },
  {
   "cell_type": "code",
   "id": "initial_id",
   "metadata": {
    "collapsed": true,
    "ExecuteTime": {
     "end_time": "2024-07-24T10:36:34.810179Z",
     "start_time": "2024-07-24T10:36:33.666621Z"
    }
   },
   "source": [
    "import pandas as pd\n",
    "import numpy as np\n",
    "from dotenv import load_dotenv\n",
    "import os"
   ],
   "outputs": [],
   "execution_count": 1
  },
  {
   "metadata": {
    "ExecuteTime": {
     "end_time": "2024-07-24T10:36:52.567618Z",
     "start_time": "2024-07-24T10:36:48.318374Z"
    }
   },
   "cell_type": "code",
   "source": [
    "load_dotenv()\n",
    "output_file = os.getenv('EPC_OUTPUT_FILE')\n",
    "all_epc = pd.read_csv(output_file, index_col=0, dtype={'transaction-type': str, 'aircon-present': str})"
   ],
   "id": "b4de105a740d0bac",
   "outputs": [],
   "execution_count": 2
  },
  {
   "metadata": {
    "ExecuteTime": {
     "end_time": "2024-07-24T10:37:58.338311Z",
     "start_time": "2024-07-24T10:37:58.332710Z"
    }
   },
   "cell_type": "code",
   "source": "len(all_epc)",
   "id": "26bb881bbe7027a2",
   "outputs": [
    {
     "data": {
      "text/plain": [
       "1378713"
      ]
     },
     "execution_count": 3,
     "metadata": {},
     "output_type": "execute_result"
    }
   ],
   "execution_count": 3
  },
  {
   "metadata": {
    "ExecuteTime": {
     "end_time": "2024-07-24T11:41:16.367721Z",
     "start_time": "2024-07-24T11:41:16.361707Z"
    }
   },
   "cell_type": "code",
   "source": "all_epc[\"uprn\"].isna().sum()",
   "id": "41ab74d4c6c02f63",
   "outputs": [
    {
     "data": {
      "text/plain": [
       "495860"
      ]
     },
     "execution_count": 18,
     "metadata": {},
     "output_type": "execute_result"
    }
   ],
   "execution_count": 18
  },
  {
   "metadata": {
    "ExecuteTime": {
     "end_time": "2024-07-24T11:22:21.343369Z",
     "start_time": "2024-07-24T11:22:21.304647Z"
    }
   },
   "cell_type": "code",
   "source": "all_epc[\"building-reference-number\"].nunique()",
   "id": "2d8deab753ec0651",
   "outputs": [
    {
     "data": {
      "text/plain": [
       "1281342"
      ]
     },
     "execution_count": 17,
     "metadata": {},
     "output_type": "execute_result"
    }
   ],
   "execution_count": 17
  },
  {
   "metadata": {
    "ExecuteTime": {
     "end_time": "2024-07-24T10:41:33.543316Z",
     "start_time": "2024-07-24T10:41:33.366710Z"
    }
   },
   "cell_type": "code",
   "source": "len(all_epc[all_epc[\"lodgement-date\"] >= \"2014-01-01\"])",
   "id": "d3fe043dbb951add",
   "outputs": [
    {
     "data": {
      "text/plain": [
       "917520"
      ]
     },
     "execution_count": 11,
     "metadata": {},
     "output_type": "execute_result"
    }
   ],
   "execution_count": 11
  },
  {
   "metadata": {
    "ExecuteTime": {
     "end_time": "2024-07-24T11:45:45.313468Z",
     "start_time": "2024-07-24T11:45:45.308896Z"
    }
   },
   "cell_type": "code",
   "source": "all_epc[\"building-reference-number\"].isna().sum()",
   "id": "a43d408ce9b65bc7",
   "outputs": [
    {
     "data": {
      "text/plain": [
       "0"
      ]
     },
     "execution_count": 21,
     "metadata": {},
     "output_type": "execute_result"
    }
   ],
   "execution_count": 21
  },
  {
   "metadata": {
    "ExecuteTime": {
     "end_time": "2024-08-06T13:33:08.692224Z",
     "start_time": "2024-08-06T13:33:08.504599Z"
    }
   },
   "cell_type": "code",
   "source": "all_epc[0:20]",
   "id": "6768715221cc7368",
   "outputs": [
    {
     "ename": "NameError",
     "evalue": "name 'all_epc' is not defined",
     "output_type": "error",
     "traceback": [
      "\u001B[0;31m---------------------------------------------------------------------------\u001B[0m",
      "\u001B[0;31mNameError\u001B[0m                                 Traceback (most recent call last)",
      "Cell \u001B[0;32mIn[1], line 1\u001B[0m\n\u001B[0;32m----> 1\u001B[0m \u001B[43mall_epc\u001B[49m[\u001B[38;5;241m0\u001B[39m:\u001B[38;5;241m20\u001B[39m][\u001B[38;5;124m\"\u001B[39m\u001B[38;5;124mtransaction-type\u001B[39m\u001B[38;5;124m\"\u001B[39m]\n",
      "\u001B[0;31mNameError\u001B[0m: name 'all_epc' is not defined"
     ]
    }
   ],
   "execution_count": 1
  },
  {
   "metadata": {},
   "cell_type": "code",
   "outputs": [],
   "execution_count": null,
   "source": "",
   "id": "6853bc9cd282fb9b"
  }
 ],
 "metadata": {
  "kernelspec": {
   "display_name": "Python 3",
   "language": "python",
   "name": "python3"
  },
  "language_info": {
   "codemirror_mode": {
    "name": "ipython",
    "version": 2
   },
   "file_extension": ".py",
   "mimetype": "text/x-python",
   "name": "python",
   "nbconvert_exporter": "python",
   "pygments_lexer": "ipython2",
   "version": "2.7.6"
  }
 },
 "nbformat": 4,
 "nbformat_minor": 5
}
