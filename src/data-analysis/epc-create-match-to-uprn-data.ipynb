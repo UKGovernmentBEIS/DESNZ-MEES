{
 "cells": [
  {
   "cell_type": "code",
   "id": "initial_id",
   "metadata": {
    "collapsed": true,
    "ExecuteTime": {
     "end_time": "2024-09-05T14:49:49.922925Z",
     "start_time": "2024-09-05T14:49:49.850282Z"
    }
   },
   "source": [
    "import polars as pl\n",
    "from dotenv import load_dotenv\n",
    "import os\n",
    "from datetime import datetime\n",
    "from rapidfuzz import process, fuzz\n",
    "load_dotenv()"
   ],
   "outputs": [
    {
     "data": {
      "text/plain": [
       "True"
      ]
     },
     "execution_count": 1,
     "metadata": {},
     "output_type": "execute_result"
    }
   ],
   "execution_count": 1
  },
  {
   "metadata": {
    "ExecuteTime": {
     "end_time": "2024-09-05T16:03:17.360156Z",
     "start_time": "2024-09-05T16:03:16.707998Z"
    }
   },
   "cell_type": "code",
   "source": [
    "load_dotenv()\n",
    "output_file = os.getenv('EPC_OUTPUT_FILE')\n",
    "all_epc = pl.read_csv(\n",
    "    output_file,\n",
    "    try_parse_dates=True\n",
    ")\n",
    "# remove small properties\n",
    "all_epc = all_epc.filter(pl.col('floor-area') >= 40) # 40m2 min size\n",
    "# only concerned with records without a uprn\n",
    "all_epc = all_epc.filter(pl.col('uprn').is_null())\n",
    "# and remove prior records for same property\n",
    "all_epc = all_epc.sort('lodgement-datetime').unique(subset=['building-reference-number'], keep='last')\n",
    "len(all_epc) # 1213676 (1281342 before filter by floor area)"
   ],
   "id": "5bd32bcdb3f0136a",
   "outputs": [
    {
     "data": {
      "text/plain": [
       "441492"
      ]
     },
     "execution_count": 22,
     "metadata": {},
     "output_type": "execute_result"
    }
   ],
   "execution_count": 22
  },
  {
   "metadata": {
    "ExecuteTime": {
     "end_time": "2024-09-05T14:51:53.313119Z",
     "start_time": "2024-09-05T14:51:53.310416Z"
    }
   },
   "cell_type": "code",
   "source": [
    "# config to load OS\n",
    "os_files_path = os.getenv('OS_FILES_PATH')\n",
    "csv_file_names = sorted(os.listdir(os_files_path))"
   ],
   "id": "33ab9481e50a3db3",
   "outputs": [],
   "execution_count": 3
  },
  {
   "metadata": {
    "ExecuteTime": {
     "end_time": "2024-09-05T14:51:54.334142Z",
     "start_time": "2024-09-05T14:51:54.331300Z"
    }
   },
   "cell_type": "code",
   "source": [
    "record_dfs = {}\n",
    "# record_types = [21,23,24,28,31,32] # as a min would need 21,24,28 for this\n",
    "record_types = [28]"
   ],
   "id": "1954032b82a4a130",
   "outputs": [],
   "execution_count": 4
  },
  {
   "metadata": {
    "ExecuteTime": {
     "end_time": "2024-09-05T14:52:00.185684Z",
     "start_time": "2024-09-05T14:51:55.898166Z"
    }
   },
   "cell_type": "code",
   "source": [
    "# read each file and assign to correct os record type\n",
    "for file_name in csv_file_names:\n",
    "    record_type = int(file_name[2:4])\n",
    "    if record_type not in record_types: continue\n",
    "    print(f'file_name: [{file_name}], time: [{datetime.now().strftime(\"%H:%M:%S\")}]')\n",
    "    temp_df = pl.read_csv(f'{os_files_path}/{file_name}', infer_schema_length=0)\n",
    "    record_dfs[record_type] = temp_df\n",
    "\n",
    "print('done')"
   ],
   "id": "3d2576ce2a535438",
   "outputs": [
    {
     "name": "stdout",
     "output_type": "stream",
     "text": [
      "file_name: [ID28_DPA_Records.csv], time: [15:51:55]\n",
      "done\n"
     ]
    }
   ],
   "execution_count": 5
  },
  {
   "metadata": {
    "ExecuteTime": {
     "end_time": "2024-09-05T14:52:07.015777Z",
     "start_time": "2024-09-05T14:52:07.012053Z"
    }
   },
   "cell_type": "code",
   "source": [
    "# check everything is ok\n",
    "for record_type in record_dfs.keys():\n",
    "    print(f'type: [{record_type}], count: [{len(record_dfs[record_type])}]')\n",
    "    \n",
    "## type: [21], count: [40825714]\n",
    "## type: [23], count: [197964510]\n",
    "## type: [28], count: [30598226]\n",
    "## type: [31], count: [1422087]\n",
    "## type: [32], count: [44684909]"
   ],
   "id": "cb561905cc8f6ab0",
   "outputs": [
    {
     "name": "stdout",
     "output_type": "stream",
     "text": [
      "type: [28], count: [30598226]\n"
     ]
    }
   ],
   "execution_count": 6
  },
  {
   "metadata": {
    "ExecuteTime": {
     "end_time": "2024-09-05T16:05:14.723009Z",
     "start_time": "2024-09-05T16:05:14.717780Z"
    }
   },
   "cell_type": "code",
   "source": [
    "# format addresses\n",
    "def format_abp_address(abp_row):\n",
    "    # todo: if welsh vs english - req join with 21, blpu.COUNTRY == E or W\n",
    "    organisation_name = abp_row[5]\n",
    "    department_name = abp_row[6]\n",
    "    sub_building_name = abp_row[7]\n",
    "    building_name = abp_row[8]\n",
    "    building_number = abp_row[9]\n",
    "    dependant_thoroughfare = abp_row[10]\n",
    "    thoroughfare = abp_row[11]\n",
    "    dependant_locality = abp_row[13]\n",
    "    post_town = abp_row[14]\n",
    "    postcode = abp_row[15]\n",
    "    uprn = abp_row[3]\n",
    "    \n",
    "    formatted_address = ''\n",
    "    # taylor this for each dataset, epc has an address field that is equiv to name,number,street so currently only using those\n",
    "    for part in [#organisation_name, department_name, \n",
    "                 sub_building_name, building_name, building_number, \n",
    "                 dependant_thoroughfare, thoroughfare, \n",
    "                 #dependant_locality, post_town, postcode\n",
    "                 ]:\n",
    "        if part is not None:\n",
    "            formatted_address += f'{part}, '\n",
    "            \n",
    "    return formatted_address[:-2], uprn\n",
    "    "
   ],
   "id": "3fd1f51ea84763cc",
   "outputs": [],
   "execution_count": 23
  },
  {
   "metadata": {
    "ExecuteTime": {
     "end_time": "2024-09-05T16:46:43.978019Z",
     "start_time": "2024-09-05T16:46:43.877783Z"
    }
   },
   "cell_type": "code",
   "source": [
    "# attempt the match\n",
    "uprn_matched = []\n",
    "count_no_postcode = 0\n",
    "count_postcode_not_found = 0\n",
    "for row in all_epc.iter_rows(named=True):\n",
    "    if row['postcode'] == '': \n",
    "        uprn_matched.append(None)\n",
    "        count_no_postcode += 1\n",
    "        # at this point you could decide to choose the subset based on town/county/district instead\n",
    "        continue\n",
    "    \n",
    "    local_abp = record_dfs[28].filter(pl.col('POSTCODE') == row['postcode'])\n",
    "    if local_abp.is_empty():\n",
    "        uprn_matched.append(None)\n",
    "        count_postcode_not_found += 1\n",
    "        # same as above, obvs the source postcode is wrong if not found in abp\n",
    "        continue\n",
    "\n",
    "    formatted_epc_address = row['address'].upper()\n",
    "\n",
    "    local_addresses = local_abp.map_rows(format_abp_address)\n",
    "    local_abp_addresses_0 = local_addresses.get_column('column_0')\n",
    "    local_abp_addresses_1 = local_addresses.get_column('column_1')\n",
    "    \n",
    "    # ok, this needs some optimising to figure out the best performance vs accuracy. \n",
    "    # for first 1000 records in ccod: ratio: 5s; partial_ratio: 5s\n",
    "    # cdist of both lists, using all available processors, may be better perf.\n",
    "    matches = process.extract(\n",
    "        formatted_epc_address, \n",
    "        local_abp_addresses_0, \n",
    "        scorer=fuzz.partial_ratio, \n",
    "        limit=5)\n",
    "    # print(matches)\n",
    "    if len(matches) > 0:\n",
    "        for match in matches:\n",
    "            uprn_matched.append((\n",
    "                row['lmk-key'], \n",
    "                local_abp_addresses_1[match[2]], # gets uprn at same index as the match, relative to current postcode\n",
    "                match[1]))\n",
    "        \n",
    "\n",
    "print('done')\n",
    "print('postcode missing:', count_no_postcode)\n",
    "print('postcode not found:', count_postcode_not_found)"
   ],
   "id": "4abf67b26923ec43",
   "outputs": [
    {
     "name": "stdout",
     "output_type": "stream",
     "text": [
      "[('FLAT 1, MANSION CANALSIDE A, 50, LOWER LOVEDAY STREET', 82.75862068965517, 0), ('FLAT 2, MANSION CANALSIDE A, 50, LOWER LOVEDAY STREET', 82.75862068965517, 1), ('FLAT 3, MANSION CANALSIDE A, 50, LOWER LOVEDAY STREET', 82.75862068965517, 2), ('FLAT 4, MANSION CANALSIDE A, 50, LOWER LOVEDAY STREET', 82.75862068965517, 3), ('FLAT 36, MANSION CANALSIDE A, 50, LOWER LOVEDAY STREET', 82.75862068965517, 4)]\n",
      "[('UNIT 43-43, BOXPARK CROYDON, 99, GEORGE STREET', 80.64516129032258, 56), ('UNIT 3-4, BOXPARK CROYDON, 99, GEORGE STREET', 80.0, 10), ('UNIT 30, BOXPARK CROYDON, 99, GEORGE STREET', 77.96610169491525, 32), ('UNIT 31, BOXPARK CROYDON, 99, GEORGE STREET', 77.96610169491525, 33), ('UNIT 36, BOXPARK CROYDON, 99, GEORGE STREET', 77.96610169491525, 35)]\n",
      "[('1, OLD FIELD ROAD', 96.96969696969697, 25), ('1, OLD FIELD ROAD', 96.96969696969697, 26), ('1, OLD FIELD ROAD', 96.96969696969697, 27), ('31, OLD FIELD ROAD', 94.11764705882352, 6), ('31, OLD FIELD ROAD', 94.11764705882352, 7)]\n",
      "[('PYM STREET', 100.0, 4), ('PYM STREET', 100.0, 6), ('PYM STREET', 100.0, 10), ('2, PYM STREET', 96.0, 0), ('1, PYM STREET', 96.0, 2)]\n",
      "[('29, NORTHGATE', 91.66666666666666, 3), ('41, NORTHGATE', 88.0, 2), ('29A, NORTHGATE', 88.0, 4), ('31, NORTHGATE', 88.0, 5), ('21, NORTHGATE', 88.0, 8)]\n",
      "[('9, NEWLAND STREET', 94.11764705882352, 41), ('28, NEWLAND STREET', 88.88888888888889, 1), ('12, NEWLAND STREET', 88.88888888888889, 6), ('14, NEWLAND STREET', 88.88888888888889, 7), ('16, NEWLAND STREET', 88.88888888888889, 8)]\n",
      "[('171, FORTESS ROAD', 100.0, 30), ('117, FORTESS ROAD', 96.96969696969697, 33), ('127, FORTESS ROAD', 94.11764705882352, 0), ('161, FORTESS ROAD', 94.11764705882352, 1), ('167, FORTESS ROAD', 94.11764705882352, 2)]\n",
      "[('RADFORD ROAD', 100.0, 5), ('145, RADFORD ROAD', 90.9090909090909, 0), ('151, RADFORD ROAD', 90.9090909090909, 1), ('157, RADFORD ROAD', 90.9090909090909, 7), ('159, RADFORD ROAD', 90.9090909090909, 8)]\n",
      "[('THE BROCKERIDGE CENTRE, WOODEND ROAD', 100.0, 8), ('86, WOODEND ROAD', 93.33333333333333, 5), ('82, WOODEND ROAD', 93.33333333333333, 7), ('84, WOODEND ROAD', 93.33333333333333, 9), ('88, WOODEND ROAD', 93.33333333333333, 13)]\n",
      "[('5, BALLIOL ROAD', 96.55172413793103, 13), ('15, BALLIOL ROAD', 93.33333333333333, 12), ('3, BALLIOL ROAD', 92.85714285714286, 2), ('4, BALLIOL ROAD', 92.85714285714286, 3), ('6, BALLIOL ROAD', 92.85714285714286, 4)]\n",
      "done\n",
      "postcode missing: 0\n",
      "postcode not found: 0\n"
     ]
    }
   ],
   "execution_count": 30
  },
  {
   "metadata": {
    "ExecuteTime": {
     "end_time": "2024-09-05T16:23:05.652595Z",
     "start_time": "2024-09-05T16:23:05.645962Z"
    }
   },
   "cell_type": "code",
   "source": "all_epc.head(10)",
   "id": "bb32965f5b00993f",
   "outputs": [
    {
     "data": {
      "text/plain": [
       "shape: (10, 40)\n",
       "┌────────────┬──────────┬────────────┬────────────┬───┬────────────┬────────────┬──────┬───────────┐\n",
       "│ lmk-key    ┆ address1 ┆ address2   ┆ address3   ┆ … ┆ lodgement- ┆ primary-en ┆ uprn ┆ uprn-sour │\n",
       "│ ---        ┆ ---      ┆ ---        ┆ ---        ┆   ┆ datetime   ┆ ergy-value ┆ ---  ┆ ce        │\n",
       "│ str        ┆ str      ┆ str        ┆ str        ┆   ┆ ---        ┆ ---        ┆ i64  ┆ ---       │\n",
       "│            ┆          ┆            ┆            ┆   ┆ datetime[μ ┆ i64        ┆      ┆ str       │\n",
       "│            ┆          ┆            ┆            ┆   ┆ s]         ┆            ┆      ┆           │\n",
       "╞════════════╪══════════╪════════════╪════════════╪═══╪════════════╪════════════╪══════╪═══════════╡\n",
       "│ 802aaf5c52 ┆ BLOCK A  ┆ The        ┆ 50 Lower   ┆ … ┆ 2017-06-27 ┆ 862        ┆ null ┆ null      │\n",
       "│ 3849468ab9 ┆          ┆ Canalside  ┆ Loveday    ┆   ┆ 00:00:00   ┆            ┆      ┆           │\n",
       "│ 2e91e429a1 ┆          ┆            ┆ Street     ┆   ┆            ┆            ┆      ┆           │\n",
       "│ …          ┆          ┆            ┆            ┆   ┆            ┆            ┆      ┆           │\n",
       "│ 1235088402 ┆ null     ┆ Yo!, Units ┆ Boxpark    ┆ … ┆ 2017-06-28 ┆ 602        ┆ null ┆ null      │\n",
       "│ 4201706281 ┆          ┆ 34 & 35    ┆ Croydon    ┆   ┆ 17:32:16   ┆            ┆      ┆           │\n",
       "│ 7321698800 ┆          ┆            ┆            ┆   ┆            ┆            ┆      ┆           │\n",
       "│ …          ┆          ┆            ┆            ┆   ┆            ┆            ┆      ┆           │\n",
       "│ 1976436321 ┆ null     ┆ 1 Old      ┆ Pencoed    ┆ … ┆ 2015-03-31 ┆ null       ┆ null ┆ null      │\n",
       "│ 2015033115 ┆          ┆ Field Road ┆            ┆   ┆ 15:29:37   ┆            ┆      ┆           │\n",
       "│ 2937020091 ┆          ┆            ┆            ┆   ┆            ┆            ┆      ┆           │\n",
       "│ …          ┆          ┆            ┆            ┆   ┆            ┆            ┆      ┆           │\n",
       "│ 3805527020 ┆ 1B -     ┆ Barsand    ┆ Pym Street ┆ … ┆ 2010-07-09 ┆ null       ┆ null ┆ null      │\n",
       "│ 2010070913 ┆          ┆ House      ┆            ┆   ┆ 13:18:18   ┆            ┆      ┆           │\n",
       "│ 1818785100 ┆          ┆            ┆            ┆   ┆            ┆            ┆      ┆           │\n",
       "│ …          ┆          ┆            ┆            ┆   ┆            ┆            ┆      ┆           │\n",
       "│ 4601725701 ┆ null     ┆ Retail     ┆ 19         ┆ … ┆ 2011-01-07 ┆ null       ┆ null ┆ null      │\n",
       "│ 2011010712 ┆          ┆ Unit       ┆ Northgate  ┆   ┆ 12:04:23   ┆            ┆      ┆           │\n",
       "│ 0423070094 ┆          ┆            ┆            ┆   ┆            ┆            ┆      ┆           │\n",
       "│ …          ┆          ┆            ┆            ┆   ┆            ┆            ┆      ┆           │\n",
       "│ 01a6a99953 ┆ Unit 55A ┆ 9 Newland  ┆ Eden       ┆ … ┆ 2023-10-12 ┆ 91         ┆ null ┆ null      │\n",
       "│ c96c3462e5 ┆          ┆ Street     ┆            ┆   ┆ 10:04:30   ┆            ┆      ┆           │\n",
       "│ 49a974944f ┆          ┆            ┆            ┆   ┆            ┆            ┆      ┆           │\n",
       "│ …          ┆          ┆            ┆            ┆   ┆            ┆            ┆      ┆           │\n",
       "│ bef60fd9f7 ┆ null     ┆ 171,       ┆ null       ┆ … ┆ 2017-09-19 ┆ 1046       ┆ null ┆ null      │\n",
       "│ e5784d2e01 ┆          ┆ Fortess    ┆            ┆   ┆ 00:00:00   ┆            ┆      ┆           │\n",
       "│ cf86d8903c ┆          ┆ Road       ┆            ┆   ┆            ┆            ┆      ┆           │\n",
       "│ …          ┆          ┆            ┆            ┆   ┆            ┆            ┆      ┆           │\n",
       "│ 1000193103 ┆ null     ┆ 151-155    ┆ null       ┆ … ┆ 2009-01-22 ┆ null       ┆ null ┆ null      │\n",
       "│ 2009012214 ┆          ┆ Radford    ┆            ┆   ┆ 14:56:38   ┆            ┆      ┆           │\n",
       "│ 5638930006 ┆          ┆ Road       ┆            ┆   ┆            ┆            ┆      ┆           │\n",
       "│ …          ┆          ┆            ┆            ┆   ┆            ┆            ┆      ┆           │\n",
       "│ 2bbf94592c ┆ null     ┆ Frampton   ┆ The Brocke ┆ … ┆ 2014-02-25 ┆ null       ┆ null ┆ null      │\n",
       "│ 0751ba8ae7 ┆          ┆ Cotterell  ┆ ridge      ┆   ┆ 00:00:00   ┆            ┆      ┆           │\n",
       "│ ab5ae3ecd1 ┆          ┆ Parish     ┆ Centre,    ┆   ┆            ┆            ┆      ┆           │\n",
       "│ …          ┆          ┆ Coun…      ┆ Wooden…    ┆   ┆            ┆            ┆      ┆           │\n",
       "│ 28d157aa1c ┆ null     ┆ New Road   ┆ 5 Balliol  ┆ … ┆ 2016-03-30 ┆ null       ┆ null ┆ null      │\n",
       "│ e61ead8489 ┆          ┆ Day Centre ┆ Road       ┆   ┆ 00:00:00   ┆            ┆      ┆           │\n",
       "│ adb7024e41 ┆          ┆            ┆            ┆   ┆            ┆            ┆      ┆           │\n",
       "│ …          ┆          ┆            ┆            ┆   ┆            ┆            ┆      ┆           │\n",
       "└────────────┴──────────┴────────────┴────────────┴───┴────────────┴────────────┴──────┴───────────┘"
      ],
      "text/html": [
       "<div><style>\n",
       ".dataframe > thead > tr,\n",
       ".dataframe > tbody > tr {\n",
       "  text-align: right;\n",
       "  white-space: pre-wrap;\n",
       "}\n",
       "</style>\n",
       "<small>shape: (10, 40)</small><table border=\"1\" class=\"dataframe\"><thead><tr><th>lmk-key</th><th>address1</th><th>address2</th><th>address3</th><th>postcode</th><th>building-reference-number</th><th>asset-rating</th><th>asset-rating-band</th><th>property-type</th><th>inspection-date</th><th>local-authority</th><th>constituency</th><th>county</th><th>lodgement-date</th><th>transaction-type</th><th>new-build-benchmark</th><th>existing-stock-benchmark</th><th>building-level</th><th>main-heating-fuel</th><th>other-fuel-desc</th><th>special-energy-uses</th><th>renewable-sources</th><th>floor-area</th><th>standard-emissions</th><th>target-emissions</th><th>typical-emissions</th><th>building-emissions</th><th>aircon-present</th><th>aircon-kw-rating</th><th>estimated-aircon-kw-rating</th><th>ac-inspection-commissioned</th><th>building-environment</th><th>address</th><th>local-authority-label</th><th>constituency-label</th><th>posttown</th><th>lodgement-datetime</th><th>primary-energy-value</th><th>uprn</th><th>uprn-source</th></tr><tr><td>str</td><td>str</td><td>str</td><td>str</td><td>str</td><td>i64</td><td>i64</td><td>str</td><td>str</td><td>date</td><td>str</td><td>str</td><td>str</td><td>date</td><td>str</td><td>i64</td><td>i64</td><td>i64</td><td>str</td><td>str</td><td>str</td><td>str</td><td>i64</td><td>f64</td><td>f64</td><td>f64</td><td>f64</td><td>str</td><td>f64</td><td>f64</td><td>i64</td><td>str</td><td>str</td><td>str</td><td>str</td><td>str</td><td>datetime[μs]</td><td>i64</td><td>i64</td><td>str</td></tr></thead><tbody><tr><td>&quot;802aaf5c523849468ab92e91e429a1…</td><td>&quot;BLOCK A&quot;</td><td>&quot;The Canalside&quot;</td><td>&quot;50 Lower Loveday Street&quot;</td><td>&quot;B19 3SJ&quot;</td><td>10003553446</td><td>78</td><td>&quot;D&quot;</td><td>&quot;C2 Residential Institutions - …</td><td>2017-05-19</td><td>&quot;E08000025&quot;</td><td>&quot;E14000564&quot;</td><td>null</td><td>2017-06-27</td><td>&quot;Voluntary (No legal requiremen…</td><td>46</td><td>135</td><td>4</td><td>&quot;Grid Supplied Electricity&quot;</td><td>null</td><td>null</td><td>null</td><td>10218</td><td>93.07</td><td>85.46</td><td>250.43</td><td>145.76</td><td>&quot;No&quot;</td><td>null</td><td>null</td><td>4</td><td>&quot;Heating and Natural Ventilatio…</td><td>&quot;BLOCK A, The Canalside, 50 Low…</td><td>&quot;Birmingham&quot;</td><td>&quot;Birmingham, Ladywood&quot;</td><td>&quot;BIRMINGHAM&quot;</td><td>2017-06-27 00:00:00</td><td>862</td><td>null</td><td>null</td></tr><tr><td>&quot;123508840242017062817321698800…</td><td>null</td><td>&quot;Yo!, Units 34 &amp; 35&quot;</td><td>&quot;Boxpark Croydon&quot;</td><td>&quot;CR0 1LD&quot;</td><td>629054890000</td><td>39</td><td>&quot;B&quot;</td><td>&quot;A3/A4/A5 Restaurant and Cafes/…</td><td>2017-06-28</td><td>&quot;E09000008&quot;</td><td>&quot;E14000654&quot;</td><td>&quot;Greater London Authority&quot;</td><td>2017-06-28</td><td>&quot;Mandatory issue (Property on c…</td><td>41</td><td>119</td><td>4</td><td>&quot;Grid Supplied Electricity&quot;</td><td>null</td><td>null</td><td>null</td><td>56</td><td>132.06</td><td>106.99</td><td>313.53</td><td>101.83</td><td>&quot;No&quot;</td><td>null</td><td>null</td><td>4</td><td>&quot;Air Conditioning&quot;</td><td>&quot;Yo!, Units 34 &amp; 35, Boxpark Cr…</td><td>&quot;Croydon&quot;</td><td>&quot;Croydon Central&quot;</td><td>&quot;CROYDON&quot;</td><td>2017-06-28 17:32:16</td><td>602</td><td>null</td><td>null</td></tr><tr><td>&quot;197643632120150331152937020091…</td><td>null</td><td>&quot;1 Old Field Road&quot;</td><td>&quot;Pencoed&quot;</td><td>&quot;CF35 5LJ&quot;</td><td>109832110000</td><td>69</td><td>&quot;C&quot;</td><td>&quot;B1 Offices and Workshop busine…</td><td>2015-03-26</td><td>&quot;W06000013&quot;</td><td>&quot;W07000074&quot;</td><td>&quot;Pen-y-bont ar Ogwr - Bridgend&quot;</td><td>2015-03-31</td><td>&quot;Mandatory issue (Marketed sale…</td><td>23</td><td>67</td><td>3</td><td>&quot;Grid Supplied Electricity&quot;</td><td>null</td><td>null</td><td>null</td><td>3015</td><td>47.48</td><td>21.6</td><td>63.29</td><td>65.42</td><td>&quot;Yes&quot;</td><td>null</td><td>2.0</td><td>5</td><td>&quot;Air Conditioning&quot;</td><td>&quot;1 Old Field Road, Pencoed&quot;</td><td>&quot;Bridgend&quot;</td><td>&quot;Ogmore&quot;</td><td>&quot;BRIDGEND&quot;</td><td>2015-03-31 15:29:37</td><td>null</td><td>null</td><td>null</td></tr><tr><td>&quot;380552702020100709131818785100…</td><td>&quot;1B -&quot;</td><td>&quot;Barsand House&quot;</td><td>&quot;Pym Street&quot;</td><td>&quot;PL19 0AW&quot;</td><td>226467570001</td><td>70</td><td>&quot;C&quot;</td><td>&quot;Retail&quot;</td><td>2010-07-08</td><td>&quot;E07000047&quot;</td><td>&quot;E14001000&quot;</td><td>&quot;Devon County&quot;</td><td>2010-07-09</td><td>&quot;Mandatory issue (Property to l…</td><td>36</td><td>46</td><td>3</td><td>&quot;Grid Supplied Electricity&quot;</td><td>null</td><td>null</td><td>null</td><td>92</td><td>92.42</td><td>66.62</td><td>84.66</td><td>129.91</td><td>&quot;No&quot;</td><td>null</td><td>null</td><td>4</td><td>&quot;Heating and Natural Ventilatio…</td><td>&quot;1B -, Barsand House, Pym Stree…</td><td>&quot;West Devon&quot;</td><td>&quot;Torridge and West Devon&quot;</td><td>&quot;TAVISTOCK&quot;</td><td>2010-07-09 13:18:18</td><td>null</td><td>null</td><td>null</td></tr><tr><td>&quot;460172570120110107120423070094…</td><td>null</td><td>&quot;Retail Unit&quot;</td><td>&quot;19 Northgate&quot;</td><td>&quot;WF1 3BJ&quot;</td><td>429177670000</td><td>59</td><td>&quot;C&quot;</td><td>&quot;Retail&quot;</td><td>2011-01-05</td><td>&quot;E08000036&quot;</td><td>&quot;E14001009&quot;</td><td>&quot;Wakefield District (B)&quot;</td><td>2011-01-07</td><td>&quot;Mandatory issue (Marketed sale…</td><td>37</td><td>46</td><td>3</td><td>&quot;Grid Supplied Electricity&quot;</td><td>null</td><td>null</td><td>null</td><td>62</td><td>94.42</td><td>69.15</td><td>87.45</td><td>111.03</td><td>&quot;No&quot;</td><td>null</td><td>null</td><td>4</td><td>&quot;Heating and Natural Ventilatio…</td><td>&quot;Retail Unit, 19 Northgate&quot;</td><td>&quot;Wakefield&quot;</td><td>&quot;Wakefield&quot;</td><td>&quot;WAKEFIELD&quot;</td><td>2011-01-07 12:04:23</td><td>null</td><td>null</td><td>null</td></tr><tr><td>&quot;01a6a99953c96c3462e549a974944f…</td><td>&quot;Unit 55A&quot;</td><td>&quot;9 Newland Street&quot;</td><td>&quot;Eden&quot;</td><td>&quot;HP11 2BY&quot;</td><td>10005208975</td><td>43</td><td>&quot;B&quot;</td><td>&quot;Retail/Financial and Professio…</td><td>2023-10-10</td><td>&quot;E06000060&quot;</td><td>&quot;E14001056&quot;</td><td>null</td><td>2023-10-12</td><td>&quot;Mandatory issue (Marketed sale…</td><td>9</td><td>36</td><td>3</td><td>&quot;Grid Supplied Electricity&quot;</td><td>null</td><td>null</td><td>null</td><td>487</td><td>9.83</td><td>1.78</td><td>7.13</td><td>8.47</td><td>&quot;Yes&quot;</td><td>null</td><td>1.0</td><td>1</td><td>&quot;Air Conditioning&quot;</td><td>&quot;Unit 55A, 9 Newland Street, Ed…</td><td>&quot;Buckinghamshire&quot;</td><td>&quot;Wycombe&quot;</td><td>&quot;High Wycombe&quot;</td><td>2023-10-12 10:04:30</td><td>91</td><td>null</td><td>null</td></tr><tr><td>&quot;bef60fd9f7e5784d2e01cf86d8903c…</td><td>null</td><td>&quot;171, Fortess Road&quot;</td><td>null</td><td>&quot;NW5 2HR&quot;</td><td>10003523280</td><td>101</td><td>&quot;E&quot;</td><td>&quot;A3/A4/A5 Restaurant and Cafes/…</td><td>2017-09-13</td><td>&quot;E09000007&quot;</td><td>&quot;E14000750&quot;</td><td>null</td><td>2017-09-19</td><td>&quot;Voluntary (No legal requiremen…</td><td>29</td><td>85</td><td>3</td><td>&quot;Grid Supplied Electricity&quot;</td><td>null</td><td>null</td><td>null</td><td>95</td><td>87.54</td><td>50.84</td><td>148.99</td><td>177.12</td><td>&quot;No&quot;</td><td>null</td><td>null</td><td>4</td><td>&quot;Heating and Natural Ventilatio…</td><td>&quot;171, Fortess Road&quot;</td><td>&quot;Camden&quot;</td><td>&quot;Holborn and St Pancras&quot;</td><td>&quot;LONDON&quot;</td><td>2017-09-19 00:00:00</td><td>1046</td><td>null</td><td>null</td></tr><tr><td>&quot;100019310320090122145638930006…</td><td>null</td><td>&quot;151-155 Radford Road&quot;</td><td>null</td><td>&quot;CV6 3BT&quot;</td><td>373368410000</td><td>69</td><td>&quot;C&quot;</td><td>&quot;Retail&quot;</td><td>2009-01-21</td><td>&quot;E08000026&quot;</td><td>&quot;E14000650&quot;</td><td>null</td><td>2009-01-22</td><td>null</td><td>38</td><td>55</td><td>3</td><td>&quot;Natural Gas&quot;</td><td>null</td><td>null</td><td>null</td><td>250</td><td>null</td><td>null</td><td>null</td><td>null</td><td>null</td><td>null</td><td>null</td><td>null</td><td>&quot;Heating and Natural Ventilatio…</td><td>&quot;151-155 Radford Road&quot;</td><td>&quot;Coventry&quot;</td><td>&quot;Coventry North West&quot;</td><td>&quot;COVENTRY&quot;</td><td>2009-01-22 14:56:38</td><td>null</td><td>null</td><td>null</td></tr><tr><td>&quot;2bbf94592c0751ba8ae7ab5ae3ecd1…</td><td>null</td><td>&quot;Frampton Cotterell Parish Coun…</td><td>&quot;The Brockeridge Centre, Wooden…</td><td>&quot;BS36 2LQ&quot;</td><td>10003534305</td><td>81</td><td>&quot;D&quot;</td><td>&quot;B1 Offices and Workshop busine…</td><td>2014-02-20</td><td>&quot;E06000025&quot;</td><td>&quot;E14000994&quot;</td><td>null</td><td>2014-02-25</td><td>&quot;Voluntary (No legal requiremen…</td><td>31</td><td>84</td><td>3</td><td>&quot;Natural Gas&quot;</td><td>null</td><td>null</td><td>null</td><td>232</td><td>40.84</td><td>25.64</td><td>68.38</td><td>66.02</td><td>&quot;No&quot;</td><td>null</td><td>null</td><td>4</td><td>&quot;Heating and Natural Ventilatio…</td><td>&quot;Frampton Cotterell Parish Coun…</td><td>&quot;South Gloucestershire&quot;</td><td>&quot;Thornbury and Yate&quot;</td><td>&quot;BRISTOL&quot;</td><td>2014-02-25 00:00:00</td><td>null</td><td>null</td><td>null</td></tr><tr><td>&quot;28d157aa1ce61ead8489adb7024e41…</td><td>null</td><td>&quot;New Road Day Centre&quot;</td><td>&quot;5 Balliol Road&quot;</td><td>&quot;PO2 7PP&quot;</td><td>130357270000</td><td>44</td><td>&quot;B&quot;</td><td>&quot;C2 Residential Institutions - …</td><td>2016-03-25</td><td>&quot;E06000044&quot;</td><td>&quot;E14000884&quot;</td><td>null</td><td>2016-03-30</td><td>&quot;Voluntary (No legal requiremen…</td><td>24</td><td>72</td><td>4</td><td>&quot;Natural Gas&quot;</td><td>null</td><td>null</td><td>null</td><td>634</td><td>76.36</td><td>37.39</td><td>109.58</td><td>66.78</td><td>&quot;No&quot;</td><td>null</td><td>null</td><td>4</td><td>&quot;Heating and Natural Ventilatio…</td><td>&quot;New Road Day Centre, 5 Balliol…</td><td>&quot;Portsmouth&quot;</td><td>&quot;Portsmouth South&quot;</td><td>&quot;PORTSMOUTH&quot;</td><td>2016-03-30 00:00:00</td><td>null</td><td>null</td><td>null</td></tr></tbody></table></div>"
      ]
     },
     "execution_count": 28,
     "metadata": {},
     "output_type": "execute_result"
    }
   ],
   "execution_count": 28
  },
  {
   "metadata": {
    "ExecuteTime": {
     "end_time": "2024-09-05T16:46:50.568146Z",
     "start_time": "2024-09-05T16:46:50.563044Z"
    }
   },
   "cell_type": "code",
   "source": [
    "# join uprn and id cols\n",
    "# all_epc.with_columns(uprn_matched)\n",
    "uprn_matched"
   ],
   "id": "493962ff02c46edb",
   "outputs": [
    {
     "data": {
      "text/plain": [
       "[('802aaf5c523849468ab92e91e429a16005197c167ca6ed74b29250b774b243c7',\n",
       "  '10024328586',\n",
       "  82.75862068965517),\n",
       " ('802aaf5c523849468ab92e91e429a16005197c167ca6ed74b29250b774b243c7',\n",
       "  '10024328587',\n",
       "  82.75862068965517),\n",
       " ('802aaf5c523849468ab92e91e429a16005197c167ca6ed74b29250b774b243c7',\n",
       "  '10024328588',\n",
       "  82.75862068965517),\n",
       " ('802aaf5c523849468ab92e91e429a16005197c167ca6ed74b29250b774b243c7',\n",
       "  '10024328589',\n",
       "  82.75862068965517),\n",
       " ('802aaf5c523849468ab92e91e429a16005197c167ca6ed74b29250b774b243c7',\n",
       "  '10024328620',\n",
       "  82.75862068965517),\n",
       " ('123508840242017062817321698800260', '10093050473', 80.64516129032258),\n",
       " ('123508840242017062817321698800260', '10093050446', 80.0),\n",
       " ('123508840242017062817321698800260', '10093050462', 77.96610169491525),\n",
       " ('123508840242017062817321698800260', '10093050463', 77.96610169491525),\n",
       " ('123508840242017062817321698800260', '10093050467', 77.96610169491525),\n",
       " ('19764363212015033115293702009110', '10013373404', 96.96969696969697),\n",
       " ('19764363212015033115293702009110', '10013373405', 96.96969696969697),\n",
       " ('19764363212015033115293702009110', '10013373398', 96.96969696969697),\n",
       " ('19764363212015033115293702009110', '10090049547', 94.11764705882352),\n",
       " ('19764363212015033115293702009110', '10090049549', 94.11764705882352),\n",
       " ('38055270202010070913181878510030', '100040398966', 100.0),\n",
       " ('38055270202010070913181878510030', '100040398954', 100.0),\n",
       " ('38055270202010070913181878510030', '100041155092', 100.0),\n",
       " ('38055270202010070913181878510030', '100040400052', 96.0),\n",
       " ('38055270202010070913181878510030', '100041039993', 96.0),\n",
       " ('46017257012011010712042307009472', '63082322', 91.66666666666666),\n",
       " ('46017257012011010712042307009472', '63082333', 88.0),\n",
       " ('46017257012011010712042307009472', '63082323', 88.0),\n",
       " ('46017257012011010712042307009472', '63082325', 88.0),\n",
       " ('46017257012011010712042307009472', '63082314', 88.0),\n",
       " ('01a6a99953c96c3462e549a974944f71e09f3dbc8adb1d98dab793904af63d5a',\n",
       "  '10033197101',\n",
       "  94.11764705882352),\n",
       " ('01a6a99953c96c3462e549a974944f71e09f3dbc8adb1d98dab793904af63d5a',\n",
       "  '10033196002',\n",
       "  88.88888888888889),\n",
       " ('01a6a99953c96c3462e549a974944f71e09f3dbc8adb1d98dab793904af63d5a',\n",
       "  '10033197120',\n",
       "  88.88888888888889),\n",
       " ('01a6a99953c96c3462e549a974944f71e09f3dbc8adb1d98dab793904af63d5a',\n",
       "  '10033197121',\n",
       "  88.88888888888889),\n",
       " ('01a6a99953c96c3462e549a974944f71e09f3dbc8adb1d98dab793904af63d5a',\n",
       "  '10033197122',\n",
       "  88.88888888888889),\n",
       " ('bef60fd9f7e5784d2e01cf86d8903ceb47f79cb1585607af7556be089d71721a',\n",
       "  '5044305',\n",
       "  100.0),\n",
       " ('bef60fd9f7e5784d2e01cf86d8903ceb47f79cb1585607af7556be089d71721a',\n",
       "  '5069761',\n",
       "  96.96969696969697),\n",
       " ('bef60fd9f7e5784d2e01cf86d8903ceb47f79cb1585607af7556be089d71721a',\n",
       "  '5037941',\n",
       "  94.11764705882352),\n",
       " ('bef60fd9f7e5784d2e01cf86d8903ceb47f79cb1585607af7556be089d71721a',\n",
       "  '5037942',\n",
       "  94.11764705882352),\n",
       " ('bef60fd9f7e5784d2e01cf86d8903ceb47f79cb1585607af7556be089d71721a',\n",
       "  '5037943',\n",
       "  94.11764705882352),\n",
       " ('10001931032009012214563893000607', '100071517037', 100.0),\n",
       " ('10001931032009012214563893000607', '100071366885', 90.9090909090909),\n",
       " ('10001931032009012214563893000607', '100071366887', 90.9090909090909),\n",
       " ('10001931032009012214563893000607', '100070691672', 90.9090909090909),\n",
       " ('10001931032009012214563893000607', '100070691674', 90.9090909090909),\n",
       " ('2bbf94592c0751ba8ae7ab5ae3ecd1e7fac1f6e84f05704821d1df79b3befe8b',\n",
       "  '642618',\n",
       "  100.0),\n",
       " ('2bbf94592c0751ba8ae7ab5ae3ecd1e7fac1f6e84f05704821d1df79b3befe8b',\n",
       "  '576485',\n",
       "  93.33333333333333),\n",
       " ('2bbf94592c0751ba8ae7ab5ae3ecd1e7fac1f6e84f05704821d1df79b3befe8b',\n",
       "  '577267',\n",
       "  93.33333333333333),\n",
       " ('2bbf94592c0751ba8ae7ab5ae3ecd1e7fac1f6e84f05704821d1df79b3befe8b',\n",
       "  '653143',\n",
       "  93.33333333333333),\n",
       " ('2bbf94592c0751ba8ae7ab5ae3ecd1e7fac1f6e84f05704821d1df79b3befe8b',\n",
       "  '650397',\n",
       "  93.33333333333333),\n",
       " ('28d157aa1ce61ead8489adb7024e41374cad0aa7e1f8d0847a5a66b9ffa69a61',\n",
       "  '1775096899',\n",
       "  96.55172413793103),\n",
       " ('28d157aa1ce61ead8489adb7024e41374cad0aa7e1f8d0847a5a66b9ffa69a61',\n",
       "  '1775004442',\n",
       "  93.33333333333333),\n",
       " ('28d157aa1ce61ead8489adb7024e41374cad0aa7e1f8d0847a5a66b9ffa69a61',\n",
       "  '1775004432',\n",
       "  92.85714285714286),\n",
       " ('28d157aa1ce61ead8489adb7024e41374cad0aa7e1f8d0847a5a66b9ffa69a61',\n",
       "  '1775004433',\n",
       "  92.85714285714286),\n",
       " ('28d157aa1ce61ead8489adb7024e41374cad0aa7e1f8d0847a5a66b9ffa69a61',\n",
       "  '1775004434',\n",
       "  92.85714285714286)]"
      ]
     },
     "execution_count": 31,
     "metadata": {},
     "output_type": "execute_result"
    }
   ],
   "execution_count": 31
  },
  {
   "metadata": {
    "ExecuteTime": {
     "end_time": "2024-09-05T17:03:08.324491Z",
     "start_time": "2024-09-05T17:03:08.319177Z"
    }
   },
   "cell_type": "code",
   "source": [
    "os.makedirs('output', exist_ok=True)\n",
    "df_matched = pl.DataFrame(uprn_matched, schema={'lmk-key': str, 'uprn': str, 'score': float}, orient=\"row\")\n",
    "df_matched.write_parquet('output/epc-to-uprn.parquet')"
   ],
   "id": "875b0d0a1f843861",
   "outputs": [],
   "execution_count": 35
  },
  {
   "metadata": {
    "ExecuteTime": {
     "end_time": "2024-09-05T17:03:32.632260Z",
     "start_time": "2024-09-05T17:03:32.629181Z"
    }
   },
   "cell_type": "code",
   "source": "df_matched",
   "id": "de21cac9d4c8cf4c",
   "outputs": [
    {
     "data": {
      "text/plain": [
       "shape: (50, 3)\n",
       "┌─────────────────────────────────┬─────────────┬───────────┐\n",
       "│ lmk-key                         ┆ uprn        ┆ score     │\n",
       "│ ---                             ┆ ---         ┆ ---       │\n",
       "│ str                             ┆ str         ┆ f64       │\n",
       "╞═════════════════════════════════╪═════════════╪═══════════╡\n",
       "│ 802aaf5c523849468ab92e91e429a1… ┆ 10024328586 ┆ 82.758621 │\n",
       "│ 802aaf5c523849468ab92e91e429a1… ┆ 10024328587 ┆ 82.758621 │\n",
       "│ 802aaf5c523849468ab92e91e429a1… ┆ 10024328588 ┆ 82.758621 │\n",
       "│ 802aaf5c523849468ab92e91e429a1… ┆ 10024328589 ┆ 82.758621 │\n",
       "│ 802aaf5c523849468ab92e91e429a1… ┆ 10024328620 ┆ 82.758621 │\n",
       "│ …                               ┆ …           ┆ …         │\n",
       "│ 28d157aa1ce61ead8489adb7024e41… ┆ 1775096899  ┆ 96.551724 │\n",
       "│ 28d157aa1ce61ead8489adb7024e41… ┆ 1775004442  ┆ 93.333333 │\n",
       "│ 28d157aa1ce61ead8489adb7024e41… ┆ 1775004432  ┆ 92.857143 │\n",
       "│ 28d157aa1ce61ead8489adb7024e41… ┆ 1775004433  ┆ 92.857143 │\n",
       "│ 28d157aa1ce61ead8489adb7024e41… ┆ 1775004434  ┆ 92.857143 │\n",
       "└─────────────────────────────────┴─────────────┴───────────┘"
      ],
      "text/html": [
       "<div><style>\n",
       ".dataframe > thead > tr,\n",
       ".dataframe > tbody > tr {\n",
       "  text-align: right;\n",
       "  white-space: pre-wrap;\n",
       "}\n",
       "</style>\n",
       "<small>shape: (50, 3)</small><table border=\"1\" class=\"dataframe\"><thead><tr><th>lmk-key</th><th>uprn</th><th>score</th></tr><tr><td>str</td><td>str</td><td>f64</td></tr></thead><tbody><tr><td>&quot;802aaf5c523849468ab92e91e429a1…</td><td>&quot;10024328586&quot;</td><td>82.758621</td></tr><tr><td>&quot;802aaf5c523849468ab92e91e429a1…</td><td>&quot;10024328587&quot;</td><td>82.758621</td></tr><tr><td>&quot;802aaf5c523849468ab92e91e429a1…</td><td>&quot;10024328588&quot;</td><td>82.758621</td></tr><tr><td>&quot;802aaf5c523849468ab92e91e429a1…</td><td>&quot;10024328589&quot;</td><td>82.758621</td></tr><tr><td>&quot;802aaf5c523849468ab92e91e429a1…</td><td>&quot;10024328620&quot;</td><td>82.758621</td></tr><tr><td>&hellip;</td><td>&hellip;</td><td>&hellip;</td></tr><tr><td>&quot;28d157aa1ce61ead8489adb7024e41…</td><td>&quot;1775096899&quot;</td><td>96.551724</td></tr><tr><td>&quot;28d157aa1ce61ead8489adb7024e41…</td><td>&quot;1775004442&quot;</td><td>93.333333</td></tr><tr><td>&quot;28d157aa1ce61ead8489adb7024e41…</td><td>&quot;1775004432&quot;</td><td>92.857143</td></tr><tr><td>&quot;28d157aa1ce61ead8489adb7024e41…</td><td>&quot;1775004433&quot;</td><td>92.857143</td></tr><tr><td>&quot;28d157aa1ce61ead8489adb7024e41…</td><td>&quot;1775004434&quot;</td><td>92.857143</td></tr></tbody></table></div>"
      ]
     },
     "execution_count": 36,
     "metadata": {},
     "output_type": "execute_result"
    }
   ],
   "execution_count": 36
  }
 ],
 "metadata": {
  "kernelspec": {
   "display_name": "Python 3",
   "language": "python",
   "name": "python3"
  },
  "language_info": {
   "codemirror_mode": {
    "name": "ipython",
    "version": 2
   },
   "file_extension": ".py",
   "mimetype": "text/x-python",
   "name": "python",
   "nbconvert_exporter": "python",
   "pygments_lexer": "ipython2",
   "version": "2.7.6"
  }
 },
 "nbformat": 4,
 "nbformat_minor": 5
}
