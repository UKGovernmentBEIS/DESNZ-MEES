{
 "cells": [
  {
   "cell_type": "code",
   "id": "initial_id",
   "metadata": {
    "collapsed": true,
    "ExecuteTime": {
     "end_time": "2024-09-06T14:24:56.278861Z",
     "start_time": "2024-09-06T14:24:56.246735Z"
    }
   },
   "source": [
    "import polars as pl\n",
    "from dotenv import load_dotenv\n",
    "import os\n",
    "\n",
    "load_dotenv()"
   ],
   "outputs": [
    {
     "data": {
      "text/plain": [
       "True"
      ]
     },
     "execution_count": 1,
     "metadata": {},
     "output_type": "execute_result"
    }
   ],
   "execution_count": 1
  },
  {
   "metadata": {
    "ExecuteTime": {
     "end_time": "2024-09-06T14:24:58.360225Z",
     "start_time": "2024-09-06T14:24:57.854721Z"
    }
   },
   "cell_type": "code",
   "source": [
    "output_file = os.getenv('EPC_OUTPUT_FILE')\n",
    "all_epc = pl.read_csv(\n",
    "    output_file,\n",
    "    try_parse_dates=True\n",
    ")\n",
    "\n",
    "# filters:\n",
    "# remove small properties\n",
    "filtered_epc = all_epc.filter(pl.col('floor-area') >= 40) # 40m2 min size\n",
    "# and remove prior records for same property\n",
    "# note, this will need to be removed in future in order to show history\n",
    "filtered_epc = filtered_epc.sort('lodgement-datetime').unique(subset=['building-reference-number'], keep='last')"
   ],
   "id": "18f1d47062b68c49",
   "outputs": [],
   "execution_count": 2
  },
  {
   "metadata": {
    "ExecuteTime": {
     "end_time": "2024-09-06T14:25:04.306293Z",
     "start_time": "2024-09-06T14:25:03.095399Z"
    }
   },
   "cell_type": "code",
   "source": [
    "output_folder = os.getenv('OUTPUTS_FOLDER')\n",
    "os.makedirs(output_folder, exist_ok=True)\n",
    "filtered_epc.write_parquet(f'{output_folder}/epc-non-domestic.parquet')"
   ],
   "id": "38fee8708e58f937",
   "outputs": [],
   "execution_count": 3
  },
  {
   "metadata": {},
   "cell_type": "code",
   "outputs": [],
   "execution_count": null,
   "source": "",
   "id": "7b424f956e19b3cf"
  }
 ],
 "metadata": {
  "kernelspec": {
   "display_name": "Python 3",
   "language": "python",
   "name": "python3"
  },
  "language_info": {
   "codemirror_mode": {
    "name": "ipython",
    "version": 2
   },
   "file_extension": ".py",
   "mimetype": "text/x-python",
   "name": "python",
   "nbconvert_exporter": "python",
   "pygments_lexer": "ipython2",
   "version": "2.7.6"
  }
 },
 "nbformat": 4,
 "nbformat_minor": 5
}
