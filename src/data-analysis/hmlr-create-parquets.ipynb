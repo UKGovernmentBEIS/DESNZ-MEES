{
 "cells": [
  {
   "cell_type": "code",
   "id": "123a081664077ec7",
   "metadata": {
    "collapsed": true,
    "ExecuteTime": {
     "end_time": "2024-09-06T13:56:44.510421Z",
     "start_time": "2024-09-06T13:56:44.458289Z"
    }
   },
   "source": [
    "import polars as pl\n",
    "from dotenv import load_dotenv\n",
    "import os\n",
    "\n",
    "load_dotenv()"
   ],
   "outputs": [
    {
     "data": {
      "text/plain": [
       "True"
      ]
     },
     "execution_count": 1,
     "metadata": {},
     "output_type": "execute_result"
    }
   ],
   "execution_count": 1
  },
  {
   "metadata": {
    "ExecuteTime": {
     "end_time": "2024-09-06T13:56:46.080501Z",
     "start_time": "2024-09-06T13:56:45.314913Z"
    }
   },
   "cell_type": "code",
   "source": [
    "# CCOD\n",
    "ccod_zip_file_name = os.getenv('HMLR_CCOD_OUTPUT_FILE')\n",
    "ccod_file_root = ccod_zip_file_name.replace('.zip', '')\n",
    "df_ccod = pl.read_csv(f'downloads/{ccod_file_root}/{ccod_file_root}.csv')\n",
    "# OCOD\n",
    "ocod_zip_file_name = os.getenv('HMLR_OCOD_OUTPUT_FILE')\n",
    "ocod_file_root = ocod_zip_file_name.replace('.zip', '')\n",
    "df_ocod = pl.read_csv(f'downloads/{ocod_file_root}/{ocod_file_root}.csv')"
   ],
   "id": "initial_id",
   "outputs": [],
   "execution_count": 2
  },
  {
   "metadata": {
    "ExecuteTime": {
     "end_time": "2024-09-06T13:56:49.457906Z",
     "start_time": "2024-09-06T13:56:47.196587Z"
    }
   },
   "cell_type": "code",
   "source": [
    "output_folder = os.getenv('OUTPUTS_FOLDER')\n",
    "os.makedirs(output_folder, exist_ok=True)\n",
    "df_ccod.write_parquet(f'{output_folder}/hmlr-ccod.parquet')\n",
    "df_ocod.write_parquet(f'{output_folder}/hmlr-ocod.parquet')"
   ],
   "id": "f174efe86005409c",
   "outputs": [],
   "execution_count": 3
  },
  {
   "metadata": {},
   "cell_type": "code",
   "outputs": [],
   "execution_count": null,
   "source": "",
   "id": "1d052d6afb465110"
  }
 ],
 "metadata": {
  "kernelspec": {
   "display_name": "Python 3",
   "language": "python",
   "name": "python3"
  },
  "language_info": {
   "codemirror_mode": {
    "name": "ipython",
    "version": 2
   },
   "file_extension": ".py",
   "mimetype": "text/x-python",
   "name": "python",
   "nbconvert_exporter": "python",
   "pygments_lexer": "ipython2",
   "version": "2.7.6"
  }
 },
 "nbformat": 4,
 "nbformat_minor": 5
}
