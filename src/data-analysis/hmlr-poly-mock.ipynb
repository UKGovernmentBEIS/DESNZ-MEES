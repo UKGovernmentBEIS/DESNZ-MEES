{
 "cells": [
  {
   "cell_type": "code",
   "id": "initial_id",
   "metadata": {
    "collapsed": true,
    "ExecuteTime": {
     "end_time": "2024-09-02T18:49:37.276091Z",
     "start_time": "2024-09-02T18:49:37.269312Z"
    }
   },
   "source": [
    "import polars as pl\n",
    "from dotenv import load_dotenv\n",
    "import os\n",
    "from datetime import datetime\n",
    "load_dotenv()"
   ],
   "outputs": [
    {
     "data": {
      "text/plain": [
       "True"
      ]
     },
     "execution_count": 7,
     "metadata": {},
     "output_type": "execute_result"
    }
   ],
   "execution_count": 7
  },
  {
   "metadata": {
    "ExecuteTime": {
     "end_time": "2024-09-02T18:49:39.370142Z",
     "start_time": "2024-09-02T18:49:38.894337Z"
    }
   },
   "cell_type": "code",
   "source": [
    "# load CCOD\n",
    "ccod_zip_file_name = os.getenv('HMLR_CCOD_OUTPUT_FILE')\n",
    "ccod_file_root = ccod_zip_file_name.replace('.zip', '')\n",
    "df_ccod =  pl.read_csv(f'downloads/{ccod_file_root}/{ccod_file_root}.csv')"
   ],
   "id": "5bd32bcdb3f0136a",
   "outputs": [],
   "execution_count": 8
  },
  {
   "metadata": {
    "ExecuteTime": {
     "end_time": "2024-09-02T18:49:39.632068Z",
     "start_time": "2024-09-02T18:49:39.628236Z"
    }
   },
   "cell_type": "code",
   "source": "len(df_ccod)",
   "id": "3159d4abb1880b5c",
   "outputs": [
    {
     "data": {
      "text/plain": [
       "4181223"
      ]
     },
     "execution_count": 9,
     "metadata": {},
     "output_type": "execute_result"
    }
   ],
   "execution_count": 9
  },
  {
   "metadata": {
    "ExecuteTime": {
     "end_time": "2024-09-02T18:49:44.392558Z",
     "start_time": "2024-09-02T18:49:44.389599Z"
    }
   },
   "cell_type": "code",
   "source": [
    "# load OS\n",
    "os_files_path = os.getenv('OS_FILES_PATH')\n",
    "csv_file_names = sorted(os.listdir(os_files_path))"
   ],
   "id": "33ab9481e50a3db3",
   "outputs": [],
   "execution_count": 10
  },
  {
   "metadata": {
    "ExecuteTime": {
     "end_time": "2024-09-02T18:49:49.609630Z",
     "start_time": "2024-09-02T18:49:49.606817Z"
    }
   },
   "cell_type": "code",
   "source": [
    "record_dfs = {}\n",
    "# record_types = [21,23,28,31,32] # as a min would need 28 for this\n",
    "record_types = [28]"
   ],
   "id": "1954032b82a4a130",
   "outputs": [],
   "execution_count": 11
  },
  {
   "metadata": {
    "ExecuteTime": {
     "end_time": "2024-09-02T18:52:52.457223Z",
     "start_time": "2024-09-02T18:51:39.434592Z"
    }
   },
   "cell_type": "code",
   "source": [
    "# read each file and assign to correct os record type\n",
    "for file_name in csv_file_names:\n",
    "    record_type = int(file_name[2:4])\n",
    "    if record_type not in record_types: continue\n",
    "    print(f'file_name: [{file_name}], time: [{datetime.now().strftime(\"%H:%M:%S\")}]')\n",
    "    temp_df = pl.read_csv(f'{os_files_path}/{file_name}', infer_schema_length=0)\n",
    "    record_dfs[record_type] = temp_df\n",
    "\n",
    "print('done')"
   ],
   "id": "3d2576ce2a535438",
   "outputs": [
    {
     "name": "stdout",
     "output_type": "stream",
     "text": [
      "file_name: [ID21_BLPU_Records.csv], time: [19:51:39]\n",
      "file_name: [ID23_XREF_Records.csv], time: [19:51:44]\n",
      "file_name: [ID28_DPA_Records.csv], time: [19:52:22]\n",
      "file_name: [ID31_Org_Records.csv], time: [19:52:34]\n",
      "file_name: [ID32_Class_Records.csv], time: [19:52:35]\n",
      "done\n"
     ]
    }
   ],
   "execution_count": 13
  },
  {
   "metadata": {
    "ExecuteTime": {
     "end_time": "2024-09-02T18:55:39.614633Z",
     "start_time": "2024-09-02T18:55:39.607973Z"
    }
   },
   "cell_type": "code",
   "source": [
    "# check everything is ok\n",
    "for record_type in record_dfs.keys():\n",
    "    print(f'type: [{record_type}], count: [{len(record_dfs[record_type])}]')\n",
    "    \n",
    "## type: [21], count: [40825714]\n",
    "## type: [23], count: [197964510]\n",
    "## type: [28], count: [30598226]\n",
    "## type: [31], count: [1422087]\n",
    "## type: [32], count: [44684909]"
   ],
   "id": "cb561905cc8f6ab0",
   "outputs": [
    {
     "name": "stdout",
     "output_type": "stream",
     "text": [
      "type: [21], count: [40825714]\n",
      "type: [23], count: [197964510]\n",
      "type: [28], count: [30598226]\n",
      "type: [31], count: [1422087]\n",
      "type: [32], count: [44684909]\n"
     ]
    }
   ],
   "execution_count": 14
  },
  {
   "metadata": {},
   "cell_type": "code",
   "outputs": [],
   "execution_count": null,
   "source": [
    "os.makedirs('output', exist_ok=True)\n",
    "for record_type in record_dfs.keys():\n",
    "    print(f'type: [{record_type}], time: [{datetime.now().strftime(\"%H:%M:%S\")}]')\n",
    "    record_dfs[record_type].write_parquet(f'output/os_recordtype_{record_type}.parquet')"
   ],
   "id": "3fd1f51ea84763cc"
  },
  {
   "metadata": {},
   "cell_type": "code",
   "outputs": [],
   "execution_count": null,
   "source": "",
   "id": "53dfdaf5116ae930"
  }
 ],
 "metadata": {
  "kernelspec": {
   "display_name": "Python 3",
   "language": "python",
   "name": "python3"
  },
  "language_info": {
   "codemirror_mode": {
    "name": "ipython",
    "version": 2
   },
   "file_extension": ".py",
   "mimetype": "text/x-python",
   "name": "python",
   "nbconvert_exporter": "python",
   "pygments_lexer": "ipython2",
   "version": "2.7.6"
  }
 },
 "nbformat": 4,
 "nbformat_minor": 5
}
