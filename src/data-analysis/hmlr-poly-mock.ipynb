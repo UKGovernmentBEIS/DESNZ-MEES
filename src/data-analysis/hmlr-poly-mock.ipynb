{
 "cells": [
  {
   "cell_type": "code",
   "id": "initial_id",
   "metadata": {
    "collapsed": true,
    "ExecuteTime": {
     "end_time": "2024-09-04T17:23:47.765305Z",
     "start_time": "2024-09-04T17:23:47.710089Z"
    }
   },
   "source": [
    "import polars as pl\n",
    "from dotenv import load_dotenv\n",
    "import os\n",
    "from datetime import datetime\n",
    "from rapidfuzz import process, fuzz\n",
    "load_dotenv()"
   ],
   "outputs": [
    {
     "data": {
      "text/plain": [
       "True"
      ]
     },
     "execution_count": 1,
     "metadata": {},
     "output_type": "execute_result"
    }
   ],
   "execution_count": 1
  },
  {
   "metadata": {
    "ExecuteTime": {
     "end_time": "2024-09-04T17:23:50.073787Z",
     "start_time": "2024-09-04T17:23:49.151354Z"
    }
   },
   "cell_type": "code",
   "source": [
    "# load CCOD\n",
    "ccod_zip_file_name = os.getenv('HMLR_CCOD_OUTPUT_FILE')\n",
    "ccod_file_root = ccod_zip_file_name.replace('.zip', '')\n",
    "df_ccod =  pl.read_csv(f'downloads/{ccod_file_root}/{ccod_file_root}.csv')"
   ],
   "id": "5bd32bcdb3f0136a",
   "outputs": [],
   "execution_count": 2
  },
  {
   "metadata": {
    "ExecuteTime": {
     "end_time": "2024-09-04T17:23:52.102284Z",
     "start_time": "2024-09-04T17:23:52.099254Z"
    }
   },
   "cell_type": "code",
   "source": "len(df_ccod) # 4181223, ~4M",
   "id": "3159d4abb1880b5c",
   "outputs": [
    {
     "data": {
      "text/plain": [
       "4181223"
      ]
     },
     "execution_count": 3,
     "metadata": {},
     "output_type": "execute_result"
    }
   ],
   "execution_count": 3
  },
  {
   "metadata": {
    "ExecuteTime": {
     "end_time": "2024-09-04T17:23:54.033779Z",
     "start_time": "2024-09-04T17:23:54.030765Z"
    }
   },
   "cell_type": "code",
   "source": [
    "# load OS\n",
    "os_files_path = os.getenv('OS_FILES_PATH')\n",
    "csv_file_names = sorted(os.listdir(os_files_path))"
   ],
   "id": "33ab9481e50a3db3",
   "outputs": [],
   "execution_count": 4
  },
  {
   "metadata": {
    "ExecuteTime": {
     "end_time": "2024-09-04T17:23:59.344027Z",
     "start_time": "2024-09-04T17:23:59.341449Z"
    }
   },
   "cell_type": "code",
   "source": [
    "record_dfs = {}\n",
    "# record_types = [21,23,24,28,31,32] # as a min would need 21,24,28 for this\n",
    "record_types = [28]"
   ],
   "id": "1954032b82a4a130",
   "outputs": [],
   "execution_count": 5
  },
  {
   "metadata": {
    "ExecuteTime": {
     "end_time": "2024-09-04T17:24:05.975506Z",
     "start_time": "2024-09-04T17:24:00.315987Z"
    }
   },
   "cell_type": "code",
   "source": [
    "# read each file and assign to correct os record type\n",
    "for file_name in csv_file_names:\n",
    "    record_type = int(file_name[2:4])\n",
    "    if record_type not in record_types: continue\n",
    "    print(f'file_name: [{file_name}], time: [{datetime.now().strftime(\"%H:%M:%S\")}]')\n",
    "    temp_df = pl.read_csv(f'{os_files_path}/{file_name}', infer_schema_length=0)\n",
    "    record_dfs[record_type] = temp_df\n",
    "\n",
    "print('done')"
   ],
   "id": "3d2576ce2a535438",
   "outputs": [
    {
     "name": "stdout",
     "output_type": "stream",
     "text": [
      "file_name: [ID28_DPA_Records.csv], time: [18:24:00]\n",
      "done\n"
     ]
    }
   ],
   "execution_count": 6
  },
  {
   "metadata": {
    "ExecuteTime": {
     "end_time": "2024-09-04T17:24:07.120700Z",
     "start_time": "2024-09-04T17:24:07.117423Z"
    }
   },
   "cell_type": "code",
   "source": [
    "# check everything is ok\n",
    "for record_type in record_dfs.keys():\n",
    "    print(f'type: [{record_type}], count: [{len(record_dfs[record_type])}]')\n",
    "    \n",
    "## type: [21], count: [40825714]\n",
    "## type: [23], count: [197964510]\n",
    "## type: [28], count: [30598226]\n",
    "## type: [31], count: [1422087]\n",
    "## type: [32], count: [44684909]"
   ],
   "id": "cb561905cc8f6ab0",
   "outputs": [
    {
     "name": "stdout",
     "output_type": "stream",
     "text": [
      "type: [28], count: [30598226]\n"
     ]
    }
   ],
   "execution_count": 7
  },
  {
   "metadata": {
    "ExecuteTime": {
     "end_time": "2024-09-05T11:03:56.361928Z",
     "start_time": "2024-09-05T11:03:47.278137Z"
    }
   },
   "cell_type": "code",
   "source": [
    "# attempt 'match' as a select to speed it up.\n",
    "# could group abp by postcode\n",
    "dpa_unique_postcodes = record_dfs[28].sort('POSTCODE').unique(subset=['POSTCODE'])\n",
    "left_joined = df_ccod.join(dpa_unique_postcodes, how='left', left_on='Postcode', right_on='POSTCODE')\n",
    "mock_poly = left_joined.select(['Title Number', 'UPRN'])\n",
    "mock_poly.head()"
   ],
   "id": "add1aa49952ab76a",
   "outputs": [
    {
     "data": {
      "text/plain": [
       "shape: (5, 2)\n",
       "┌──────────────┬──────────────┐\n",
       "│ Title Number ┆ UPRN         │\n",
       "│ ---          ┆ ---          │\n",
       "│ str          ┆ str          │\n",
       "╞══════════════╪══════════════╡\n",
       "│ BB152        ┆ null         │\n",
       "│ BB154        ┆ 100023474659 │\n",
       "│ BB181        ┆ 100023473825 │\n",
       "│ BB232        ┆ 100023346266 │\n",
       "│ BB263        ┆ null         │\n",
       "└──────────────┴──────────────┘"
      ],
      "text/html": [
       "<div><style>\n",
       ".dataframe > thead > tr,\n",
       ".dataframe > tbody > tr {\n",
       "  text-align: right;\n",
       "  white-space: pre-wrap;\n",
       "}\n",
       "</style>\n",
       "<small>shape: (5, 2)</small><table border=\"1\" class=\"dataframe\"><thead><tr><th>Title Number</th><th>UPRN</th></tr><tr><td>str</td><td>str</td></tr></thead><tbody><tr><td>&quot;BB152&quot;</td><td>null</td></tr><tr><td>&quot;BB154&quot;</td><td>&quot;100023474659&quot;</td></tr><tr><td>&quot;BB181&quot;</td><td>&quot;100023473825&quot;</td></tr><tr><td>&quot;BB232&quot;</td><td>&quot;100023346266&quot;</td></tr><tr><td>&quot;BB263&quot;</td><td>null</td></tr></tbody></table></div>"
      ]
     },
     "execution_count": 101,
     "metadata": {},
     "output_type": "execute_result"
    }
   ],
   "execution_count": 101
  },
  {
   "metadata": {
    "ExecuteTime": {
     "end_time": "2024-09-05T11:53:45.181504Z",
     "start_time": "2024-09-05T11:53:45.171162Z"
    }
   },
   "cell_type": "code",
   "source": [
    "print(len(mock_poly))\n",
    "print(len(mock_poly.filter(pl.col('UPRN').is_null()))) # 40% failed matching to a postcode.. \n",
    "print(len(df_ccod))"
   ],
   "id": "945cafe6189fc19d",
   "outputs": [
    {
     "name": "stdout",
     "output_type": "stream",
     "text": [
      "4181223\n",
      "1671180\n",
      "4181223\n"
     ]
    }
   ],
   "execution_count": 104
  },
  {
   "metadata": {
    "ExecuteTime": {
     "end_time": "2024-09-05T11:05:57.233688Z",
     "start_time": "2024-09-05T11:05:56.787268Z"
    }
   },
   "cell_type": "code",
   "source": [
    "os.makedirs('output', exist_ok=True)\n",
    "mock_poly.write_parquet('output/mock-poly.parquet')"
   ],
   "id": "c7fa7a51126de5a4",
   "outputs": [],
   "execution_count": 102
  }
 ],
 "metadata": {
  "kernelspec": {
   "display_name": "Python 3",
   "language": "python",
   "name": "python3"
  },
  "language_info": {
   "codemirror_mode": {
    "name": "ipython",
    "version": 2
   },
   "file_extension": ".py",
   "mimetype": "text/x-python",
   "name": "python",
   "nbconvert_exporter": "python",
   "pygments_lexer": "ipython2",
   "version": "2.7.6"
  }
 },
 "nbformat": 4,
 "nbformat_minor": 5
}
