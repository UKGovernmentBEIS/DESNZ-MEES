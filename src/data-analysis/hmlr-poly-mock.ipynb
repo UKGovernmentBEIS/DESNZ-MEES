{
 "cells": [
  {
   "cell_type": "code",
   "id": "initial_id",
   "metadata": {
    "collapsed": true,
    "ExecuteTime": {
     "end_time": "2024-09-04T17:23:47.765305Z",
     "start_time": "2024-09-04T17:23:47.710089Z"
    }
   },
   "source": [
    "import polars as pl\n",
    "from dotenv import load_dotenv\n",
    "import os\n",
    "from datetime import datetime\n",
    "from rapidfuzz import process, fuzz\n",
    "load_dotenv()"
   ],
   "outputs": [
    {
     "data": {
      "text/plain": [
       "True"
      ]
     },
     "execution_count": 1,
     "metadata": {},
     "output_type": "execute_result"
    }
   ],
   "execution_count": 1
  },
  {
   "metadata": {
    "ExecuteTime": {
     "end_time": "2024-09-04T17:23:50.073787Z",
     "start_time": "2024-09-04T17:23:49.151354Z"
    }
   },
   "cell_type": "code",
   "source": [
    "# load CCOD\n",
    "ccod_zip_file_name = os.getenv('HMLR_CCOD_OUTPUT_FILE')\n",
    "ccod_file_root = ccod_zip_file_name.replace('.zip', '')\n",
    "df_ccod =  pl.read_csv(f'downloads/{ccod_file_root}/{ccod_file_root}.csv')"
   ],
   "id": "5bd32bcdb3f0136a",
   "outputs": [],
   "execution_count": 2
  },
  {
   "metadata": {
    "ExecuteTime": {
     "end_time": "2024-09-04T17:23:52.102284Z",
     "start_time": "2024-09-04T17:23:52.099254Z"
    }
   },
   "cell_type": "code",
   "source": "len(df_ccod)",
   "id": "3159d4abb1880b5c",
   "outputs": [
    {
     "data": {
      "text/plain": [
       "4181223"
      ]
     },
     "execution_count": 3,
     "metadata": {},
     "output_type": "execute_result"
    }
   ],
   "execution_count": 3
  },
  {
   "metadata": {
    "ExecuteTime": {
     "end_time": "2024-09-04T17:23:54.033779Z",
     "start_time": "2024-09-04T17:23:54.030765Z"
    }
   },
   "cell_type": "code",
   "source": [
    "# load OS\n",
    "os_files_path = os.getenv('OS_FILES_PATH')\n",
    "csv_file_names = sorted(os.listdir(os_files_path))"
   ],
   "id": "33ab9481e50a3db3",
   "outputs": [],
   "execution_count": 4
  },
  {
   "metadata": {
    "ExecuteTime": {
     "end_time": "2024-09-04T17:23:59.344027Z",
     "start_time": "2024-09-04T17:23:59.341449Z"
    }
   },
   "cell_type": "code",
   "source": [
    "record_dfs = {}\n",
    "# record_types = [21,23,24,28,31,32] # as a min would need 21,24,28 for this\n",
    "record_types = [28]"
   ],
   "id": "1954032b82a4a130",
   "outputs": [],
   "execution_count": 5
  },
  {
   "metadata": {
    "ExecuteTime": {
     "end_time": "2024-09-04T17:24:05.975506Z",
     "start_time": "2024-09-04T17:24:00.315987Z"
    }
   },
   "cell_type": "code",
   "source": [
    "# read each file and assign to correct os record type\n",
    "for file_name in csv_file_names:\n",
    "    record_type = int(file_name[2:4])\n",
    "    if record_type not in record_types: continue\n",
    "    print(f'file_name: [{file_name}], time: [{datetime.now().strftime(\"%H:%M:%S\")}]')\n",
    "    temp_df = pl.read_csv(f'{os_files_path}/{file_name}', infer_schema_length=0)\n",
    "    record_dfs[record_type] = temp_df\n",
    "\n",
    "print('done')"
   ],
   "id": "3d2576ce2a535438",
   "outputs": [
    {
     "name": "stdout",
     "output_type": "stream",
     "text": [
      "file_name: [ID28_DPA_Records.csv], time: [18:24:00]\n",
      "done\n"
     ]
    }
   ],
   "execution_count": 6
  },
  {
   "metadata": {
    "ExecuteTime": {
     "end_time": "2024-09-04T17:24:07.120700Z",
     "start_time": "2024-09-04T17:24:07.117423Z"
    }
   },
   "cell_type": "code",
   "source": [
    "# check everything is ok\n",
    "for record_type in record_dfs.keys():\n",
    "    print(f'type: [{record_type}], count: [{len(record_dfs[record_type])}]')\n",
    "    \n",
    "## type: [21], count: [40825714]\n",
    "## type: [23], count: [197964510]\n",
    "## type: [28], count: [30598226]\n",
    "## type: [31], count: [1422087]\n",
    "## type: [32], count: [44684909]"
   ],
   "id": "cb561905cc8f6ab0",
   "outputs": [
    {
     "name": "stdout",
     "output_type": "stream",
     "text": [
      "type: [28], count: [30598226]\n"
     ]
    }
   ],
   "execution_count": 7
  },
  {
   "metadata": {
    "ExecuteTime": {
     "end_time": "2024-09-04T19:45:59.131183Z",
     "start_time": "2024-09-04T19:45:59.127184Z"
    }
   },
   "cell_type": "code",
   "source": [
    "# format addresses\n",
    "def format_hmlr_address(hmlr_row):\n",
    "    return str(hmlr_row[2]).upper()\n",
    "\n",
    "def format_abp_address(abp_row):\n",
    "    # todo: if welsh vs english - req join with 21, blpu.COUNTRY == E or W\n",
    "    organisation_name = abp_row[5]\n",
    "    department_name = abp_row[6]\n",
    "    sub_building_name = abp_row[7]\n",
    "    building_name = abp_row[8]\n",
    "    building_number = abp_row[9]\n",
    "    dependant_thoroughfare = abp_row[10]\n",
    "    thoroughfare = abp_row[11]\n",
    "    dependant_locality = abp_row[13]\n",
    "    post_town = abp_row[14]\n",
    "    postcode = abp_row[15]\n",
    "    uprn = abp_row[3]\n",
    "    \n",
    "    formatted_address = ''\n",
    "    for part in [organisation_name, department_name, sub_building_name, building_name, building_number, \n",
    "                 dependant_thoroughfare, thoroughfare, dependant_locality, post_town, postcode]:\n",
    "        if part is not None:\n",
    "            formatted_address += f'{part}, '\n",
    "            \n",
    "    return formatted_address[:-2], uprn\n",
    "    "
   ],
   "id": "3fd1f51ea84763cc",
   "outputs": [],
   "execution_count": 30
  },
  {
   "metadata": {
    "ExecuteTime": {
     "end_time": "2024-09-04T20:17:47.179276Z",
     "start_time": "2024-09-04T20:17:02.524792Z"
    }
   },
   "cell_type": "code",
   "source": [
    "# create address lists\n",
    "all_hmlr_addresses = df_ccod.map_rows(format_hmlr_address).get_column('map')\n",
    "\n",
    "# all_abp_addresses = record_dfs[28].map_rows(format_abp_address)\n",
    "# all_abp_addresses_0 = all_abp_addresses.get_column('column_0')\n",
    "# all_abp_addresses_1 = all_abp_addresses.get_column('column_1')"
   ],
   "id": "53dfdaf5116ae930",
   "outputs": [],
   "execution_count": 50
  },
  {
   "metadata": {
    "ExecuteTime": {
     "end_time": "2024-09-04T21:49:51.337935Z",
     "start_time": "2024-09-04T21:47:36.294214Z"
    }
   },
   "cell_type": "code",
   "source": [
    "# attempt the match\n",
    "uprn_matched = []\n",
    "for row_ccod in df_ccod[:10].iter_rows(named=True):\n",
    "    if row_ccod['Postcode'] == '': \n",
    "        uprn_matched.append(None)\n",
    "        # at this point you could decide to choose the subset based on town/county/district instead\n",
    "        continue\n",
    "    \n",
    "    local_abp = record_dfs[28].filter(pl.col('POSTCODE') == row_ccod['Postcode'])\n",
    "    if local_abp.is_empty():\n",
    "        uprn_matched.append(None)\n",
    "        # same as above, obvs the postcode is wrong\n",
    "        continue\n",
    "\n",
    "    formatted = row_ccod['Property Address'].upper().replace(' (', ', ').replace(')', '')\n",
    "\n",
    "    local_addresses = local_abp.map_rows(format_abp_address)\n",
    "    local_abp_addresses_0 = all_abp_addresses.get_column('column_0')\n",
    "    local_abp_addresses_1 = all_abp_addresses.get_column('column_1')\n",
    "    \n",
    "    match = process.extract(formatted, local_abp_addresses_0, scorer=fuzz.partial_ratio, limit=1)\n",
    "    print(match)\n",
    "    if len(match) > 0:\n",
    "        uprn_matched.append(local_abp_addresses_1[match[0][2]])"
   ],
   "id": "4abf67b26923ec43",
   "outputs": [
    {
     "name": "stdout",
     "output_type": "stream",
     "text": [
      "[('NORTH AUDLEY STREET, LONDON, W1K 6WS', 100.0, 352172)]\n",
      "[('ROSEBERY HOUSE, FARM STREET, LONDON, W1J 5RD', 98.30508474576271, 3747726)]\n",
      "[('JOHN HASLEM LTD, EBURY STREET, LONDON, SW1W 8UN', 95.38461538461537, 4287150)]\n",
      "[('EUSTON ROAD, LONDON, NW1 3AD', 96.42857142857143, 12775810)]\n",
      "[(\"GRAY'S INN SQUARE, LONDON, WC1R 5AZ\", 98.55072463768117, 13910644)]\n",
      "[('ECCLESTON SQUARE, LONDON, SW1V 1PH', 100.0, 12861192)]\n",
      "[('FLAT 31, BARRIE HOUSE, LANCASTER GATE, LONDON, W2 3QJ', 98.11320754716981, 9307690)]\n"
     ]
    }
   ],
   "execution_count": 85
  },
  {
   "metadata": {
    "ExecuteTime": {
     "end_time": "2024-09-04T21:27:51.553066Z",
     "start_time": "2024-09-04T21:27:51.549059Z"
    }
   },
   "cell_type": "code",
   "source": "all_hmlr_addresses.head(10)",
   "id": "35175b0652baded6",
   "outputs": [
    {
     "data": {
      "text/plain": [
       "shape: (10,)\n",
       "Series: 'map' [str]\n",
       "[\n",
       "\t\"PARKING SPACE 252 GROSVENOR HO…\n",
       "\t\"LAND ON THE SOUTH SIDE OF 25 N…\n",
       "\t\"4 FARM STREET, LONDON (W1J 5RD…\n",
       "\t\"198 EBURY STREET, LONDON (SW1W…\n",
       "\t\"21 BRUTON STREET, LONDON (W1J …\n",
       "\t\"UNIT 1A, EUSTON TOWER, 286 EUS…\n",
       "\t\"BASEMENT LOWER GROUND AND GROU…\n",
       "\t\"55, 56 AND, 57 ECCLESTON SQUAR…\n",
       "\t\"APARTMENT 1.04, 11 GREAT NEWPO…\n",
       "\t\"FLAT 1A, BARRIE HOUSE, LANCAST…\n",
       "]"
      ],
      "text/html": [
       "<div><style>\n",
       ".dataframe > thead > tr,\n",
       ".dataframe > tbody > tr {\n",
       "  text-align: right;\n",
       "  white-space: pre-wrap;\n",
       "}\n",
       "</style>\n",
       "<small>shape: (10,)</small><table border=\"1\" class=\"dataframe\"><thead><tr><th>map</th></tr><tr><td>str</td></tr></thead><tbody><tr><td>&quot;PARKING SPACE 252 GROSVENOR HO…</td></tr><tr><td>&quot;LAND ON THE SOUTH SIDE OF 25 N…</td></tr><tr><td>&quot;4 FARM STREET, LONDON (W1J 5RD…</td></tr><tr><td>&quot;198 EBURY STREET, LONDON (SW1W…</td></tr><tr><td>&quot;21 BRUTON STREET, LONDON (W1J …</td></tr><tr><td>&quot;UNIT 1A, EUSTON TOWER, 286 EUS…</td></tr><tr><td>&quot;BASEMENT LOWER GROUND AND GROU…</td></tr><tr><td>&quot;55, 56 AND, 57 ECCLESTON SQUAR…</td></tr><tr><td>&quot;APARTMENT 1.04, 11 GREAT NEWPO…</td></tr><tr><td>&quot;FLAT 1A, BARRIE HOUSE, LANCAST…</td></tr></tbody></table></div>"
      ]
     },
     "execution_count": 71,
     "metadata": {},
     "output_type": "execute_result"
    }
   ],
   "execution_count": 71
  },
  {
   "metadata": {
    "ExecuteTime": {
     "end_time": "2024-09-04T20:27:32.977345Z",
     "start_time": "2024-09-04T20:27:32.973605Z"
    }
   },
   "cell_type": "code",
   "source": "uprn_matched",
   "id": "493962ff02c46edb",
   "outputs": [
    {
     "data": {
      "text/plain": [
       "['10033571957',\n",
       " '100023474659',\n",
       " '100023473825',\n",
       " '100023346266',\n",
       " '100023473814',\n",
       " '5031705',\n",
       " '5088285',\n",
       " '100023340238',\n",
       " '100023431519',\n",
       " '100022771868']"
      ]
     },
     "execution_count": 54,
     "metadata": {},
     "output_type": "execute_result"
    }
   ],
   "execution_count": 54
  },
  {
   "metadata": {},
   "cell_type": "markdown",
   "source": [
    "    organisation_name = abp_row['ORGANISATION_NAME']\n",
    "    department_name = abp_row['DEPARTMENT_NAME']\n",
    "    sub_building_name = abp_row['SUB_BUILDING_NAME']\n",
    "    building_name = abp_row['BUILDING_NAME']\n",
    "    building_number = abp_row['BUILDING_NUMBER']\n",
    "    dependant_thoroughfare = abp_row['DEPENDANT_THOROUGHFARE']\n",
    "    thoroughfare = abp_row['THOROUGHFARE']\n",
    "    dependant_locality = abp_row['DEPENDANT_LOCALITY']\n",
    "    post_town = abp_row['POST_TOWN']\n",
    "    postcode = abp_row['POSTCODE']\n",
    "    uprn = abp_row['UPRN']"
   ],
   "id": "9c7beebae57a8630"
  }
 ],
 "metadata": {
  "kernelspec": {
   "display_name": "Python 3",
   "language": "python",
   "name": "python3"
  },
  "language_info": {
   "codemirror_mode": {
    "name": "ipython",
    "version": 2
   },
   "file_extension": ".py",
   "mimetype": "text/x-python",
   "name": "python",
   "nbconvert_exporter": "python",
   "pygments_lexer": "ipython2",
   "version": "2.7.6"
  }
 },
 "nbformat": 4,
 "nbformat_minor": 5
}
