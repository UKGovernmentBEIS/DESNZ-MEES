{
 "cells": [
  {
   "cell_type": "code",
   "id": "initial_id",
   "metadata": {
    "collapsed": true,
    "ExecuteTime": {
     "end_time": "2024-08-12T16:15:57.247044Z",
     "start_time": "2024-08-12T16:15:57.139476Z"
    }
   },
   "source": [
    "import polars as pl\n",
    "from dotenv import load_dotenv\n",
    "import os"
   ],
   "outputs": [],
   "execution_count": 2
  },
  {
   "metadata": {
    "ExecuteTime": {
     "end_time": "2024-08-12T16:16:01.788915Z",
     "start_time": "2024-08-12T16:16:00.390643Z"
    }
   },
   "cell_type": "code",
   "source": [
    "load_dotenv()\n",
    "# CCOD\n",
    "ccod_zip_file_name = os.getenv('HMLR_CCOD_OUTPUT_FILE')\n",
    "ccod_file_root = ccod_zip_file_name.replace('.zip', '')\n",
    "df_ccod =  pl.read_csv(f'downloads/{ccod_file_root}/{ccod_file_root}.csv')"
   ],
   "id": "803b00d4c994d2d3",
   "outputs": [],
   "execution_count": 3
  },
  {
   "metadata": {
    "ExecuteTime": {
     "end_time": "2024-08-12T16:16:19.683876Z",
     "start_time": "2024-08-12T16:16:19.636780Z"
    }
   },
   "cell_type": "code",
   "source": [
    "# OCOD\n",
    "ocod_zip_file_name = os.getenv('HMLR_OCOD_OUTPUT_FILE')\n",
    "ocod_file_root = ocod_zip_file_name.replace('.zip', '')\n",
    "df_ocod =  pl.read_csv(f'downloads/{ocod_file_root}/{ocod_file_root}.csv')"
   ],
   "id": "1f697c2ba1403f56",
   "outputs": [],
   "execution_count": 4
  },
  {
   "metadata": {
    "ExecuteTime": {
     "end_time": "2024-08-12T16:16:23.646001Z",
     "start_time": "2024-08-12T16:16:23.640114Z"
    }
   },
   "cell_type": "code",
   "source": "len(df_ccod) # 4,181,223",
   "id": "c002f623b544b77b",
   "outputs": [
    {
     "data": {
      "text/plain": [
       "4181223"
      ]
     },
     "execution_count": 5,
     "metadata": {},
     "output_type": "execute_result"
    }
   ],
   "execution_count": 5
  },
  {
   "metadata": {
    "ExecuteTime": {
     "end_time": "2024-08-12T16:16:55.017629Z",
     "start_time": "2024-08-12T16:16:55.011567Z"
    }
   },
   "cell_type": "code",
   "source": "df_ccod[:10]",
   "id": "f611a172e8f21051",
   "outputs": [
    {
     "data": {
      "text/plain": [
       "shape: (10, 35)\n",
       "┌───────────┬───────────┬───────────┬───────────┬───┬───────────┬───────────┬───────────┬──────────┐\n",
       "│ Title     ┆ Tenure    ┆ Property  ┆ District  ┆ … ┆ Proprieto ┆ Proprieto ┆ Date Prop ┆ Addition │\n",
       "│ Number    ┆ ---       ┆ Address   ┆ ---       ┆   ┆ r (4)     ┆ r (4)     ┆ rietor    ┆ al Propr │\n",
       "│ ---       ┆ str       ┆ ---       ┆ str       ┆   ┆ Address   ┆ Address   ┆ Added     ┆ ietor    │\n",
       "│ str       ┆           ┆ str       ┆           ┆   ┆ (2)       ┆ (3)       ┆ ---       ┆ Indicato │\n",
       "│           ┆           ┆           ┆           ┆   ┆ ---       ┆ ---       ┆ str       ┆ …        │\n",
       "│           ┆           ┆           ┆           ┆   ┆ str       ┆ str       ┆           ┆ ---      │\n",
       "│           ┆           ┆           ┆           ┆   ┆           ┆           ┆           ┆ str      │\n",
       "╞═══════════╪═══════════╪═══════════╪═══════════╪═══╪═══════════╪═══════════╪═══════════╪══════════╡\n",
       "│ BB152     ┆ Leasehold ┆ Parking   ┆ CITY OF   ┆ … ┆           ┆           ┆ 26-07-201 ┆ N        │\n",
       "│           ┆           ┆ Space 252 ┆ WESTMINST ┆   ┆           ┆           ┆ 9         ┆          │\n",
       "│           ┆           ┆ Grosvenor ┆ ER        ┆   ┆           ┆           ┆           ┆          │\n",
       "│           ┆           ┆ Ho…       ┆           ┆   ┆           ┆           ┆           ┆          │\n",
       "│ BB154     ┆ Leasehold ┆ land on   ┆ CITY OF   ┆ … ┆           ┆           ┆ 26-07-201 ┆ N        │\n",
       "│           ┆           ┆ the south ┆ WESTMINST ┆   ┆           ┆           ┆ 9         ┆          │\n",
       "│           ┆           ┆ side of   ┆ ER        ┆   ┆           ┆           ┆           ┆          │\n",
       "│           ┆           ┆ 25 N…     ┆           ┆   ┆           ┆           ┆           ┆          │\n",
       "│ BB181     ┆ Leasehold ┆ 4 Farm    ┆ CITY OF   ┆ … ┆           ┆           ┆ 29-07-201 ┆ N        │\n",
       "│           ┆           ┆ Street,   ┆ WESTMINST ┆   ┆           ┆           ┆ 9         ┆          │\n",
       "│           ┆           ┆ London    ┆ ER        ┆   ┆           ┆           ┆           ┆          │\n",
       "│           ┆           ┆ (W1J 5RD… ┆           ┆   ┆           ┆           ┆           ┆          │\n",
       "│ BB232     ┆ Leasehold ┆ 198 Ebury ┆ CITY OF   ┆ … ┆           ┆           ┆ 31-07-201 ┆ N        │\n",
       "│           ┆           ┆ Street,   ┆ WESTMINST ┆   ┆           ┆           ┆ 9         ┆          │\n",
       "│           ┆           ┆ London    ┆ ER        ┆   ┆           ┆           ┆           ┆          │\n",
       "│           ┆           ┆ (SW1W…    ┆           ┆   ┆           ┆           ┆           ┆          │\n",
       "│ BB263     ┆ Leasehold ┆ 21 Bruton ┆ CITY OF   ┆ … ┆           ┆           ┆ 02-08-201 ┆ N        │\n",
       "│           ┆           ┆ Street,   ┆ WESTMINST ┆   ┆           ┆           ┆ 9         ┆          │\n",
       "│           ┆           ┆ London    ┆ ER        ┆   ┆           ┆           ┆           ┆          │\n",
       "│           ┆           ┆ (W1J …    ┆           ┆   ┆           ┆           ┆           ┆          │\n",
       "│ BB269     ┆ Leasehold ┆ Unit 1a,  ┆ CAMDEN    ┆ … ┆           ┆           ┆ 02-08-201 ┆ N        │\n",
       "│           ┆           ┆ Euston    ┆           ┆   ┆           ┆           ┆ 9         ┆          │\n",
       "│           ┆           ┆ Tower,    ┆           ┆   ┆           ┆           ┆           ┆          │\n",
       "│           ┆           ┆ 286 Eus…  ┆           ┆   ┆           ┆           ┆           ┆          │\n",
       "│ BB378     ┆ Leasehold ┆ Basement  ┆ CAMDEN    ┆ … ┆           ┆           ┆ 07-08-201 ┆ N        │\n",
       "│           ┆           ┆ Lower     ┆           ┆   ┆           ┆           ┆ 9         ┆          │\n",
       "│           ┆           ┆ Ground    ┆           ┆   ┆           ┆           ┆           ┆          │\n",
       "│           ┆           ┆ And Grou… ┆           ┆   ┆           ┆           ┆           ┆          │\n",
       "│ BB392     ┆ Leasehold ┆ 55, 56    ┆ CITY OF   ┆ … ┆           ┆           ┆ 08-08-201 ┆ N        │\n",
       "│           ┆           ┆ and, 57   ┆ WESTMINST ┆   ┆           ┆           ┆ 9         ┆          │\n",
       "│           ┆           ┆ Eccleston ┆ ER        ┆   ┆           ┆           ┆           ┆          │\n",
       "│           ┆           ┆ Squar…    ┆           ┆   ┆           ┆           ┆           ┆          │\n",
       "│ BB644     ┆ Leasehold ┆ Apartment ┆ CITY OF   ┆ … ┆           ┆           ┆ 20-08-201 ┆ N        │\n",
       "│           ┆           ┆ 1.04, 11  ┆ WESTMINST ┆   ┆           ┆           ┆ 9         ┆          │\n",
       "│           ┆           ┆ Great     ┆ ER        ┆   ┆           ┆           ┆           ┆          │\n",
       "│           ┆           ┆ Newpo…    ┆           ┆   ┆           ┆           ┆           ┆          │\n",
       "│ BB654     ┆ Leasehold ┆ Flat 1a,  ┆ CITY OF   ┆ … ┆           ┆           ┆ 21-08-201 ┆ N        │\n",
       "│           ┆           ┆ Barrie    ┆ WESTMINST ┆   ┆           ┆           ┆ 9         ┆          │\n",
       "│           ┆           ┆ House,    ┆ ER        ┆   ┆           ┆           ┆           ┆          │\n",
       "│           ┆           ┆ Lancast…  ┆           ┆   ┆           ┆           ┆           ┆          │\n",
       "└───────────┴───────────┴───────────┴───────────┴───┴───────────┴───────────┴───────────┴──────────┘"
      ],
      "text/html": [
       "<div><style>\n",
       ".dataframe > thead > tr,\n",
       ".dataframe > tbody > tr {\n",
       "  text-align: right;\n",
       "  white-space: pre-wrap;\n",
       "}\n",
       "</style>\n",
       "<small>shape: (10, 35)</small><table border=\"1\" class=\"dataframe\"><thead><tr><th>Title Number</th><th>Tenure</th><th>Property Address</th><th>District</th><th>County</th><th>Region</th><th>Postcode</th><th>Multiple Address Indicator</th><th>Price Paid</th><th>Proprietor Name (1)</th><th>Company Registration No. (1)</th><th>Proprietorship Category (1)</th><th>Proprietor (1) Address (1)</th><th>Proprietor (1) Address (2)</th><th>Proprietor (1) Address (3)</th><th>Proprietor Name (2)</th><th>Company Registration No. (2)</th><th>Proprietorship Category (2)</th><th>Proprietor (2) Address (1)</th><th>Proprietor (2) Address (2)</th><th>Proprietor (2) Address (3)</th><th>Proprietor Name (3)</th><th>Company Registration No. (3)</th><th>Proprietorship Category (3)</th><th>Proprietor (3) Address (1)</th><th>Proprietor (3) Address (2)</th><th>Proprietor (3) Address (3)</th><th>Proprietor Name (4)</th><th>Company Registration No. (4)</th><th>Proprietorship Category (4)</th><th>Proprietor (4) Address (1)</th><th>Proprietor (4) Address (2)</th><th>Proprietor (4) Address (3)</th><th>Date Proprietor Added</th><th>Additional Proprietor Indicator</th></tr><tr><td>str</td><td>str</td><td>str</td><td>str</td><td>str</td><td>str</td><td>str</td><td>str</td><td>str</td><td>str</td><td>str</td><td>str</td><td>str</td><td>str</td><td>str</td><td>str</td><td>str</td><td>str</td><td>str</td><td>str</td><td>str</td><td>str</td><td>str</td><td>str</td><td>str</td><td>str</td><td>str</td><td>str</td><td>str</td><td>str</td><td>str</td><td>str</td><td>str</td><td>str</td><td>str</td></tr></thead><tbody><tr><td>&quot;BB152&quot;</td><td>&quot;Leasehold&quot;</td><td>&quot;Parking Space 252 Grosvenor Ho…</td><td>&quot;CITY OF WESTMINSTER&quot;</td><td>&quot;GREATER LONDON&quot;</td><td>&quot;GREATER LONDON&quot;</td><td>&quot;&quot;</td><td>&quot;N&quot;</td><td>&quot;&quot;</td><td>&quot;BERKELEY ONE HUNDRED AND FORTY…</td><td>&quot;6013757&quot;</td><td>&quot;Limited Company or Public Limi…</td><td>&quot;Berkeley House, 19 Portsmouth …</td><td>&quot;&quot;</td><td>&quot;&quot;</td><td>&quot;&quot;</td><td>&quot;&quot;</td><td>&quot;&quot;</td><td>&quot;&quot;</td><td>&quot;&quot;</td><td>&quot;&quot;</td><td>&quot;&quot;</td><td>&quot;&quot;</td><td>&quot;&quot;</td><td>&quot;&quot;</td><td>&quot;&quot;</td><td>&quot;&quot;</td><td>&quot;&quot;</td><td>&quot;&quot;</td><td>&quot;&quot;</td><td>&quot;&quot;</td><td>&quot;&quot;</td><td>&quot;&quot;</td><td>&quot;26-07-2019&quot;</td><td>&quot;N&quot;</td></tr><tr><td>&quot;BB154&quot;</td><td>&quot;Leasehold&quot;</td><td>&quot;land on the south side of 25 N…</td><td>&quot;CITY OF WESTMINSTER&quot;</td><td>&quot;GREATER LONDON&quot;</td><td>&quot;GREATER LONDON&quot;</td><td>&quot;W1K 6WS&quot;</td><td>&quot;N&quot;</td><td>&quot;&quot;</td><td>&quot;GROSVENOR WEST END PROPERTIES&quot;</td><td>&quot;956235&quot;</td><td>&quot;Corporate Body&quot;</td><td>&quot;70 Grosvenor Street, London W1…</td><td>&quot;&quot;</td><td>&quot;&quot;</td><td>&quot;&quot;</td><td>&quot;&quot;</td><td>&quot;&quot;</td><td>&quot;&quot;</td><td>&quot;&quot;</td><td>&quot;&quot;</td><td>&quot;&quot;</td><td>&quot;&quot;</td><td>&quot;&quot;</td><td>&quot;&quot;</td><td>&quot;&quot;</td><td>&quot;&quot;</td><td>&quot;&quot;</td><td>&quot;&quot;</td><td>&quot;&quot;</td><td>&quot;&quot;</td><td>&quot;&quot;</td><td>&quot;&quot;</td><td>&quot;26-07-2019&quot;</td><td>&quot;N&quot;</td></tr><tr><td>&quot;BB181&quot;</td><td>&quot;Leasehold&quot;</td><td>&quot;4 Farm Street, London (W1J 5RD…</td><td>&quot;CITY OF WESTMINSTER&quot;</td><td>&quot;GREATER LONDON&quot;</td><td>&quot;GREATER LONDON&quot;</td><td>&quot;W1J 5RD&quot;</td><td>&quot;N&quot;</td><td>&quot;&quot;</td><td>&quot;COMMERCIAL REAL ESTATE MANAGEM…</td><td>&quot;06857511&quot;</td><td>&quot;Limited Company or Public Limi…</td><td>&quot;Universal Square, Building 2, …</td><td>&quot;&quot;</td><td>&quot;&quot;</td><td>&quot;&quot;</td><td>&quot;&quot;</td><td>&quot;&quot;</td><td>&quot;&quot;</td><td>&quot;&quot;</td><td>&quot;&quot;</td><td>&quot;&quot;</td><td>&quot;&quot;</td><td>&quot;&quot;</td><td>&quot;&quot;</td><td>&quot;&quot;</td><td>&quot;&quot;</td><td>&quot;&quot;</td><td>&quot;&quot;</td><td>&quot;&quot;</td><td>&quot;&quot;</td><td>&quot;&quot;</td><td>&quot;&quot;</td><td>&quot;29-07-2019&quot;</td><td>&quot;N&quot;</td></tr><tr><td>&quot;BB232&quot;</td><td>&quot;Leasehold&quot;</td><td>&quot;198 Ebury Street, London (SW1W…</td><td>&quot;CITY OF WESTMINSTER&quot;</td><td>&quot;GREATER LONDON&quot;</td><td>&quot;GREATER LONDON&quot;</td><td>&quot;SW1W 8UN&quot;</td><td>&quot;N&quot;</td><td>&quot;&quot;</td><td>&quot;THE TIMOTHY LANGSTON COLLECTIV…</td><td>&quot;11994496&quot;</td><td>&quot;Limited Company or Public Limi…</td><td>&quot;Bridge House, 11 Creek Road, E…</td><td>&quot;&quot;</td><td>&quot;&quot;</td><td>&quot;&quot;</td><td>&quot;&quot;</td><td>&quot;&quot;</td><td>&quot;&quot;</td><td>&quot;&quot;</td><td>&quot;&quot;</td><td>&quot;&quot;</td><td>&quot;&quot;</td><td>&quot;&quot;</td><td>&quot;&quot;</td><td>&quot;&quot;</td><td>&quot;&quot;</td><td>&quot;&quot;</td><td>&quot;&quot;</td><td>&quot;&quot;</td><td>&quot;&quot;</td><td>&quot;&quot;</td><td>&quot;&quot;</td><td>&quot;31-07-2019&quot;</td><td>&quot;N&quot;</td></tr><tr><td>&quot;BB263&quot;</td><td>&quot;Leasehold&quot;</td><td>&quot;21 Bruton Street, London (W1J …</td><td>&quot;CITY OF WESTMINSTER&quot;</td><td>&quot;GREATER LONDON&quot;</td><td>&quot;GREATER LONDON&quot;</td><td>&quot;W1J 6QD&quot;</td><td>&quot;N&quot;</td><td>&quot;&quot;</td><td>&quot;DELAHUNTY LIMITED&quot;</td><td>&quot;04614172&quot;</td><td>&quot;Limited Company or Public Limi…</td><td>&quot;Eighth Floor, 6 New Street Squ…</td><td>&quot;&quot;</td><td>&quot;&quot;</td><td>&quot;&quot;</td><td>&quot;&quot;</td><td>&quot;&quot;</td><td>&quot;&quot;</td><td>&quot;&quot;</td><td>&quot;&quot;</td><td>&quot;&quot;</td><td>&quot;&quot;</td><td>&quot;&quot;</td><td>&quot;&quot;</td><td>&quot;&quot;</td><td>&quot;&quot;</td><td>&quot;&quot;</td><td>&quot;&quot;</td><td>&quot;&quot;</td><td>&quot;&quot;</td><td>&quot;&quot;</td><td>&quot;&quot;</td><td>&quot;02-08-2019&quot;</td><td>&quot;N&quot;</td></tr><tr><td>&quot;BB269&quot;</td><td>&quot;Leasehold&quot;</td><td>&quot;Unit 1a, Euston Tower, 286 Eus…</td><td>&quot;CAMDEN&quot;</td><td>&quot;GREATER LONDON&quot;</td><td>&quot;GREATER LONDON&quot;</td><td>&quot;NW1 3DP&quot;</td><td>&quot;N&quot;</td><td>&quot;&quot;</td><td>&quot;STARBUCKS COFFEE COMPANY (UK) …</td><td>&quot;02959325&quot;</td><td>&quot;Limited Company or Public Limi…</td><td>&quot;Building 4, Chiswick Park, 566…</td><td>&quot;&quot;</td><td>&quot;&quot;</td><td>&quot;&quot;</td><td>&quot;&quot;</td><td>&quot;&quot;</td><td>&quot;&quot;</td><td>&quot;&quot;</td><td>&quot;&quot;</td><td>&quot;&quot;</td><td>&quot;&quot;</td><td>&quot;&quot;</td><td>&quot;&quot;</td><td>&quot;&quot;</td><td>&quot;&quot;</td><td>&quot;&quot;</td><td>&quot;&quot;</td><td>&quot;&quot;</td><td>&quot;&quot;</td><td>&quot;&quot;</td><td>&quot;&quot;</td><td>&quot;02-08-2019&quot;</td><td>&quot;N&quot;</td></tr><tr><td>&quot;BB378&quot;</td><td>&quot;Leasehold&quot;</td><td>&quot;Basement Lower Ground And Grou…</td><td>&quot;CAMDEN&quot;</td><td>&quot;GREATER LONDON&quot;</td><td>&quot;GREATER LONDON&quot;</td><td>&quot;WC1R 5AZ&quot;</td><td>&quot;N&quot;</td><td>&quot;&quot;</td><td>&quot;4-5 GRAY&#x27;S INN SQUARE LIMITED&quot;</td><td>&quot;08685154&quot;</td><td>&quot;Limited Company or Public Limi…</td><td>&quot;Basement Lower Ground And Grou…</td><td>&quot;&quot;</td><td>&quot;&quot;</td><td>&quot;&quot;</td><td>&quot;&quot;</td><td>&quot;&quot;</td><td>&quot;&quot;</td><td>&quot;&quot;</td><td>&quot;&quot;</td><td>&quot;&quot;</td><td>&quot;&quot;</td><td>&quot;&quot;</td><td>&quot;&quot;</td><td>&quot;&quot;</td><td>&quot;&quot;</td><td>&quot;&quot;</td><td>&quot;&quot;</td><td>&quot;&quot;</td><td>&quot;&quot;</td><td>&quot;&quot;</td><td>&quot;&quot;</td><td>&quot;07-08-2019&quot;</td><td>&quot;N&quot;</td></tr><tr><td>&quot;BB392&quot;</td><td>&quot;Leasehold&quot;</td><td>&quot;55, 56 and, 57 Eccleston Squar…</td><td>&quot;CITY OF WESTMINSTER&quot;</td><td>&quot;GREATER LONDON&quot;</td><td>&quot;GREATER LONDON&quot;</td><td>&quot;SW1V 1PH&quot;</td><td>&quot;N&quot;</td><td>&quot;&quot;</td><td>&quot;EATON SQUARE SCHOOLS LIMITED&quot;</td><td>&quot;04589393&quot;</td><td>&quot;Limited Company or Public Limi…</td><td>&quot;Sanction Wood Schools Limited …</td><td>&quot;&quot;</td><td>&quot;&quot;</td><td>&quot;&quot;</td><td>&quot;&quot;</td><td>&quot;&quot;</td><td>&quot;&quot;</td><td>&quot;&quot;</td><td>&quot;&quot;</td><td>&quot;&quot;</td><td>&quot;&quot;</td><td>&quot;&quot;</td><td>&quot;&quot;</td><td>&quot;&quot;</td><td>&quot;&quot;</td><td>&quot;&quot;</td><td>&quot;&quot;</td><td>&quot;&quot;</td><td>&quot;&quot;</td><td>&quot;&quot;</td><td>&quot;&quot;</td><td>&quot;08-08-2019&quot;</td><td>&quot;N&quot;</td></tr><tr><td>&quot;BB644&quot;</td><td>&quot;Leasehold&quot;</td><td>&quot;Apartment 1.04, 11 Great Newpo…</td><td>&quot;CITY OF WESTMINSTER&quot;</td><td>&quot;GREATER LONDON&quot;</td><td>&quot;GREATER LONDON&quot;</td><td>&quot;WC2H 7JL&quot;</td><td>&quot;N&quot;</td><td>&quot;1447000&quot;</td><td>&quot;PENTECOST PROPERTIES LIMITED&quot;</td><td>&quot;11592225&quot;</td><td>&quot;Limited Company or Public Limi…</td><td>&quot;Apartment 66, The Corniche, 23…</td><td>&quot;&quot;</td><td>&quot;&quot;</td><td>&quot;&quot;</td><td>&quot;&quot;</td><td>&quot;&quot;</td><td>&quot;&quot;</td><td>&quot;&quot;</td><td>&quot;&quot;</td><td>&quot;&quot;</td><td>&quot;&quot;</td><td>&quot;&quot;</td><td>&quot;&quot;</td><td>&quot;&quot;</td><td>&quot;&quot;</td><td>&quot;&quot;</td><td>&quot;&quot;</td><td>&quot;&quot;</td><td>&quot;&quot;</td><td>&quot;&quot;</td><td>&quot;&quot;</td><td>&quot;20-08-2019&quot;</td><td>&quot;N&quot;</td></tr><tr><td>&quot;BB654&quot;</td><td>&quot;Leasehold&quot;</td><td>&quot;Flat 1a, Barrie House, Lancast…</td><td>&quot;CITY OF WESTMINSTER&quot;</td><td>&quot;GREATER LONDON&quot;</td><td>&quot;GREATER LONDON&quot;</td><td>&quot;W2 3QJ&quot;</td><td>&quot;N&quot;</td><td>&quot;&quot;</td><td>&quot;NEVERLAND PROPERTIES LIMITED&quot;</td><td>&quot;10317413&quot;</td><td>&quot;Limited Company or Public Limi…</td><td>&quot;Albury Mill, Mill Lane, Chilwo…</td><td>&quot;&quot;</td><td>&quot;&quot;</td><td>&quot;&quot;</td><td>&quot;&quot;</td><td>&quot;&quot;</td><td>&quot;&quot;</td><td>&quot;&quot;</td><td>&quot;&quot;</td><td>&quot;&quot;</td><td>&quot;&quot;</td><td>&quot;&quot;</td><td>&quot;&quot;</td><td>&quot;&quot;</td><td>&quot;&quot;</td><td>&quot;&quot;</td><td>&quot;&quot;</td><td>&quot;&quot;</td><td>&quot;&quot;</td><td>&quot;&quot;</td><td>&quot;&quot;</td><td>&quot;21-08-2019&quot;</td><td>&quot;N&quot;</td></tr></tbody></table></div>"
      ]
     },
     "execution_count": 6,
     "metadata": {},
     "output_type": "execute_result"
    }
   ],
   "execution_count": 6
  },
  {
   "metadata": {
    "ExecuteTime": {
     "end_time": "2024-08-12T16:17:15.181272Z",
     "start_time": "2024-08-12T16:17:15.178009Z"
    }
   },
   "cell_type": "code",
   "source": "len(df_ocod) # 92,810",
   "id": "f172468a5bcd2d93",
   "outputs": [
    {
     "data": {
      "text/plain": [
       "92810"
      ]
     },
     "execution_count": 7,
     "metadata": {},
     "output_type": "execute_result"
    }
   ],
   "execution_count": 7
  },
  {
   "metadata": {
    "ExecuteTime": {
     "end_time": "2024-08-12T16:17:59.170196Z",
     "start_time": "2024-08-12T16:17:59.165644Z"
    }
   },
   "cell_type": "code",
   "source": "df_ocod.head()",
   "id": "2cc839ae949fa02c",
   "outputs": [
    {
     "data": {
      "text/plain": [
       "shape: (5, 39)\n",
       "┌───────────┬───────────┬───────────┬───────────┬───┬───────────┬───────────┬───────────┬──────────┐\n",
       "│ Title     ┆ Tenure    ┆ Property  ┆ District  ┆ … ┆ Proprieto ┆ Proprieto ┆ Date Prop ┆ Addition │\n",
       "│ Number    ┆ ---       ┆ Address   ┆ ---       ┆   ┆ r (4)     ┆ r (4)     ┆ rietor    ┆ al Propr │\n",
       "│ ---       ┆ str       ┆ ---       ┆ str       ┆   ┆ Address   ┆ Address   ┆ Added     ┆ ietor    │\n",
       "│ str       ┆           ┆ str       ┆           ┆   ┆ (2)       ┆ (3)       ┆ ---       ┆ Indicato │\n",
       "│           ┆           ┆           ┆           ┆   ┆ ---       ┆ ---       ┆ str       ┆ …        │\n",
       "│           ┆           ┆           ┆           ┆   ┆ str       ┆ str       ┆           ┆ ---      │\n",
       "│           ┆           ┆           ┆           ┆   ┆           ┆           ┆           ┆ str      │\n",
       "╞═══════════╪═══════════╪═══════════╪═══════════╪═══╪═══════════╪═══════════╪═══════════╪══════════╡\n",
       "│ WA861810  ┆ Freehold  ┆ LAND ON   ┆ CARDIFF   ┆ … ┆           ┆           ┆ 06-06-202 ┆ N        │\n",
       "│           ┆           ┆ THE WEST  ┆           ┆   ┆           ┆           ┆ 2         ┆          │\n",
       "│           ┆           ┆ SIDE OF   ┆           ┆   ┆           ┆           ┆           ┆          │\n",
       "│           ┆           ┆ City …    ┆           ┆   ┆           ┆           ┆           ┆          │\n",
       "│ LAN135342 ┆ Freehold  ┆ 1 Blossom ┆ CHORLEY   ┆ … ┆           ┆           ┆ 02-06-201 ┆ N        │\n",
       "│           ┆           ┆ Grove,    ┆           ┆   ┆           ┆           ┆ 7         ┆          │\n",
       "│           ┆           ┆ Whittle   ┆           ┆   ┆           ┆           ┆           ┆          │\n",
       "│           ┆           ┆ Le Wo…    ┆           ┆   ┆           ┆           ┆           ┆          │\n",
       "│ LAN136410 ┆ Leasehold ┆ 17 Derby  ┆ PRESTON   ┆ … ┆           ┆           ┆ 14-01-201 ┆ N        │\n",
       "│           ┆           ┆ Road,     ┆           ┆   ┆           ┆           ┆ 3         ┆          │\n",
       "│           ┆           ┆ Fulwood,  ┆           ┆   ┆           ┆           ┆           ┆          │\n",
       "│           ┆           ┆ Presto…   ┆           ┆   ┆           ┆           ┆           ┆          │\n",
       "│ LAN142253 ┆ Freehold  ┆ land      ┆ CHORLEY   ┆ … ┆           ┆           ┆ 09-06-201 ┆ N        │\n",
       "│           ┆           ┆ lying to  ┆           ┆   ┆           ┆           ┆ 7         ┆          │\n",
       "│           ┆           ┆ the south ┆           ┆   ┆           ┆           ┆           ┆          │\n",
       "│           ┆           ┆ of Bry…   ┆           ┆   ┆           ┆           ┆           ┆          │\n",
       "│ LAN151353 ┆ Freehold  ┆ 16, 17    ┆ LANCASTER ┆ … ┆           ┆           ┆ 08-06-201 ┆ N        │\n",
       "│           ┆           ┆ and 19    ┆           ┆   ┆           ┆           ┆ 7         ┆          │\n",
       "│           ┆           ┆ Chaffinch ┆           ┆   ┆           ┆           ┆           ┆          │\n",
       "│           ┆           ┆ Close,…   ┆           ┆   ┆           ┆           ┆           ┆          │\n",
       "└───────────┴───────────┴───────────┴───────────┴───┴───────────┴───────────┴───────────┴──────────┘"
      ],
      "text/html": [
       "<div><style>\n",
       ".dataframe > thead > tr,\n",
       ".dataframe > tbody > tr {\n",
       "  text-align: right;\n",
       "  white-space: pre-wrap;\n",
       "}\n",
       "</style>\n",
       "<small>shape: (5, 39)</small><table border=\"1\" class=\"dataframe\"><thead><tr><th>Title Number</th><th>Tenure</th><th>Property Address</th><th>District</th><th>County</th><th>Region</th><th>Postcode</th><th>Multiple Address Indicator</th><th>Price Paid</th><th>Proprietor Name (1)</th><th>Company Registration No. (1)</th><th>Proprietorship Category (1)</th><th>Country Incorporated (1)</th><th>Proprietor (1) Address (1)</th><th>Proprietor (1) Address (2)</th><th>Proprietor (1) Address (3)</th><th>Proprietor Name (2)</th><th>Company Registration No. (2)</th><th>Proprietorship Category (2)</th><th>Country Incorporated (2)</th><th>Proprietor (2) Address (1)</th><th>Proprietor (2) Address (2)</th><th>Proprietor (2) Address (3)</th><th>Proprietor Name (3)</th><th>Company Registration No. (3)</th><th>Proprietorship Category (3)</th><th>Country Incorporated (3)</th><th>Proprietor (3) Address (1)</th><th>Proprietor (3) Address (2)</th><th>Proprietor (3) Address (3)</th><th>Proprietor Name (4)</th><th>Company Registration No. (4)</th><th>Proprietorship Category (4)</th><th>Country Incorporated (4)</th><th>Proprietor (4) Address (1)</th><th>Proprietor (4) Address (2)</th><th>Proprietor (4) Address (3)</th><th>Date Proprietor Added</th><th>Additional Proprietor Indicator</th></tr><tr><td>str</td><td>str</td><td>str</td><td>str</td><td>str</td><td>str</td><td>str</td><td>str</td><td>str</td><td>str</td><td>str</td><td>str</td><td>str</td><td>str</td><td>str</td><td>str</td><td>str</td><td>str</td><td>str</td><td>str</td><td>str</td><td>str</td><td>str</td><td>str</td><td>str</td><td>str</td><td>str</td><td>str</td><td>str</td><td>str</td><td>str</td><td>str</td><td>str</td><td>str</td><td>str</td><td>str</td><td>str</td><td>str</td><td>str</td></tr></thead><tbody><tr><td>&quot;WA861810&quot;</td><td>&quot;Freehold&quot;</td><td>&quot;LAND ON THE WEST SIDE OF City …</td><td>&quot;CARDIFF&quot;</td><td>&quot;CARDIFF&quot;</td><td>&quot;WALES&quot;</td><td>&quot;&quot;</td><td>&quot;N&quot;</td><td>&quot;200000&quot;</td><td>&quot;CITY ROAD CARDIFF PROPERTY INV…</td><td>&quot;&quot;</td><td>&quot;Limited Company or Public Limi…</td><td>&quot;JERSEY&quot;</td><td>&quot;26 New Street, St Helier, Jers…</td><td>&quot;60 Grosvenor Street, London W1…</td><td>&quot;&quot;</td><td>&quot;&quot;</td><td>&quot;&quot;</td><td>&quot;&quot;</td><td>&quot;&quot;</td><td>&quot;&quot;</td><td>&quot;&quot;</td><td>&quot;&quot;</td><td>&quot;&quot;</td><td>&quot;&quot;</td><td>&quot;&quot;</td><td>&quot;&quot;</td><td>&quot;&quot;</td><td>&quot;&quot;</td><td>&quot;&quot;</td><td>&quot;&quot;</td><td>&quot;&quot;</td><td>&quot;&quot;</td><td>&quot;&quot;</td><td>&quot;&quot;</td><td>&quot;&quot;</td><td>&quot;&quot;</td><td>&quot;06-06-2022&quot;</td><td>&quot;N&quot;</td></tr><tr><td>&quot;LAN135342&quot;</td><td>&quot;Freehold&quot;</td><td>&quot;1 Blossom Grove, Whittle Le Wo…</td><td>&quot;CHORLEY&quot;</td><td>&quot;LANCASHIRE&quot;</td><td>&quot;NORTH WEST&quot;</td><td>&quot;PR6 7HB&quot;</td><td>&quot;N&quot;</td><td>&quot;&quot;</td><td>&quot;ABACUS LAND 1 (HOLDCO 1) LIMIT…</td><td>&quot;&quot;</td><td>&quot;Limited Company or Public Limi…</td><td>&quot;JERSEY&quot;</td><td>&quot;IFC 5, St Helier, Jersey, JE1 …</td><td>&quot;6th Floor, 125 London Wall, Lo…</td><td>&quot;&quot;</td><td>&quot;&quot;</td><td>&quot;&quot;</td><td>&quot;&quot;</td><td>&quot;&quot;</td><td>&quot;&quot;</td><td>&quot;&quot;</td><td>&quot;&quot;</td><td>&quot;&quot;</td><td>&quot;&quot;</td><td>&quot;&quot;</td><td>&quot;&quot;</td><td>&quot;&quot;</td><td>&quot;&quot;</td><td>&quot;&quot;</td><td>&quot;&quot;</td><td>&quot;&quot;</td><td>&quot;&quot;</td><td>&quot;&quot;</td><td>&quot;&quot;</td><td>&quot;&quot;</td><td>&quot;&quot;</td><td>&quot;02-06-2017&quot;</td><td>&quot;N&quot;</td></tr><tr><td>&quot;LAN136410&quot;</td><td>&quot;Leasehold&quot;</td><td>&quot;17 Derby Road, Fulwood, Presto…</td><td>&quot;PRESTON&quot;</td><td>&quot;LANCASHIRE&quot;</td><td>&quot;NORTH WEST&quot;</td><td>&quot;PR2 8JJ&quot;</td><td>&quot;N&quot;</td><td>&quot;&quot;</td><td>&quot;ZAGORA MANAGEMENT LIMITED&quot;</td><td>&quot;&quot;</td><td>&quot;Limited Company or Public Limi…</td><td>&quot;GIBRALTAR&quot;</td><td>&quot;17 Derby Road, Fulwood, Presto…</td><td>&quot;&quot;</td><td>&quot;&quot;</td><td>&quot;&quot;</td><td>&quot;&quot;</td><td>&quot;&quot;</td><td>&quot;&quot;</td><td>&quot;&quot;</td><td>&quot;&quot;</td><td>&quot;&quot;</td><td>&quot;&quot;</td><td>&quot;&quot;</td><td>&quot;&quot;</td><td>&quot;&quot;</td><td>&quot;&quot;</td><td>&quot;&quot;</td><td>&quot;&quot;</td><td>&quot;&quot;</td><td>&quot;&quot;</td><td>&quot;&quot;</td><td>&quot;&quot;</td><td>&quot;&quot;</td><td>&quot;&quot;</td><td>&quot;&quot;</td><td>&quot;14-01-2013&quot;</td><td>&quot;N&quot;</td></tr><tr><td>&quot;LAN142253&quot;</td><td>&quot;Freehold&quot;</td><td>&quot;land lying to the south of Bry…</td><td>&quot;CHORLEY&quot;</td><td>&quot;LANCASHIRE&quot;</td><td>&quot;NORTH WEST&quot;</td><td>&quot;&quot;</td><td>&quot;N&quot;</td><td>&quot;&quot;</td><td>&quot;ABACUS LAND 4 LIMITED&quot;</td><td>&quot;&quot;</td><td>&quot;Limited Company or Public Limi…</td><td>&quot;GUERNSEY&quot;</td><td>&quot;1 Royal Plaza, Royal Avenue, S…</td><td>&quot;6th Floor, 125 London Wall, Lo…</td><td>&quot;&quot;</td><td>&quot;&quot;</td><td>&quot;&quot;</td><td>&quot;&quot;</td><td>&quot;&quot;</td><td>&quot;&quot;</td><td>&quot;&quot;</td><td>&quot;&quot;</td><td>&quot;&quot;</td><td>&quot;&quot;</td><td>&quot;&quot;</td><td>&quot;&quot;</td><td>&quot;&quot;</td><td>&quot;&quot;</td><td>&quot;&quot;</td><td>&quot;&quot;</td><td>&quot;&quot;</td><td>&quot;&quot;</td><td>&quot;&quot;</td><td>&quot;&quot;</td><td>&quot;&quot;</td><td>&quot;&quot;</td><td>&quot;09-06-2017&quot;</td><td>&quot;N&quot;</td></tr><tr><td>&quot;LAN151353&quot;</td><td>&quot;Freehold&quot;</td><td>&quot;16, 17 and 19 Chaffinch Close,…</td><td>&quot;LANCASTER&quot;</td><td>&quot;LANCASHIRE&quot;</td><td>&quot;NORTH WEST&quot;</td><td>&quot;&quot;</td><td>&quot;N&quot;</td><td>&quot;&quot;</td><td>&quot;ABACUS LAND 4 LIMITED&quot;</td><td>&quot;&quot;</td><td>&quot;Limited Company or Public Limi…</td><td>&quot;GUERNSEY&quot;</td><td>&quot;1 Royal Plaza, Royal Avenue, S…</td><td>&quot;6th Floor, 125 London Wall, Lo…</td><td>&quot;&quot;</td><td>&quot;&quot;</td><td>&quot;&quot;</td><td>&quot;&quot;</td><td>&quot;&quot;</td><td>&quot;&quot;</td><td>&quot;&quot;</td><td>&quot;&quot;</td><td>&quot;&quot;</td><td>&quot;&quot;</td><td>&quot;&quot;</td><td>&quot;&quot;</td><td>&quot;&quot;</td><td>&quot;&quot;</td><td>&quot;&quot;</td><td>&quot;&quot;</td><td>&quot;&quot;</td><td>&quot;&quot;</td><td>&quot;&quot;</td><td>&quot;&quot;</td><td>&quot;&quot;</td><td>&quot;&quot;</td><td>&quot;08-06-2017&quot;</td><td>&quot;N&quot;</td></tr></tbody></table></div>"
      ]
     },
     "execution_count": 8,
     "metadata": {},
     "output_type": "execute_result"
    }
   ],
   "execution_count": 8
  },
  {
   "metadata": {},
   "cell_type": "code",
   "outputs": [],
   "execution_count": null,
   "source": "",
   "id": "2d31c63a821b708c"
  }
 ],
 "metadata": {
  "kernelspec": {
   "display_name": "Python 3",
   "language": "python",
   "name": "python3"
  },
  "language_info": {
   "codemirror_mode": {
    "name": "ipython",
    "version": 2
   },
   "file_extension": ".py",
   "mimetype": "text/x-python",
   "name": "python",
   "nbconvert_exporter": "python",
   "pygments_lexer": "ipython2",
   "version": "2.7.6"
  }
 },
 "nbformat": 4,
 "nbformat_minor": 5
}
