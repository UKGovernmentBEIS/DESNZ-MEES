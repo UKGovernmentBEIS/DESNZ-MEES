{
 "cells": [
  {
   "cell_type": "code",
   "id": "initial_id",
   "metadata": {
    "collapsed": true,
    "ExecuteTime": {
     "end_time": "2024-08-01T11:46:19.557348Z",
     "start_time": "2024-08-01T11:46:19.551831Z"
    }
   },
   "source": [
    "import pandas as pd\n",
    "import numpy as np\n",
    "from dotenv import load_dotenv\n",
    "import os\n",
    "from datetime import datetime"
   ],
   "outputs": [],
   "execution_count": 11
  },
  {
   "metadata": {
    "ExecuteTime": {
     "end_time": "2024-08-01T14:08:32.010950Z",
     "start_time": "2024-08-01T13:59:14.673249Z"
    }
   },
   "cell_type": "code",
   "source": [
    "# load all files to single df\n",
    "load_dotenv()\n",
    "zip_file_name = os.getenv('OS_FILENAME')\n",
    "zip_dir = zip_file_name.replace('.zip', '')\n",
    "csv_file_names = sorted(os.listdir(zip_dir))\n",
    "\n",
    "master_df = pd.DataFrame()\n",
    "for file_name in csv_file_names[:50]:\n",
    "    print(f'file_name: [{file_name}], time: [{datetime.now().strftime(\"%H:%M:%S\")}]')\n",
    "    df = pd.read_csv(f'{zip_dir}/{file_name}', header=None, names=range(30), dtype=object)\n",
    "    master_df = pd.concat([master_df, df])\n",
    "\n",
    "print('done')"
   ],
   "id": "1f697c2ba1403f56",
   "outputs": [
    {
     "name": "stdout",
     "output_type": "stream",
     "text": [
      "file_name: [AddressBasePremium_FULL_2024-05-29_001.csv], time: [14:59:14]\n",
      "file_name: [AddressBasePremium_FULL_2024-05-29_002.csv], time: [14:59:17]\n",
      "file_name: [AddressBasePremium_FULL_2024-05-29_003.csv], time: [14:59:19]\n",
      "file_name: [AddressBasePremium_FULL_2024-05-29_004.csv], time: [14:59:21]\n",
      "file_name: [AddressBasePremium_FULL_2024-05-29_005.csv], time: [14:59:22]\n",
      "file_name: [AddressBasePremium_FULL_2024-05-29_006.csv], time: [14:59:24]\n",
      "file_name: [AddressBasePremium_FULL_2024-05-29_007.csv], time: [14:59:27]\n",
      "file_name: [AddressBasePremium_FULL_2024-05-29_008.csv], time: [14:59:30]\n",
      "file_name: [AddressBasePremium_FULL_2024-05-29_009.csv], time: [14:59:33]\n",
      "file_name: [AddressBasePremium_FULL_2024-05-29_010.csv], time: [14:59:36]\n",
      "file_name: [AddressBasePremium_FULL_2024-05-29_011.csv], time: [14:59:39]\n",
      "file_name: [AddressBasePremium_FULL_2024-05-29_012.csv], time: [14:59:42]\n",
      "file_name: [AddressBasePremium_FULL_2024-05-29_013.csv], time: [14:59:46]\n",
      "file_name: [AddressBasePremium_FULL_2024-05-29_014.csv], time: [14:59:49]\n",
      "file_name: [AddressBasePremium_FULL_2024-05-29_015.csv], time: [14:59:53]\n",
      "file_name: [AddressBasePremium_FULL_2024-05-29_016.csv], time: [14:59:57]\n",
      "file_name: [AddressBasePremium_FULL_2024-05-29_017.csv], time: [15:00:01]\n",
      "file_name: [AddressBasePremium_FULL_2024-05-29_018.csv], time: [15:00:05]\n",
      "file_name: [AddressBasePremium_FULL_2024-05-29_019.csv], time: [15:00:09]\n",
      "file_name: [AddressBasePremium_FULL_2024-05-29_020.csv], time: [15:00:15]\n",
      "file_name: [AddressBasePremium_FULL_2024-05-29_021.csv], time: [15:00:20]\n",
      "file_name: [AddressBasePremium_FULL_2024-05-29_022.csv], time: [15:00:26]\n",
      "file_name: [AddressBasePremium_FULL_2024-05-29_023.csv], time: [15:00:34]\n",
      "file_name: [AddressBasePremium_FULL_2024-05-29_024.csv], time: [15:00:42]\n",
      "file_name: [AddressBasePremium_FULL_2024-05-29_025.csv], time: [15:00:51]\n",
      "file_name: [AddressBasePremium_FULL_2024-05-29_026.csv], time: [15:01:02]\n",
      "file_name: [AddressBasePremium_FULL_2024-05-29_027.csv], time: [15:01:14]\n",
      "file_name: [AddressBasePremium_FULL_2024-05-29_028.csv], time: [15:01:28]\n",
      "file_name: [AddressBasePremium_FULL_2024-05-29_029.csv], time: [15:01:41]\n",
      "file_name: [AddressBasePremium_FULL_2024-05-29_030.csv], time: [15:01:55]\n",
      "file_name: [AddressBasePremium_FULL_2024-05-29_031.csv], time: [15:02:10]\n",
      "file_name: [AddressBasePremium_FULL_2024-05-29_032.csv], time: [15:02:24]\n",
      "file_name: [AddressBasePremium_FULL_2024-05-29_033.csv], time: [15:02:40]\n",
      "file_name: [AddressBasePremium_FULL_2024-05-29_034.csv], time: [15:02:56]\n",
      "file_name: [AddressBasePremium_FULL_2024-05-29_035.csv], time: [15:03:13]\n",
      "file_name: [AddressBasePremium_FULL_2024-05-29_036.csv], time: [15:03:29]\n",
      "file_name: [AddressBasePremium_FULL_2024-05-29_037.csv], time: [15:03:47]\n",
      "file_name: [AddressBasePremium_FULL_2024-05-29_038.csv], time: [15:04:04]\n",
      "file_name: [AddressBasePremium_FULL_2024-05-29_039.csv], time: [15:04:22]\n",
      "file_name: [AddressBasePremium_FULL_2024-05-29_040.csv], time: [15:04:41]\n",
      "file_name: [AddressBasePremium_FULL_2024-05-29_041.csv], time: [15:05:00]\n",
      "file_name: [AddressBasePremium_FULL_2024-05-29_042.csv], time: [15:05:19]\n",
      "file_name: [AddressBasePremium_FULL_2024-05-29_043.csv], time: [15:05:39]\n",
      "file_name: [AddressBasePremium_FULL_2024-05-29_044.csv], time: [15:06:01]\n",
      "file_name: [AddressBasePremium_FULL_2024-05-29_045.csv], time: [15:06:21]\n",
      "file_name: [AddressBasePremium_FULL_2024-05-29_046.csv], time: [15:06:42]\n",
      "file_name: [AddressBasePremium_FULL_2024-05-29_047.csv], time: [15:07:04]\n",
      "file_name: [AddressBasePremium_FULL_2024-05-29_048.csv], time: [15:07:25]\n",
      "file_name: [AddressBasePremium_FULL_2024-05-29_049.csv], time: [15:07:47]\n",
      "file_name: [AddressBasePremium_FULL_2024-05-29_050.csv], time: [15:08:09]\n",
      "done\n"
     ]
    }
   ],
   "execution_count": 46
  },
  {
   "metadata": {
    "ExecuteTime": {
     "end_time": "2024-08-01T14:10:14.677465Z",
     "start_time": "2024-08-01T14:09:06.185086Z"
    }
   },
   "cell_type": "code",
   "source": [
    "# build individual dfs\n",
    "rd = {}\n",
    "record_types = [11, 15, 21, 23, 24, 28, 30, 31, 32]\n",
    "\n",
    "for record_type in record_types:\n",
    "    print(f'record_type: [{record_type}], time: [{datetime.now().strftime(\"%H:%M:%S\")}], count: {len(master_df[master_df[0].astype(int) == record_type])}')\n",
    "    rd[record_type] = master_df[master_df[0].astype(int) == record_type]"
   ],
   "id": "2f62acd834104e48",
   "outputs": [
    {
     "name": "stdout",
     "output_type": "stream",
     "text": [
      "record_type: [11], time: [15:09:08], count: 1507301\n",
      "record_type: [15], time: [15:09:11], count: 1630431\n",
      "record_type: [21], time: [15:09:15], count: 40825714\n",
      "record_type: [23], time: [15:09:55], count: 5174286\n",
      "record_type: [24], time: [15:10:01], count: 0\n",
      "record_type: [28], time: [15:10:03], count: 0\n",
      "record_type: [30], time: [15:10:06], count: 0\n",
      "record_type: [31], time: [15:10:09], count: 0\n",
      "record_type: [32], time: [15:10:11], count: 0\n"
     ]
    }
   ],
   "execution_count": 47
  },
  {
   "metadata": {
    "ExecuteTime": {
     "end_time": "2024-08-01T13:26:37.373521Z",
     "start_time": "2024-08-01T13:26:35.548088Z"
    }
   },
   "cell_type": "code",
   "source": [
    "# add headings\n",
    "type_headings = {\n",
    "    11:['record_identifier', 'change_type', 'pro_order', 'usrn', 'record_type', 'swa_org_ref_naming', 'state', 'state_date', 'street_surface', 'street_classification', 'version', 'street_start_date', 'street_end_date', 'last_update_date', 'record_entry_date', 'street_start_x', 'street_start_y', 'street_start_lat', 'street_start_long', 'street_end_x', 'street_end_y', 'street_end_lat', 'street_end_long', 'street_tolerance'],\n",
    "    15:['record_identifier', 'change_type', 'pro_order', 'usrn', 'street_description', 'locality', 'town_name', 'administrative_area', 'language', 'start_date', 'end_date', 'last_update_date', 'entry_date'],\n",
    "    21:['record_identifier', 'change_type', 'pro_order', 'uprn', 'logical_status', 'blpu_state', 'blpu_state_date', 'parent_uprn', 'x_coordinate', 'y_coordinate', 'latitude', 'longitude', 'rpc', 'local_custodian_code', 'country', 'start_date', 'end_date', 'last_update_date', 'entry_date', 'addressbase_postal', 'postcode_locator', 'multi_occ_count'],\n",
    "    23:['record_identifier', 'change_type', 'pro_order', 'uprn', 'xref_key', 'cross_reference', 'version', 'source', 'start_date', 'end_date', 'last_update_date', 'entry_date'],\n",
    "    24:['record_identifier', 'change_type', 'pro_order', 'uprn', 'lpi_key', 'language', 'logical_status', 'start_date', 'end_date', 'last_update_date', 'entry_date', 'sao_start_number', 'sao_start_suffix', 'sao_end_number', 'sao_end_suffix', 'sao_text', 'pao_start_number', 'pao_start_suffix', 'pao_end_number', 'pao_end_suffix', 'pao_text', 'usrn', 'usrn_match_indicator', 'area_name', 'level', 'official_flag'],\n",
    "    28:['record_identifier', 'change_type', 'pro_order', 'uprn', 'udprn', 'organisation_name', 'department_name', 'sub_building_name', 'building_name', 'building_number', 'dependant_thoroughfare', 'thoroughfare', 'double_dependant_locality', 'dependant_locality', 'post_town', 'postcode', 'postcode_type', 'delivery_point_suffix', 'welsh_dependant_thoroughfare', 'welsh_thoroughfare', 'welsh_double_dependant_locality', 'welsh_dependant_locality', 'welsh_post_town', 'po_box_number', 'process_date', 'start_date', 'end_date', 'last_update_date', 'entry_date'],\n",
    "    30:['record_identifier', 'change_type', 'pro_order', 'uprn', 'succ_key', 'start_date', 'end_date', 'last_update_date', 'entry_date', 'successor'],\n",
    "    31:['record_identifier', 'change_type', 'pro_order', 'uprn', 'org_key', 'organisation', 'legal_name', 'start_date', 'end_date', 'last_update_date', 'entry_date'],\n",
    "    32:['record_identifier', 'change_type', 'pro_order', 'uprn', 'class_key', 'classification_code', 'class_scheme', 'scheme_version', 'start_date', 'end_date', 'last_update_date', 'entry_date']\n",
    "}\n",
    "\n",
    "for record_type in rd.keys():\n",
    "    print(f'type: [{record_type}], time: [{datetime.now().strftime(\"%H:%M:%S\")}]')\n",
    "    rd[record_type].columns = type_headings[record_type]"
   ],
   "id": "699cafdcbee90117",
   "outputs": [
    {
     "name": "stdout",
     "output_type": "stream",
     "text": [
      "type: [11], time: [14:26:35]\n"
     ]
    },
    {
     "ename": "ValueError",
     "evalue": "Length mismatch: Expected axis has 30 elements, new values have 24 elements",
     "output_type": "error",
     "traceback": [
      "\u001B[0;31m---------------------------------------------------------------------------\u001B[0m",
      "\u001B[0;31mValueError\u001B[0m                                Traceback (most recent call last)",
      "Cell \u001B[0;32mIn[23], line 16\u001B[0m\n\u001B[1;32m     14\u001B[0m \u001B[38;5;28;01mfor\u001B[39;00m record_type \u001B[38;5;129;01min\u001B[39;00m rd\u001B[38;5;241m.\u001B[39mkeys():\n\u001B[1;32m     15\u001B[0m     \u001B[38;5;28mprint\u001B[39m(\u001B[38;5;124mf\u001B[39m\u001B[38;5;124m'\u001B[39m\u001B[38;5;124mtype: [\u001B[39m\u001B[38;5;132;01m{\u001B[39;00mrecord_type\u001B[38;5;132;01m}\u001B[39;00m\u001B[38;5;124m], time: [\u001B[39m\u001B[38;5;132;01m{\u001B[39;00mdatetime\u001B[38;5;241m.\u001B[39mnow()\u001B[38;5;241m.\u001B[39mstrftime(\u001B[38;5;124m\"\u001B[39m\u001B[38;5;124m%\u001B[39m\u001B[38;5;124mH:\u001B[39m\u001B[38;5;124m%\u001B[39m\u001B[38;5;124mM:\u001B[39m\u001B[38;5;124m%\u001B[39m\u001B[38;5;124mS\u001B[39m\u001B[38;5;124m\"\u001B[39m)\u001B[38;5;132;01m}\u001B[39;00m\u001B[38;5;124m]\u001B[39m\u001B[38;5;124m'\u001B[39m)\n\u001B[0;32m---> 16\u001B[0m     rd[record_type]\u001B[38;5;241m.\u001B[39mcolumns \u001B[38;5;241m=\u001B[39m type_headings[record_type]\n",
      "File \u001B[0;32m/opt/homebrew/Caskroom/miniconda/base/envs/mees-alpha/lib/python3.8/site-packages/pandas/core/generic.py:6002\u001B[0m, in \u001B[0;36mNDFrame.__setattr__\u001B[0;34m(self, name, value)\u001B[0m\n\u001B[1;32m   6000\u001B[0m \u001B[38;5;28;01mtry\u001B[39;00m:\n\u001B[1;32m   6001\u001B[0m     \u001B[38;5;28mobject\u001B[39m\u001B[38;5;241m.\u001B[39m\u001B[38;5;21m__getattribute__\u001B[39m(\u001B[38;5;28mself\u001B[39m, name)\n\u001B[0;32m-> 6002\u001B[0m     \u001B[38;5;28;01mreturn\u001B[39;00m \u001B[38;5;28;43mobject\u001B[39;49m\u001B[38;5;241;43m.\u001B[39;49m\u001B[38;5;21;43m__setattr__\u001B[39;49m\u001B[43m(\u001B[49m\u001B[38;5;28;43mself\u001B[39;49m\u001B[43m,\u001B[49m\u001B[43m \u001B[49m\u001B[43mname\u001B[49m\u001B[43m,\u001B[49m\u001B[43m \u001B[49m\u001B[43mvalue\u001B[49m\u001B[43m)\u001B[49m\n\u001B[1;32m   6003\u001B[0m \u001B[38;5;28;01mexcept\u001B[39;00m \u001B[38;5;167;01mAttributeError\u001B[39;00m:\n\u001B[1;32m   6004\u001B[0m     \u001B[38;5;28;01mpass\u001B[39;00m\n",
      "File \u001B[0;32m/opt/homebrew/Caskroom/miniconda/base/envs/mees-alpha/lib/python3.8/site-packages/pandas/_libs/properties.pyx:69\u001B[0m, in \u001B[0;36mpandas._libs.properties.AxisProperty.__set__\u001B[0;34m()\u001B[0m\n",
      "File \u001B[0;32m/opt/homebrew/Caskroom/miniconda/base/envs/mees-alpha/lib/python3.8/site-packages/pandas/core/generic.py:730\u001B[0m, in \u001B[0;36mNDFrame._set_axis\u001B[0;34m(self, axis, labels)\u001B[0m\n\u001B[1;32m    725\u001B[0m \u001B[38;5;250m\u001B[39m\u001B[38;5;124;03m\"\"\"\u001B[39;00m\n\u001B[1;32m    726\u001B[0m \u001B[38;5;124;03mThis is called from the cython code when we set the `index` attribute\u001B[39;00m\n\u001B[1;32m    727\u001B[0m \u001B[38;5;124;03mdirectly, e.g. `series.index = [1, 2, 3]`.\u001B[39;00m\n\u001B[1;32m    728\u001B[0m \u001B[38;5;124;03m\"\"\"\u001B[39;00m\n\u001B[1;32m    729\u001B[0m labels \u001B[38;5;241m=\u001B[39m ensure_index(labels)\n\u001B[0;32m--> 730\u001B[0m \u001B[38;5;28;43mself\u001B[39;49m\u001B[38;5;241;43m.\u001B[39;49m\u001B[43m_mgr\u001B[49m\u001B[38;5;241;43m.\u001B[39;49m\u001B[43mset_axis\u001B[49m\u001B[43m(\u001B[49m\u001B[43maxis\u001B[49m\u001B[43m,\u001B[49m\u001B[43m \u001B[49m\u001B[43mlabels\u001B[49m\u001B[43m)\u001B[49m\n\u001B[1;32m    731\u001B[0m \u001B[38;5;28mself\u001B[39m\u001B[38;5;241m.\u001B[39m_clear_item_cache()\n",
      "File \u001B[0;32m/opt/homebrew/Caskroom/miniconda/base/envs/mees-alpha/lib/python3.8/site-packages/pandas/core/internals/managers.py:225\u001B[0m, in \u001B[0;36mBaseBlockManager.set_axis\u001B[0;34m(self, axis, new_labels)\u001B[0m\n\u001B[1;32m    223\u001B[0m \u001B[38;5;28;01mdef\u001B[39;00m \u001B[38;5;21mset_axis\u001B[39m(\u001B[38;5;28mself\u001B[39m, axis: AxisInt, new_labels: Index) \u001B[38;5;241m-\u001B[39m\u001B[38;5;241m>\u001B[39m \u001B[38;5;28;01mNone\u001B[39;00m:\n\u001B[1;32m    224\u001B[0m     \u001B[38;5;66;03m# Caller is responsible for ensuring we have an Index object.\u001B[39;00m\n\u001B[0;32m--> 225\u001B[0m     \u001B[38;5;28;43mself\u001B[39;49m\u001B[38;5;241;43m.\u001B[39;49m\u001B[43m_validate_set_axis\u001B[49m\u001B[43m(\u001B[49m\u001B[43maxis\u001B[49m\u001B[43m,\u001B[49m\u001B[43m \u001B[49m\u001B[43mnew_labels\u001B[49m\u001B[43m)\u001B[49m\n\u001B[1;32m    226\u001B[0m     \u001B[38;5;28mself\u001B[39m\u001B[38;5;241m.\u001B[39maxes[axis] \u001B[38;5;241m=\u001B[39m new_labels\n",
      "File \u001B[0;32m/opt/homebrew/Caskroom/miniconda/base/envs/mees-alpha/lib/python3.8/site-packages/pandas/core/internals/base.py:70\u001B[0m, in \u001B[0;36mDataManager._validate_set_axis\u001B[0;34m(self, axis, new_labels)\u001B[0m\n\u001B[1;32m     67\u001B[0m     \u001B[38;5;28;01mpass\u001B[39;00m\n\u001B[1;32m     69\u001B[0m \u001B[38;5;28;01melif\u001B[39;00m new_len \u001B[38;5;241m!=\u001B[39m old_len:\n\u001B[0;32m---> 70\u001B[0m     \u001B[38;5;28;01mraise\u001B[39;00m \u001B[38;5;167;01mValueError\u001B[39;00m(\n\u001B[1;32m     71\u001B[0m         \u001B[38;5;124mf\u001B[39m\u001B[38;5;124m\"\u001B[39m\u001B[38;5;124mLength mismatch: Expected axis has \u001B[39m\u001B[38;5;132;01m{\u001B[39;00mold_len\u001B[38;5;132;01m}\u001B[39;00m\u001B[38;5;124m elements, new \u001B[39m\u001B[38;5;124m\"\u001B[39m\n\u001B[1;32m     72\u001B[0m         \u001B[38;5;124mf\u001B[39m\u001B[38;5;124m\"\u001B[39m\u001B[38;5;124mvalues have \u001B[39m\u001B[38;5;132;01m{\u001B[39;00mnew_len\u001B[38;5;132;01m}\u001B[39;00m\u001B[38;5;124m elements\u001B[39m\u001B[38;5;124m\"\u001B[39m\n\u001B[1;32m     73\u001B[0m     )\n",
      "\u001B[0;31mValueError\u001B[0m: Length mismatch: Expected axis has 30 elements, new values have 24 elements"
     ]
    }
   ],
   "execution_count": 23
  },
  {
   "metadata": {
    "ExecuteTime": {
     "end_time": "2024-08-01T09:29:32.969039Z",
     "start_time": "2024-08-01T09:29:32.091402Z"
    }
   },
   "cell_type": "code",
   "source": [
    "# keys\n",
    "type_keys = {\n",
    "    11:['usrn'],\n",
    "    15:['usrn'],\n",
    "    21:['uprn'],\n",
    "    23:['xref_key'],\n",
    "    24:['lpi_key'],\n",
    "    28:['udprn'],\n",
    "    30:['succ_key'],\n",
    "    31:['org_key'],\n",
    "    32:['class_key']\n",
    "}\n",
    "\n",
    "for record_type in rd.keys():\n",
    "    print(f'type: [{record_type}], time: [{datetime.now().strftime(\"%H:%M:%S\")}]')\n",
    "    rd[record_type].set_index(type_keys[record_type])"
   ],
   "id": "34904effd6e78274",
   "outputs": [
    {
     "ename": "NameError",
     "evalue": "name 'rd' is not defined",
     "output_type": "error",
     "traceback": [
      "\u001B[0;31m---------------------------------------------------------------------------\u001B[0m",
      "\u001B[0;31mNameError\u001B[0m                                 Traceback (most recent call last)",
      "Cell \u001B[0;32mIn[1], line 14\u001B[0m\n\u001B[1;32m      1\u001B[0m \u001B[38;5;66;03m# keys\u001B[39;00m\n\u001B[1;32m      2\u001B[0m type_keys \u001B[38;5;241m=\u001B[39m {\n\u001B[1;32m      3\u001B[0m     \u001B[38;5;241m11\u001B[39m:[\u001B[38;5;124m'\u001B[39m\u001B[38;5;124musrn\u001B[39m\u001B[38;5;124m'\u001B[39m],\n\u001B[1;32m      4\u001B[0m     \u001B[38;5;241m15\u001B[39m:[\u001B[38;5;124m'\u001B[39m\u001B[38;5;124musrn\u001B[39m\u001B[38;5;124m'\u001B[39m],\n\u001B[0;32m   (...)\u001B[0m\n\u001B[1;32m     11\u001B[0m     \u001B[38;5;241m32\u001B[39m:[\u001B[38;5;124m'\u001B[39m\u001B[38;5;124mclass_key\u001B[39m\u001B[38;5;124m'\u001B[39m]\n\u001B[1;32m     12\u001B[0m }\n\u001B[0;32m---> 14\u001B[0m \u001B[38;5;28;01mfor\u001B[39;00m record_type \u001B[38;5;129;01min\u001B[39;00m \u001B[43mrd\u001B[49m\u001B[38;5;241m.\u001B[39mkeys():\n\u001B[1;32m     15\u001B[0m     \u001B[38;5;28mprint\u001B[39m(\u001B[38;5;124mf\u001B[39m\u001B[38;5;124m'\u001B[39m\u001B[38;5;124mtype: [\u001B[39m\u001B[38;5;132;01m{\u001B[39;00mrecord_type\u001B[38;5;132;01m}\u001B[39;00m\u001B[38;5;124m], time: [\u001B[39m\u001B[38;5;132;01m{\u001B[39;00mdatetime\u001B[38;5;241m.\u001B[39mnow()\u001B[38;5;132;01m}\u001B[39;00m\u001B[38;5;124m], count: [\u001B[39m\u001B[38;5;132;01m{\u001B[39;00m\u001B[38;5;28mlen\u001B[39m(rd[record_type])\u001B[38;5;132;01m}\u001B[39;00m\u001B[38;5;124m]\u001B[39m\u001B[38;5;124m'\u001B[39m)\n\u001B[1;32m     16\u001B[0m     rd[record_type]\u001B[38;5;241m.\u001B[39mset_index(type_keys[record_type])\n",
      "\u001B[0;31mNameError\u001B[0m: name 'rd' is not defined"
     ]
    }
   ],
   "execution_count": 1
  },
  {
   "metadata": {},
   "cell_type": "code",
   "outputs": [],
   "execution_count": null,
   "source": [
    "# joins\n",
    "refs_with_uarn = rd[23][rd[23]['source']=='7666VN']\n",
    "blpu_with_uarn = rd[21].join(refs_with_uarn, on='uprn', how='outer')"
   ],
   "id": "5dc231665ca8a487"
  },
  {
   "metadata": {
    "ExecuteTime": {
     "end_time": "2024-08-01T13:26:59.243145Z",
     "start_time": "2024-08-01T13:26:59.234021Z"
    }
   },
   "cell_type": "code",
   "source": "rd[21][1000:1100]",
   "id": "af94b98b00a0910e",
   "outputs": [
    {
     "data": {
      "text/plain": [
       "Empty DataFrame\n",
       "Columns: [0, 1, 2, 3, 4, 5, 6, 7, 8, 9, 10, 11, 12, 13, 14, 15, 16, 17, 18, 19, 20, 21, 22, 23, 24, 25, 26, 27, 28, 29]\n",
       "Index: []\n",
       "\n",
       "[0 rows x 30 columns]"
      ],
      "text/html": [
       "<div>\n",
       "<style scoped>\n",
       "    .dataframe tbody tr th:only-of-type {\n",
       "        vertical-align: middle;\n",
       "    }\n",
       "\n",
       "    .dataframe tbody tr th {\n",
       "        vertical-align: top;\n",
       "    }\n",
       "\n",
       "    .dataframe thead th {\n",
       "        text-align: right;\n",
       "    }\n",
       "</style>\n",
       "<table border=\"1\" class=\"dataframe\">\n",
       "  <thead>\n",
       "    <tr style=\"text-align: right;\">\n",
       "      <th></th>\n",
       "      <th>0</th>\n",
       "      <th>1</th>\n",
       "      <th>2</th>\n",
       "      <th>3</th>\n",
       "      <th>4</th>\n",
       "      <th>5</th>\n",
       "      <th>6</th>\n",
       "      <th>7</th>\n",
       "      <th>8</th>\n",
       "      <th>9</th>\n",
       "      <th>...</th>\n",
       "      <th>20</th>\n",
       "      <th>21</th>\n",
       "      <th>22</th>\n",
       "      <th>23</th>\n",
       "      <th>24</th>\n",
       "      <th>25</th>\n",
       "      <th>26</th>\n",
       "      <th>27</th>\n",
       "      <th>28</th>\n",
       "      <th>29</th>\n",
       "    </tr>\n",
       "  </thead>\n",
       "  <tbody>\n",
       "  </tbody>\n",
       "</table>\n",
       "<p>0 rows × 30 columns</p>\n",
       "</div>"
      ]
     },
     "execution_count": 24,
     "metadata": {},
     "output_type": "execute_result"
    }
   ],
   "execution_count": 24
  },
  {
   "metadata": {
    "ExecuteTime": {
     "end_time": "2024-08-01T14:13:14.695329Z",
     "start_time": "2024-08-01T14:13:14.690009Z"
    }
   },
   "cell_type": "code",
   "source": [
    "for record_type in rd.keys():\n",
    "    print(f'type: [{record_type}], count: [{len(rd[record_type])}]')"
   ],
   "id": "38c54955f7fe478e",
   "outputs": [
    {
     "name": "stdout",
     "output_type": "stream",
     "text": [
      "type: [11], count: [1507301]\n",
      "type: [15], count: [1630431]\n",
      "type: [21], count: [40825714]\n",
      "type: [23], count: [5174286]\n",
      "type: [24], count: [0]\n",
      "type: [28], count: [0]\n",
      "type: [30], count: [0]\n",
      "type: [31], count: [0]\n",
      "type: [32], count: [0]\n"
     ]
    }
   ],
   "execution_count": 48
  },
  {
   "metadata": {},
   "cell_type": "code",
   "outputs": [],
   "execution_count": null,
   "source": "",
   "id": "2560efe2658a36b4"
  }
 ],
 "metadata": {
  "kernelspec": {
   "display_name": "Python 3",
   "language": "python",
   "name": "python3"
  },
  "language_info": {
   "codemirror_mode": {
    "name": "ipython",
    "version": 2
   },
   "file_extension": ".py",
   "mimetype": "text/x-python",
   "name": "python",
   "nbconvert_exporter": "python",
   "pygments_lexer": "ipython2",
   "version": "2.7.6"
  }
 },
 "nbformat": 4,
 "nbformat_minor": 5
}
