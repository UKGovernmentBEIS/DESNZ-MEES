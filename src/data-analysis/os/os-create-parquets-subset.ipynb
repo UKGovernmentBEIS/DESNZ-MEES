{
 "cells": [
  {
   "cell_type": "code",
   "id": "initial_id",
   "metadata": {
    "collapsed": true,
    "ExecuteTime": {
     "end_time": "2024-09-10T11:01:48.184916Z",
     "start_time": "2024-09-10T11:01:48.137904Z"
    }
   },
   "source": [
    "import polars as pl\n",
    "from dotenv import load_dotenv\n",
    "import os\n",
    "from datetime import datetime\n",
    "load_dotenv()"
   ],
   "outputs": [
    {
     "data": {
      "text/plain": [
       "True"
      ]
     },
     "execution_count": 1,
     "metadata": {},
     "output_type": "execute_result"
    }
   ],
   "execution_count": 1
  },
  {
   "metadata": {
    "ExecuteTime": {
     "end_time": "2024-09-10T11:01:50.058773Z",
     "start_time": "2024-09-10T11:01:50.054852Z"
    }
   },
   "cell_type": "code",
   "source": [
    "# config to load OS\n",
    "os_files_path = os.getenv('OS_FILES_PATH')\n",
    "csv_file_names = sorted(os.listdir(os_files_path))\n",
    "os.makedirs('output', exist_ok=True)\n",
    "record_types = [21,23,24,28,31,32]"
   ],
   "id": "f74932dc91b09456",
   "outputs": [],
   "execution_count": 2
  },
  {
   "metadata": {
    "ExecuteTime": {
     "end_time": "2024-09-10T11:09:59.015270Z",
     "start_time": "2024-09-10T11:09:54.558306Z"
    }
   },
   "cell_type": "code",
   "source": [
    "# get commercial props uprn list\n",
    "df_32 = pl.read_csv(f'{os_files_path}/ID32_Class_Records.csv', infer_schema_length=0)\n",
    "df_32_commercial = df_32.filter(\n",
    "    pl.col('CLASSIFICATION_CODE').str.starts_with('C') | \n",
    "    pl.col('CLASS_SCHEME').str.starts_with('VOA')\n",
    ")"
   ],
   "id": "3fee43112f222601",
   "outputs": [],
   "execution_count": 4
  },
  {
   "metadata": {
    "ExecuteTime": {
     "end_time": "2024-09-10T11:13:16.312414Z",
     "start_time": "2024-09-10T11:11:47.995237Z"
    }
   },
   "cell_type": "code",
   "source": [
    "# read each file and assign to correct os record type\n",
    "for file_name in csv_file_names:\n",
    "    record_type = int(file_name[2:4])\n",
    "    if record_type not in record_types: continue\n",
    "    print(f'file_name: [{file_name}], time: [{datetime.now().strftime(\"%H:%M:%S\")}]')\n",
    "    temp_df = pl.read_csv(f'{os_files_path}/{file_name}', infer_schema_length=0)\n",
    "    # reduce size a bit\n",
    "    if record_type == 23:\n",
    "        temp_df = temp_df.filter(pl.col('SOURCE') == '7666VN')\n",
    "    if record_type == 32:\n",
    "        temp_df = df_32_commercial\n",
    "    else:\n",
    "        temp_df = temp_df.join(df_32_commercial, on='UPRN', how='semi')\n",
    "    \n",
    "    # save to parquet file\n",
    "    temp_df.write_parquet(f'output/os_recordtype_{record_type}.parquet')\n",
    "\n",
    "print('done')"
   ],
   "id": "1fe08477753ab1a",
   "outputs": [
    {
     "name": "stdout",
     "output_type": "stream",
     "text": [
      "file_name: [ID21_BLPU_Records.csv], time: [12:11:47]\n",
      "file_name: [ID23_XREF_Records.csv], time: [12:12:02]\n",
      "file_name: [ID24_LPI_Records.csv], time: [12:12:48]\n",
      "file_name: [ID28_DPA_Records.csv], time: [12:12:58]\n",
      "file_name: [ID31_Org_Records.csv], time: [12:13:02]\n",
      "file_name: [ID32_Class_Records.csv], time: [12:13:03]\n",
      "done\n"
     ]
    }
   ],
   "execution_count": 5
  },
  {
   "metadata": {},
   "cell_type": "code",
   "outputs": [],
   "execution_count": null,
   "source": "",
   "id": "a94b5d3b1a4195a9"
  }
 ],
 "metadata": {
  "kernelspec": {
   "display_name": "Python 3",
   "language": "python",
   "name": "python3"
  },
  "language_info": {
   "codemirror_mode": {
    "name": "ipython",
    "version": 2
   },
   "file_extension": ".py",
   "mimetype": "text/x-python",
   "name": "python",
   "nbconvert_exporter": "python",
   "pygments_lexer": "ipython2",
   "version": "2.7.6"
  }
 },
 "nbformat": 4,
 "nbformat_minor": 5
}
