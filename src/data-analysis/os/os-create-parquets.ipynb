{
 "cells": [
  {
   "cell_type": "code",
   "id": "initial_id",
   "metadata": {
    "collapsed": true,
    "ExecuteTime": {
     "end_time": "2024-09-05T22:16:33.086539Z",
     "start_time": "2024-09-05T22:16:33.028931Z"
    }
   },
   "source": [
    "import polars as pl\n",
    "from dotenv import load_dotenv\n",
    "import os\n",
    "from datetime import datetime\n",
    "load_dotenv()"
   ],
   "outputs": [
    {
     "data": {
      "text/plain": [
       "True"
      ]
     },
     "execution_count": 1,
     "metadata": {},
     "output_type": "execute_result"
    }
   ],
   "execution_count": 1
  },
  {
   "metadata": {
    "ExecuteTime": {
     "end_time": "2024-09-05T22:26:00.332964Z",
     "start_time": "2024-09-05T22:26:00.329085Z"
    }
   },
   "cell_type": "code",
   "source": [
    "# config to load OS\n",
    "os_files_path = os.getenv('OS_FILES_PATH')\n",
    "csv_file_names = sorted(os.listdir(os_files_path))\n",
    "os.makedirs('output', exist_ok=True)\n",
    "record_types = [21,23,24,28,31,32]"
   ],
   "id": "f74932dc91b09456",
   "outputs": [],
   "execution_count": 4
  },
  {
   "metadata": {
    "ExecuteTime": {
     "end_time": "2024-09-05T22:29:15.720128Z",
     "start_time": "2024-09-05T22:26:06.590776Z"
    }
   },
   "cell_type": "code",
   "source": [
    "# read each file and assign to correct os record type\n",
    "for file_name in csv_file_names:\n",
    "    record_type = int(file_name[2:4])\n",
    "    if record_type not in record_types: continue\n",
    "    print(f'file_name: [{file_name}], time: [{datetime.now().strftime(\"%H:%M:%S\")}]')\n",
    "    temp_df = pl.read_csv(f'{os_files_path}/{file_name}', infer_schema_length=0)\n",
    "    # save to parquet file\n",
    "    temp_df.write_parquet(f'output/os_recordtype_{record_type}.parquet')\n",
    "\n",
    "print('done')"
   ],
   "id": "1fe08477753ab1a",
   "outputs": [
    {
     "name": "stdout",
     "output_type": "stream",
     "text": [
      "file_name: [ID21_BLPU_Records.csv], time: [23:26:06]\n",
      "file_name: [ID23_XREF_Records.csv], time: [23:26:32]\n",
      "file_name: [ID24_LPI_Records.csv], time: [23:28:17]\n",
      "file_name: [ID28_DPA_Records.csv], time: [23:28:45]\n",
      "file_name: [ID31_Org_Records.csv], time: [23:29:01]\n",
      "file_name: [ID32_Class_Records.csv], time: [23:29:02]\n",
      "done\n"
     ]
    }
   ],
   "execution_count": 5
  },
  {
   "metadata": {},
   "cell_type": "code",
   "outputs": [],
   "execution_count": null,
   "source": "",
   "id": "a94b5d3b1a4195a9"
  }
 ],
 "metadata": {
  "kernelspec": {
   "display_name": "Python 3",
   "language": "python",
   "name": "python3"
  },
  "language_info": {
   "codemirror_mode": {
    "name": "ipython",
    "version": 2
   },
   "file_extension": ".py",
   "mimetype": "text/x-python",
   "name": "python",
   "nbconvert_exporter": "python",
   "pygments_lexer": "ipython2",
   "version": "2.7.6"
  }
 },
 "nbformat": 4,
 "nbformat_minor": 5
}
