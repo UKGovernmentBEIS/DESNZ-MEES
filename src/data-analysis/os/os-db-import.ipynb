{
 "cells": [
  {
   "cell_type": "code",
   "id": "initial_id",
   "metadata": {
    "collapsed": true,
    "ExecuteTime": {
     "end_time": "2024-09-08T21:25:38.219922Z",
     "start_time": "2024-09-08T21:25:37.998068Z"
    }
   },
   "source": [
    "import polars as pl\n",
    "from dotenv import load_dotenv\n",
    "import os\n",
    "from datetime import datetime\n",
    "import os_record_types as os_records\n",
    "import pyarrow as pa\n",
    "load_dotenv()"
   ],
   "outputs": [
    {
     "data": {
      "text/plain": [
       "True"
      ]
     },
     "execution_count": 1,
     "metadata": {},
     "output_type": "execute_result"
    }
   ],
   "execution_count": 1
  },
  {
   "metadata": {
    "ExecuteTime": {
     "end_time": "2024-09-08T21:25:39.343359Z",
     "start_time": "2024-09-08T21:25:39.334317Z"
    }
   },
   "cell_type": "code",
   "source": [
    "# config to load OS\n",
    "output_folder = os.getenv('OUTPUTS_FOLDER')\n",
    "parquet_file_names = sorted(os.listdir(output_folder))\n",
    "record_types = [21,23,24,28,31,32]"
   ],
   "id": "f74932dc91b09456",
   "outputs": [],
   "execution_count": 2
  },
  {
   "metadata": {
    "ExecuteTime": {
     "start_time": "2024-09-08T21:42:29.113666Z"
    }
   },
   "cell_type": "code",
   "source": [
    "# read each file and assign to correct os record type\n",
    "for file_name in parquet_file_names:\n",
    "    if file_name[0:2] != \"os\": continue\n",
    "    record_type = int(file_name[14:16])\n",
    "    if record_type not in record_types: continue\n",
    "    print(f'file_name: [{file_name}], time: [{datetime.now().strftime(\"%H:%M:%S\")}]')\n",
    "    temp_df = pl.read_parquet(f'{output_folder}/{file_name}')\n",
    "    \n",
    "    # write to db\n",
    "    record = os_records.record_types[record_type]\n",
    "    print(f'writing dataframe to table: {record.TableName}')\n",
    "    temp_df.write_database(\n",
    "        table_name=record.TableName,\n",
    "        connection=os.getenv('DB_CONNECTION'),\n",
    "        # if_table_exists='append', # doesn't work because original os script doesn't quote col names\n",
    "        engine='adbc'\n",
    "    ) \n",
    "    # https://arrow.apache.org/adbc/0.3.0/python/api/adbc_driver_manager.html#adbc_driver_manager.dbapi.Cursor.adbc_ingest\n",
    "\n",
    "print('done')"
   ],
   "id": "1fe08477753ab1a",
   "outputs": [
    {
     "name": "stdout",
     "output_type": "stream",
     "text": [
      "file_name: [os_recordtype_21.parquet], time: [22:42:29]\n",
      "writing dataframe to table: abp_blpu\n",
      "file_name: [os_recordtype_23.parquet], time: [22:44:01]\n"
     ]
    }
   ],
   "execution_count": null
  },
  {
   "metadata": {},
   "cell_type": "code",
   "outputs": [],
   "execution_count": null,
   "source": "",
   "id": "3527abe577581c3c"
  }
 ],
 "metadata": {
  "kernelspec": {
   "display_name": "Python 3",
   "language": "python",
   "name": "python3"
  },
  "language_info": {
   "codemirror_mode": {
    "name": "ipython",
    "version": 2
   },
   "file_extension": ".py",
   "mimetype": "text/x-python",
   "name": "python",
   "nbconvert_exporter": "python",
   "pygments_lexer": "ipython2",
   "version": "2.7.6"
  }
 },
 "nbformat": 4,
 "nbformat_minor": 5
}
