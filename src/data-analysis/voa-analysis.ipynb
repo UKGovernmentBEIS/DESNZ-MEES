{
 "cells": [
  {
   "cell_type": "code",
   "id": "initial_id",
   "metadata": {
    "collapsed": true,
    "ExecuteTime": {
     "end_time": "2024-08-07T15:45:49.280330Z",
     "start_time": "2024-08-07T15:45:49.277749Z"
    }
   },
   "source": [
    "import polars as pl\n",
    "import numpy as np\n",
    "from dotenv import load_dotenv\n",
    "import os\n",
    "from datetime import datetime\n",
    "import os_record_types as os_records"
   ],
   "outputs": [],
   "execution_count": 6
  },
  {
   "metadata": {
    "ExecuteTime": {
     "end_time": "2024-08-07T10:21:11.426246Z",
     "start_time": "2024-08-07T10:21:11.421416Z"
    }
   },
   "cell_type": "code",
   "source": [
    "# load all files to single df\n",
    "load_dotenv()\n",
    "zip_file_name = os.getenv('VOA_FILENAME')\n",
    "zip_dir = zip_file_name.replace('.zip', '')\n",
    "csv_file_names = sorted(os.listdir(zip_dir))"
   ],
   "id": "803b00d4c994d2d3",
   "outputs": [],
   "execution_count": 2
  },
  {
   "metadata": {
    "ExecuteTime": {
     "end_time": "2024-08-07T16:32:16.684907Z",
     "start_time": "2024-08-07T16:32:16.497551Z"
    }
   },
   "cell_type": "code",
   "source": [
    "schema = {\n",
    "    'entry_number': pl.UInt32,\n",
    "    'bill_auth_code': pl.String,\n",
    "    'ndr_community_code': pl.String,\n",
    "    'ba_ref_number': pl.String,\n",
    "    'pri_sec_desc_code': pl.String,\n",
    "    'pri_desc': pl.String,\n",
    "    'uarn': pl.UInt64,\n",
    "    'full_property_identifier': pl.String,\n",
    "    'firm_name': pl.String,\n",
    "    'number_or_name': pl.String,\n",
    "    'street': pl.String,\n",
    "    'town': pl.String,\n",
    "    'postal_district': pl.String,\n",
    "    'county': pl.String,\n",
    "    'postcode': pl.String,\n",
    "    'effective_date': pl.String,\n",
    "    'composite_indicator': pl.String,\n",
    "    'rateable_value': pl.UInt32,\n",
    "    'appeal_stmt_code': pl.String,\n",
    "    'assessment_ref': pl.UInt64,\n",
    "    'list_alteration_date': pl.String,\n",
    "    'scat_code_and_suffix': pl.String,\n",
    "    'sub_street_lvl3': pl.String,\n",
    "    'sub_street_lvl2': pl.String,\n",
    "    'sub_street_lvl1': pl.String,\n",
    "    'case_number': pl.UInt64,\n",
    "    'current_from_date': pl.String,\n",
    "    'current_to_date': pl.String,\n",
    "    '29': pl.String\n",
    "}\n",
    "\n",
    "df_voa = pl.DataFrame()\n",
    "for file_name in csv_file_names:\n",
    "    if '-historic-' in file_name: continue\n",
    "    print(f'file_name: [{file_name}], time: [{datetime.now().strftime(\"%H:%M:%S\")}]')\n",
    "    # temp_df = pl.read_csv(f'{zip_dir}/{file_name}', header=None, names=range(30), dtype=object)\n",
    "    df_voa = pl.read_csv(f'{zip_dir}/{file_name}', has_header=False, schema=schema, separator='*')\n",
    "\n",
    "print('done')"
   ],
   "id": "1f697c2ba1403f56",
   "outputs": [
    {
     "name": "stdout",
     "output_type": "stream",
     "text": [
      "file_name: [uk-englandwales-ndr-2023-listentries-compiled-epoch-0008-baseline-csv.csv], time: [17:32:16]\n",
      "done\n"
     ]
    }
   ],
   "execution_count": 10
  },
  {
   "metadata": {
    "ExecuteTime": {
     "end_time": "2024-08-07T16:32:23.828183Z",
     "start_time": "2024-08-07T16:32:23.824602Z"
    }
   },
   "cell_type": "code",
   "source": "len(df_voa) # 2,048,417",
   "id": "c002f623b544b77b",
   "outputs": [
    {
     "data": {
      "text/plain": [
       "2224756"
      ]
     },
     "execution_count": 11,
     "metadata": {},
     "output_type": "execute_result"
    }
   ],
   "execution_count": 11
  },
  {
   "metadata": {
    "ExecuteTime": {
     "end_time": "2024-08-07T16:32:26.275997Z",
     "start_time": "2024-08-07T16:32:26.269624Z"
    }
   },
   "cell_type": "code",
   "source": "df_voa[:10]",
   "id": "f611a172e8f21051",
   "outputs": [
    {
     "data": {
      "text/plain": [
       "shape: (10, 29)\n",
       "┌────────────┬────────────┬────────────┬────────────┬───┬───────────┬───────────┬───────────┬──────┐\n",
       "│ entry_numb ┆ bill_auth_ ┆ ndr_commun ┆ ba_ref_num ┆ … ┆ case_numb ┆ current_f ┆ current_t ┆ 29   │\n",
       "│ er         ┆ code       ┆ ity_code   ┆ ber        ┆   ┆ er        ┆ rom_date  ┆ o_date    ┆ ---  │\n",
       "│ ---        ┆ ---        ┆ ---        ┆ ---        ┆   ┆ ---       ┆ ---       ┆ ---       ┆ str  │\n",
       "│ u32        ┆ str        ┆ str        ┆ str        ┆   ┆ u64       ┆ str       ┆ str       ┆      │\n",
       "╞════════════╪════════════╪════════════╪════════════╪═══╪═══════════╪═══════════╪═══════════╪══════╡\n",
       "│ 1          ┆ 0116       ┆ null       ┆ 0001243400 ┆ … ┆ 315544922 ┆ 01-APR-20 ┆ null      ┆ null │\n",
       "│            ┆            ┆            ┆ 1011       ┆   ┆ 83        ┆ 23        ┆           ┆      │\n",
       "│ 2          ┆ 0116       ┆ null       ┆ 0001599900 ┆ … ┆ 319035102 ┆ 01-APR-20 ┆ null      ┆ null │\n",
       "│            ┆            ┆            ┆ 1001       ┆   ┆ 83        ┆ 23        ┆           ┆      │\n",
       "│ 3          ┆ 0116       ┆ null       ┆ 0001599900 ┆ … ┆ 318954252 ┆ 01-APR-20 ┆ null      ┆ null │\n",
       "│            ┆            ┆            ┆ 8034       ┆   ┆ 83        ┆ 23        ┆           ┆      │\n",
       "│ 4          ┆ 0116       ┆ null       ┆ 0001599901 ┆ … ┆ 318987032 ┆ 01-APR-20 ┆ null      ┆ null │\n",
       "│            ┆            ┆            ┆ 0012       ┆   ┆ 83        ┆ 23        ┆           ┆      │\n",
       "│ 5          ┆ 0116       ┆ null       ┆ 0001599900 ┆ … ┆ 319149702 ┆ 01-APR-20 ┆ null      ┆ null │\n",
       "│            ┆            ┆            ┆ 5006       ┆   ┆ 83        ┆ 23        ┆           ┆      │\n",
       "│ 6          ┆ 0116       ┆ null       ┆ 0001599900 ┆ … ┆ 318954302 ┆ 01-APR-20 ┆ null      ┆ null │\n",
       "│            ┆            ┆            ┆ 6009       ┆   ┆ 83        ┆ 23        ┆           ┆      │\n",
       "│ 7          ┆ 0116       ┆ null       ┆ 0001358810 ┆ … ┆ 316127242 ┆ 01-APR-20 ┆ null      ┆ null │\n",
       "│            ┆            ┆            ┆ 0001       ┆   ┆ 83        ┆ 23        ┆           ┆      │\n",
       "│ 8          ┆ 0116       ┆ null       ┆ 0001350901 ┆ … ┆ 343469282 ┆ 01-APR-20 ┆ null      ┆ null │\n",
       "│            ┆            ┆            ┆ 1034       ┆   ┆ 83        ┆ 23        ┆           ┆      │\n",
       "│ 9          ┆ 0116       ┆ null       ┆ 0001617001 ┆ … ┆ 365227002 ┆ 25-FEB-20 ┆ null      ┆ null │\n",
       "│            ┆            ┆            ┆ 8002       ┆   ┆ 83        ┆ 23        ┆           ┆      │\n",
       "│ 10         ┆ 0116       ┆ null       ┆ 0001617000 ┆ … ┆ 319129832 ┆ 01-APR-20 ┆ null      ┆ null │\n",
       "│            ┆            ┆            ┆ 6005       ┆   ┆ 83        ┆ 23        ┆           ┆      │\n",
       "└────────────┴────────────┴────────────┴────────────┴───┴───────────┴───────────┴───────────┴──────┘"
      ],
      "text/html": [
       "<div><style>\n",
       ".dataframe > thead > tr,\n",
       ".dataframe > tbody > tr {\n",
       "  text-align: right;\n",
       "  white-space: pre-wrap;\n",
       "}\n",
       "</style>\n",
       "<small>shape: (10, 29)</small><table border=\"1\" class=\"dataframe\"><thead><tr><th>entry_number</th><th>bill_auth_code</th><th>ndr_community_code</th><th>ba_ref_number</th><th>pri_sec_desc_code</th><th>pri_desc</th><th>uarn</th><th>full_property_identifier</th><th>firm_name</th><th>number_or_name</th><th>street</th><th>town</th><th>postal_district</th><th>county</th><th>postcode</th><th>effective_date</th><th>composite_indicator</th><th>rateable_value</th><th>appeal_stmt_code</th><th>assessment_ref</th><th>list_alteration_date</th><th>scat_code_and_suffix</th><th>sub_street_lvl3</th><th>sub_street_lvl2</th><th>sub_street_lvl1</th><th>case_number</th><th>current_from_date</th><th>current_to_date</th><th>29</th></tr><tr><td>u32</td><td>str</td><td>str</td><td>str</td><td>str</td><td>str</td><td>u64</td><td>str</td><td>str</td><td>str</td><td>str</td><td>str</td><td>str</td><td>str</td><td>str</td><td>str</td><td>str</td><td>u32</td><td>str</td><td>u64</td><td>str</td><td>str</td><td>str</td><td>str</td><td>str</td><td>u64</td><td>str</td><td>str</td><td>str</td></tr></thead><tbody><tr><td>1</td><td>&quot;0116&quot;</td><td>null</td><td>&quot;00012434001011&quot;</td><td>&quot;EL&quot;</td><td>&quot;SCHOOL AND PREMISES&quot;</td><td>251031212</td><td>&quot;ST PETER &amp; PAUL VA PRIMARY SCH…</td><td>null</td><td>&quot;ST PETER &amp; PAUL VA PRIMARY SCH…</td><td>&quot;ABERDEEN ROAD&quot;</td><td>&quot;BRISTOL&quot;</td><td>null</td><td>null</td><td>&quot;BS6 6HY&quot;</td><td>null</td><td>null</td><td>35000</td><td>null</td><td>24058889000</td><td>null</td><td>&quot;159G&quot;</td><td>null</td><td>null</td><td>null</td><td>31554492283</td><td>&quot;01-APR-2023&quot;</td><td>null</td><td>null</td></tr><tr><td>2</td><td>&quot;0116&quot;</td><td>null</td><td>&quot;00015999001001&quot;</td><td>&quot;CS&quot;</td><td>&quot;SHOP AND PREMISES&quot;</td><td>4402689000</td><td>&quot;1-3, ABBOTSFORD ROAD, BRISTOL&quot;</td><td>null</td><td>&quot;1-3&quot;</td><td>&quot;ABBOTSFORD ROAD&quot;</td><td>&quot;BRISTOL&quot;</td><td>null</td><td>null</td><td>&quot;BS6 6EZ&quot;</td><td>null</td><td>null</td><td>12500</td><td>null</td><td>25402253000</td><td>null</td><td>&quot;249G&quot;</td><td>null</td><td>null</td><td>null</td><td>31903510283</td><td>&quot;01-APR-2023&quot;</td><td>null</td><td>null</td></tr><tr><td>3</td><td>&quot;0116&quot;</td><td>null</td><td>&quot;00015999008034&quot;</td><td>&quot;CS&quot;</td><td>&quot;SHOP AND PREMISES&quot;</td><td>1033635000</td><td>&quot;EARTH BOUND 8, ABBOTSFORD ROAD…</td><td>null</td><td>&quot;EARTH BOUND 8&quot;</td><td>&quot;ABBOTSFORD ROAD&quot;</td><td>&quot;BRISTOL&quot;</td><td>null</td><td>null</td><td>&quot;BS6 6HB&quot;</td><td>null</td><td>null</td><td>7000</td><td>null</td><td>25402235000</td><td>null</td><td>&quot;249G&quot;</td><td>null</td><td>null</td><td>null</td><td>31895425283</td><td>&quot;01-APR-2023&quot;</td><td>null</td><td>null</td></tr><tr><td>4</td><td>&quot;0116&quot;</td><td>null</td><td>&quot;00015999010012&quot;</td><td>&quot;CS&quot;</td><td>&quot;SHOP AND PREMISES&quot;</td><td>8581828000</td><td>&quot;MODERN GLASS 10, ABBOTSFORD RO…</td><td>null</td><td>&quot;MODERN GLASS 10&quot;</td><td>&quot;ABBOTSFORD ROAD&quot;</td><td>&quot;BRISTOL&quot;</td><td>null</td><td>null</td><td>&quot;BS6 6HB&quot;</td><td>null</td><td>null</td><td>6300</td><td>null</td><td>25402243000</td><td>null</td><td>&quot;249G&quot;</td><td>null</td><td>null</td><td>null</td><td>31898703283</td><td>&quot;01-APR-2023&quot;</td><td>null</td><td>null</td></tr><tr><td>5</td><td>&quot;0116&quot;</td><td>null</td><td>&quot;00015999005006&quot;</td><td>&quot;CS&quot;</td><td>&quot;SHOP AND PREMISES&quot;</td><td>251027212</td><td>&quot;3A &amp; 5, ABBOTSFORD ROAD, BRIST…</td><td>null</td><td>&quot;3A &amp; 5&quot;</td><td>&quot;ABBOTSFORD ROAD&quot;</td><td>&quot;BRISTOL&quot;</td><td>null</td><td>null</td><td>&quot;BS6 6EZ&quot;</td><td>null</td><td>null</td><td>11500</td><td>null</td><td>25402276000</td><td>null</td><td>&quot;249G&quot;</td><td>null</td><td>null</td><td>null</td><td>31914970283</td><td>&quot;01-APR-2023&quot;</td><td>null</td><td>null</td></tr><tr><td>6</td><td>&quot;0116&quot;</td><td>null</td><td>&quot;00015999006009&quot;</td><td>&quot;CS&quot;</td><td>&quot;SHOP AND PREMISES&quot;</td><td>251028212</td><td>&quot;4-6A, ABBOTSFORD ROAD, BRISTOL&quot;</td><td>null</td><td>&quot;4-6A&quot;</td><td>&quot;ABBOTSFORD ROAD&quot;</td><td>&quot;BRISTOL&quot;</td><td>null</td><td>null</td><td>&quot;BS6 6HB&quot;</td><td>null</td><td>null</td><td>7600</td><td>null</td><td>25402236000</td><td>null</td><td>&quot;249G&quot;</td><td>null</td><td>null</td><td>null</td><td>31895430283</td><td>&quot;01-APR-2023&quot;</td><td>null</td><td>null</td></tr><tr><td>7</td><td>&quot;0116&quot;</td><td>null</td><td>&quot;00013588100001&quot;</td><td>&quot;EL&quot;</td><td>&quot;SCHOOL AND PREMISES&quot;</td><td>10980403000</td><td>&quot;CHESTER PARK JUNIOR SCHOOL, AB…</td><td>null</td><td>&quot;CHESTER PARK JUNIOR SCHOOL&quot;</td><td>&quot;ABINGDON ROAD&quot;</td><td>&quot;BRISTOL&quot;</td><td>null</td><td>null</td><td>&quot;BS16 3NX&quot;</td><td>null</td><td>null</td><td>119000</td><td>null</td><td>24059026000</td><td>null</td><td>&quot;159G&quot;</td><td>null</td><td>null</td><td>null</td><td>31612724283</td><td>&quot;01-APR-2023&quot;</td><td>null</td><td>null</td></tr><tr><td>8</td><td>&quot;0116&quot;</td><td>null</td><td>&quot;00013509011034&quot;</td><td>&quot;CO&quot;</td><td>&quot;OFFICES AND PREMISES&quot;</td><td>12732919000</td><td>&quot;THE CHAPEL HOUSE 11A, ALEXANDR…</td><td>null</td><td>&quot;THE CHAPEL HOUSE 11A&quot;</td><td>&quot;ALEXANDRA PARK&quot;</td><td>&quot;BRISTOL&quot;</td><td>&quot;REDLAND&quot;</td><td>null</td><td>&quot;BS6 6QB&quot;</td><td>null</td><td>null</td><td>27000</td><td>null</td><td>24336728000</td><td>null</td><td>&quot;203G&quot;</td><td>null</td><td>null</td><td>null</td><td>34346928283</td><td>&quot;01-APR-2023&quot;</td><td>null</td><td>null</td></tr><tr><td>9</td><td>&quot;0116&quot;</td><td>null</td><td>&quot;00016170018002&quot;</td><td>&quot;CW&quot;</td><td>&quot;WAREHOUSE AND PREMISES&quot;</td><td>7639916000</td><td>&quot;CAPITAL HOUSE 17, ALEXANDRA PA…</td><td>null</td><td>&quot;CAPITAL HOUSE 17&quot;</td><td>&quot;ALEXANDRA PARK&quot;</td><td>&quot;BRISTOL&quot;</td><td>&quot;FISHPONDS&quot;</td><td>null</td><td>&quot;BS16 2BG&quot;</td><td>null</td><td>null</td><td>16500</td><td>null</td><td>27185892000</td><td>null</td><td>&quot;096G&quot;</td><td>null</td><td>null</td><td>null</td><td>36522700283</td><td>&quot;25-FEB-2023&quot;</td><td>null</td><td>null</td></tr><tr><td>10</td><td>&quot;0116&quot;</td><td>null</td><td>&quot;00016170006005&quot;</td><td>&quot;EP&quot;</td><td>&quot;SCHOOL AND PREMISES&quot;</td><td>162938212</td><td>&quot;344 DANCE CENTRE, ALEXANDRA PA…</td><td>null</td><td>&quot;344 DANCE CENTRE&quot;</td><td>&quot;ALEXANDRA PARK&quot;</td><td>&quot;BRISTOL&quot;</td><td>&quot;FISHPONDS&quot;</td><td>null</td><td>&quot;BS16 2BG&quot;</td><td>null</td><td>null</td><td>16250</td><td>null</td><td>25314086000</td><td>null</td><td>&quot;084G&quot;</td><td>null</td><td>null</td><td>null</td><td>31912983283</td><td>&quot;01-APR-2023&quot;</td><td>null</td><td>null</td></tr></tbody></table></div>"
      ]
     },
     "execution_count": 12,
     "metadata": {},
     "output_type": "execute_result"
    }
   ],
   "execution_count": 12
  },
  {
   "metadata": {},
   "cell_type": "code",
   "outputs": [],
   "execution_count": null,
   "source": "",
   "id": "f172468a5bcd2d93"
  }
 ],
 "metadata": {
  "kernelspec": {
   "display_name": "Python 3",
   "language": "python",
   "name": "python3"
  },
  "language_info": {
   "codemirror_mode": {
    "name": "ipython",
    "version": 2
   },
   "file_extension": ".py",
   "mimetype": "text/x-python",
   "name": "python",
   "nbconvert_exporter": "python",
   "pygments_lexer": "ipython2",
   "version": "2.7.6"
  }
 },
 "nbformat": 4,
 "nbformat_minor": 5
}
