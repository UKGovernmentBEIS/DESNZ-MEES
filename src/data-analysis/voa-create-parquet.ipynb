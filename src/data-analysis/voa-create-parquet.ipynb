{
 "cells": [
  {
   "cell_type": "code",
   "id": "initial_id",
   "metadata": {
    "collapsed": true,
    "ExecuteTime": {
     "end_time": "2024-09-10T13:11:13.219880Z",
     "start_time": "2024-09-10T13:11:13.171760Z"
    }
   },
   "source": [
    "import polars as pl\n",
    "from dotenv import load_dotenv\n",
    "import os\n",
    "from datetime import datetime"
   ],
   "outputs": [],
   "execution_count": 1
  },
  {
   "metadata": {
    "ExecuteTime": {
     "end_time": "2024-09-10T13:11:15.328745Z",
     "start_time": "2024-09-10T13:11:15.321544Z"
    }
   },
   "cell_type": "code",
   "source": [
    "load_dotenv()\n",
    "zip_file_name = os.getenv('VOA_FILENAME')\n",
    "zip_dir = zip_file_name.replace('.zip', '')\n",
    "csv_file_names = sorted(os.listdir(zip_dir))"
   ],
   "id": "e8d71711b4fe92f3",
   "outputs": [],
   "execution_count": 2
  },
  {
   "metadata": {
    "ExecuteTime": {
     "end_time": "2024-09-10T13:11:17.632136Z",
     "start_time": "2024-09-10T13:11:16.960293Z"
    }
   },
   "cell_type": "code",
   "source": [
    "schema = {\n",
    "    'entry_number': pl.Int64,\n",
    "    'bill_auth_code': pl.String,\n",
    "    'ndr_community_code': pl.String,\n",
    "    'ba_ref_number': pl.String,\n",
    "    'pri_sec_desc_code': pl.String,\n",
    "    'pri_desc': pl.String,\n",
    "    'uarn': pl.String, # is uint64, but aodc can't deal with that\n",
    "    'full_property_identifier': pl.String,\n",
    "    'firm_name': pl.String,\n",
    "    'number_or_name': pl.String,\n",
    "    'street': pl.String,\n",
    "    'town': pl.String,\n",
    "    'postal_district': pl.String,\n",
    "    'county': pl.String,\n",
    "    'postcode': pl.String,\n",
    "    'effective_date': pl.String,\n",
    "    'composite_indicator': pl.String,\n",
    "    'rateable_value': pl.Int64,\n",
    "    'appeal_stmt_code': pl.String,\n",
    "    'assessment_ref': pl.String, # is uint64, but aodc can't deal with that\n",
    "    'list_alteration_date': pl.String,\n",
    "    'scat_code_and_suffix': pl.String,\n",
    "    'sub_street_lvl3': pl.String,\n",
    "    'sub_street_lvl2': pl.String,\n",
    "    'sub_street_lvl1': pl.String,\n",
    "    'case_number': pl.String, # is uint64, but aodc can't deal with that\n",
    "    'current_from_date': pl.String,\n",
    "    'current_to_date': pl.String,\n",
    "    '29': pl.String # some lines have an extra comma\n",
    "}\n",
    "\n",
    "df_voa = pl.DataFrame()\n",
    "for file_name in csv_file_names:\n",
    "    if '-historic-' in file_name: continue\n",
    "    print(f'file_name: [{file_name}], time: [{datetime.now().strftime(\"%H:%M:%S\")}]')\n",
    "    df_voa = pl.read_csv(f'{zip_dir}/{file_name}', has_header=False, schema=schema, separator='*')\n",
    "\n",
    "print('done')"
   ],
   "id": "5d7e04df68466bc3",
   "outputs": [
    {
     "name": "stdout",
     "output_type": "stream",
     "text": [
      "file_name: [uk-englandwales-ndr-2023-listentries-compiled-epoch-0008-baseline-csv.csv], time: [14:11:16]\n",
      "done\n"
     ]
    }
   ],
   "execution_count": 3
  },
  {
   "metadata": {
    "ExecuteTime": {
     "end_time": "2024-09-10T13:11:22.091785Z",
     "start_time": "2024-09-10T13:11:20.561364Z"
    }
   },
   "cell_type": "code",
   "source": [
    "output_folder = os.getenv('OUTPUTS_FOLDER')\n",
    "os.makedirs(output_folder, exist_ok=True)\n",
    "df_voa.write_parquet(f'{output_folder}/voa-business-rates.parquet')"
   ],
   "id": "813ed0c7c92ec476",
   "outputs": [],
   "execution_count": 4
  },
  {
   "metadata": {},
   "cell_type": "code",
   "outputs": [],
   "execution_count": null,
   "source": "",
   "id": "a9eb3933729578f6"
  }
 ],
 "metadata": {
  "kernelspec": {
   "display_name": "Python 3",
   "language": "python",
   "name": "python3"
  },
  "language_info": {
   "codemirror_mode": {
    "name": "ipython",
    "version": 2
   },
   "file_extension": ".py",
   "mimetype": "text/x-python",
   "name": "python",
   "nbconvert_exporter": "python",
   "pygments_lexer": "ipython2",
   "version": "2.7.6"
  }
 },
 "nbformat": 4,
 "nbformat_minor": 5
}
